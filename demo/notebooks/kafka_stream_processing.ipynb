{
 "cells": [
  {
   "cell_type": "code",
   "execution_count": 1,
   "id": "a8b95bab-fb4f-494a-8347-64ecc725a011",
   "metadata": {},
   "outputs": [],
   "source": [
    "from caseconverter import snakecase\n",
    "from pyspark.sql import SparkSession\n",
    "from pyspark.sql import functions as F\n",
    "from pyspark.sql.types import DateType, DecimalType, IntegerType, LongType, StringType, StructField, StructType"
   ]
  },
  {
   "cell_type": "code",
   "execution_count": 2,
   "id": "ea9de39e-2954-49b4-a695-585ae5344f40",
   "metadata": {},
   "outputs": [
    {
     "name": "stderr",
     "output_type": "stream",
     "text": [
      "WARNING: An illegal reflective access operation has occurred\n",
      "WARNING: Illegal reflective access by org.apache.spark.unsafe.Platform (file:/usr/local/spark-3.1.2-bin-hadoop3.2/jars/spark-unsafe_2.12-3.1.2.jar) to constructor java.nio.DirectByteBuffer(long,int)\n",
      "WARNING: Please consider reporting this to the maintainers of org.apache.spark.unsafe.Platform\n",
      "WARNING: Use --illegal-access=warn to enable warnings of further illegal reflective access operations\n",
      "WARNING: All illegal access operations will be denied in a future release\n"
     ]
    },
    {
     "name": "stdout",
     "output_type": "stream",
     "text": [
      ":: loading settings :: url = jar:file:/usr/local/spark-3.1.2-bin-hadoop3.2/jars/ivy-2.4.0.jar!/org/apache/ivy/core/settings/ivysettings.xml\n"
     ]
    },
    {
     "name": "stderr",
     "output_type": "stream",
     "text": [
      "Ivy Default Cache set to: /home/jovyan/.ivy2/cache\n",
      "The jars for the packages stored in: /home/jovyan/.ivy2/jars\n",
      "org.apache.spark#spark-sql_2.12 added as a dependency\n",
      "org.apache.spark#spark-sql-kafka-0-10_2.12 added as a dependency\n",
      "com.datastax.spark#spark-cassandra-connector_2.12 added as a dependency\n",
      ":: resolving dependencies :: org.apache.spark#spark-submit-parent-de1fd099-b294-4fb4-ac43-0063cec30e9b;1.0\n",
      "\tconfs: [default]\n",
      "\tfound org.apache.spark#spark-sql-kafka-0-10_2.12;3.1.2 in central\n",
      "\tfound org.apache.spark#spark-token-provider-kafka-0-10_2.12;3.1.2 in central\n",
      "\tfound org.apache.kafka#kafka-clients;2.6.0 in central\n",
      "\tfound com.github.luben#zstd-jni;1.4.8-1 in central\n",
      "\tfound org.lz4#lz4-java;1.7.1 in central\n",
      "\tfound org.xerial.snappy#snappy-java;1.1.8.2 in central\n",
      "\tfound org.slf4j#slf4j-api;1.7.30 in central\n",
      "\tfound org.spark-project.spark#unused;1.0.0 in central\n",
      "\tfound org.apache.commons#commons-pool2;2.6.2 in central\n",
      "\tfound com.datastax.spark#spark-cassandra-connector_2.12;3.1.0 in central\n",
      "\tfound com.datastax.spark#spark-cassandra-connector-driver_2.12;3.1.0 in central\n",
      "\tfound com.datastax.oss#java-driver-core-shaded;4.12.0 in central\n",
      "\tfound com.datastax.oss#native-protocol;1.5.0 in central\n",
      "\tfound com.datastax.oss#java-driver-shaded-guava;25.1-jre-graal-sub-1 in central\n",
      "\tfound com.typesafe#config;1.4.1 in central\n",
      "\tfound io.dropwizard.metrics#metrics-core;4.1.18 in central\n",
      "\tfound org.hdrhistogram#HdrHistogram;2.1.12 in central\n",
      "\tfound org.reactivestreams#reactive-streams;1.0.3 in central\n",
      "\tfound com.github.stephenc.jcip#jcip-annotations;1.0-1 in central\n",
      "\tfound com.github.spotbugs#spotbugs-annotations;3.1.12 in central\n",
      "\tfound com.google.code.findbugs#jsr305;3.0.2 in central\n",
      "\tfound com.datastax.oss#java-driver-mapper-runtime;4.12.0 in central\n",
      "\tfound com.datastax.oss#java-driver-query-builder;4.12.0 in central\n",
      "\tfound org.apache.commons#commons-lang3;3.10 in central\n",
      "\tfound com.thoughtworks.paranamer#paranamer;2.8 in central\n",
      "\tfound org.scala-lang#scala-reflect;2.12.11 in central\n",
      ":: resolution report :: resolve 699ms :: artifacts dl 17ms\n",
      "\t:: modules in use:\n",
      "\tcom.datastax.oss#java-driver-core-shaded;4.12.0 from central in [default]\n",
      "\tcom.datastax.oss#java-driver-mapper-runtime;4.12.0 from central in [default]\n",
      "\tcom.datastax.oss#java-driver-query-builder;4.12.0 from central in [default]\n",
      "\tcom.datastax.oss#java-driver-shaded-guava;25.1-jre-graal-sub-1 from central in [default]\n",
      "\tcom.datastax.oss#native-protocol;1.5.0 from central in [default]\n",
      "\tcom.datastax.spark#spark-cassandra-connector-driver_2.12;3.1.0 from central in [default]\n",
      "\tcom.datastax.spark#spark-cassandra-connector_2.12;3.1.0 from central in [default]\n",
      "\tcom.github.luben#zstd-jni;1.4.8-1 from central in [default]\n",
      "\tcom.github.spotbugs#spotbugs-annotations;3.1.12 from central in [default]\n",
      "\tcom.github.stephenc.jcip#jcip-annotations;1.0-1 from central in [default]\n",
      "\tcom.google.code.findbugs#jsr305;3.0.2 from central in [default]\n",
      "\tcom.thoughtworks.paranamer#paranamer;2.8 from central in [default]\n",
      "\tcom.typesafe#config;1.4.1 from central in [default]\n",
      "\tio.dropwizard.metrics#metrics-core;4.1.18 from central in [default]\n",
      "\torg.apache.commons#commons-lang3;3.10 from central in [default]\n",
      "\torg.apache.commons#commons-pool2;2.6.2 from central in [default]\n",
      "\torg.apache.kafka#kafka-clients;2.6.0 from central in [default]\n",
      "\torg.apache.spark#spark-sql-kafka-0-10_2.12;3.1.2 from central in [default]\n",
      "\torg.apache.spark#spark-token-provider-kafka-0-10_2.12;3.1.2 from central in [default]\n",
      "\torg.hdrhistogram#HdrHistogram;2.1.12 from central in [default]\n",
      "\torg.lz4#lz4-java;1.7.1 from central in [default]\n",
      "\torg.reactivestreams#reactive-streams;1.0.3 from central in [default]\n",
      "\torg.scala-lang#scala-reflect;2.12.11 from central in [default]\n",
      "\torg.slf4j#slf4j-api;1.7.30 from central in [default]\n",
      "\torg.spark-project.spark#unused;1.0.0 from central in [default]\n",
      "\torg.xerial.snappy#snappy-java;1.1.8.2 from central in [default]\n",
      "\t:: evicted modules:\n",
      "\torg.slf4j#slf4j-api;1.7.26 by [org.slf4j#slf4j-api;1.7.30] in [default]\n",
      "\t---------------------------------------------------------------------\n",
      "\t|                  |            modules            ||   artifacts   |\n",
      "\t|       conf       | number| search|dwnlded|evicted|| number|dwnlded|\n",
      "\t---------------------------------------------------------------------\n",
      "\t|      default     |   27  |   0   |   0   |   1   ||   26  |   0   |\n",
      "\t---------------------------------------------------------------------\n",
      ":: retrieving :: org.apache.spark#spark-submit-parent-de1fd099-b294-4fb4-ac43-0063cec30e9b\n",
      "\tconfs: [default]\n",
      "\t0 artifacts copied, 26 already retrieved (0kB/12ms)\n",
      "21/10/17 19:01:57 WARN NativeCodeLoader: Unable to load native-hadoop library for your platform... using builtin-java classes where applicable\n",
      "Using Spark's default log4j profile: org/apache/spark/log4j-defaults.properties\n",
      "Setting default log level to \"WARN\".\n",
      "To adjust logging level use sc.setLogLevel(newLevel). For SparkR, use setLogLevel(newLevel).\n"
     ]
    }
   ],
   "source": [
    "spark = (\n",
    "    SparkSession.builder.appName(\n",
    "        \"SparkSessionExample\"\n",
    "    )\n",
    "    .config(\n",
    "        \"spark.jars.packages\",\n",
    "        \"org.apache.spark:spark-sql_2.12:3.1.2,org.apache.spark:spark-sql-kafka-0-10_2.12:3.1.2,com.datastax.spark:spark-cassandra-connector_2.12:3.1.0\",\n",
    "    )\n",
    "    .config(\n",
    "        \"spark.sql.streaming.checkpointLocation\",\n",
    "        \"/tmp/speak_streaming/checkpoint\",\n",
    "    )\n",
    "    .master(\n",
    "        \"spark://spark:7077\"\n",
    "    )\n",
    "    .getOrCreate()\n",
    ")"
   ]
  },
  {
   "cell_type": "code",
   "execution_count": 3,
   "id": "c36d829e-b2ec-4a7e-815f-8d32f3095c0e",
   "metadata": {},
   "outputs": [
    {
     "name": "stderr",
     "output_type": "stream",
     "text": [
      "[Stage 1:>                                                          (0 + 1) / 1]\r"
     ]
    },
    {
     "name": "stdout",
     "output_type": "stream",
     "text": [
      "+-------------------+--------------------+--------+--------------+--------+----------+\n",
      "|       manufacturer|        product_name|    size|     item_type|     sku|base_price|\n",
      "+-------------------+--------------------+--------+--------------+--------+----------+\n",
      "|   VENDOR_ZATARAINS|  JAMBALAYA RICE MIX|   12 OZ| RICE/RICE MIX|42081001|     $2.49|\n",
      "|   VENDOR_ZATARAINS|  JAMBALAYA RICE MIX|    8 OZ| RICE/RICE MIX|42082001|     $1.79|\n",
      "|     VENDOR_YUCATAN|   GUACAMOLE REGULAR|    8 OZ|         OTHER|42083001|     $3.99|\n",
      "|       VENDOR_YUBAN|COFFEE ORIGINAL B...|   12 OZ|COFFEE/CREAMER|42084001|     $3.99|\n",
      "|     VENDOR_YOPLAIT| GOGURT VARIETY PACK|    8 CT|        YOGURT|42085001|     $2.99|\n",
      "|    VENDOR_WISHBONE|    ITALIAN DRESSING|   16 OZ|SALAD DRESSING|42086001|     $2.00|\n",
      "|VENDOR_WHITE_CASTLE|CHEESEBURGER HEAT...|29.28 OZ|         OTHER|42087001|    $11.59|\n",
      "|     VENDOR_WHISKAS| CHOICE CUTS POULTRY|   36 OZ|      PET FOOD|42088001|     $4.99|\n",
      "|      VENDOR_WELCHS|FARMERS PICK CONC...|   46 OZ|         OTHER|42089001|     $3.59|\n",
      "|      VENDOR_WELCHS|     JUICE RED GRAPE|   64 OZ|         JUICE|42090001|     $4.79|\n",
      "|    VENDOR_WEETABIX|CEREAL WHOLE GRAI...|   15 OZ|        CEREAL|42091001|     $6.99|\n",
      "|    VENDOR_VELVEETA|SHELLS & CHEESE M...| 2.39 OZ|  MAC & CHEESE|42092001|     $1.00|\n",
      "|    VENDOR_VELVEETA|SHELLS & CHEESE O...|   12 OZ|  MAC & CHEESE|42093001|     $2.49|\n",
      "|          VENDOR_V8|  SPLASH BERRY BLEND|   64 OZ|         JUICE|42094001|     $2.99|\n",
      "|          VENDOR_V8|  SPLASH MANGO PEACH|   64 OZ|         JUICE|42095001|     $2.99|\n",
      "|          VENDOR_V8|      V-FUSION BERRY|   8 PKG|         JUICE|42096001|     $3.49|\n",
      "|          VENDOR_V8|V-FUSION POMEGRAN...|   46 OZ|         JUICE|42097001|     $3.99|\n",
      "|          VENDOR_V8|V-FUSION REFRESHE...|   46 OZ|         JUICE|42098001|     $3.49|\n",
      "|   VENDOR_UNCLE_SAM|WHOLE GRAIN ORIGI...|   13 OZ|        CEREAL|42099001|     $2.50|\n",
      "| VENDOR_TURKEY_HILL|      ICED TEA LEMON|  128 OZ|         OTHER|42100001|     $2.99|\n",
      "+-------------------+--------------------+--------+--------------+--------+----------+\n",
      "only showing top 20 rows\n",
      "\n"
     ]
    },
    {
     "name": "stderr",
     "output_type": "stream",
     "text": [
      "                                                                                \r"
     ]
    }
   ],
   "source": [
    "catalog_df = spark.read.options(header=True, delimiter=\"|\").csv(\"/mounts/spark-share/Products1.txt\")\n",
    "\n",
    "# replace missing itemType values with \"OTHER\"\n",
    "catalog_df = catalog_df.fillna(\"OTHER\", [\"itemType\"])\n",
    "\n",
    "for col in catalog_df.columns:\n",
    "    # capitalize all string fields\n",
    "    catalog_df = catalog_df.withColumn(col, F.upper(catalog_df[col]))\n",
    "    \n",
    "    # convert column titles to snake case\n",
    "    catalog_df = catalog_df.withColumnRenamed(col, snakecase(col))\n",
    "\n",
    "# we will be splitting the incoming stream by manufacturer, need to replace invalid characters\n",
    "catalog_df = catalog_df.withColumn(\"manufacturer\", F.regexp_replace(\"manufacturer\", \"^\", \"VENDOR_\"))\n",
    "catalog_df = catalog_df.withColumn(\"manufacturer\", F.regexp_replace(\"manufacturer\", \"\\\\s+\", \"_\"))\n",
    "catalog_df = catalog_df.withColumn(\"manufacturer\", F.regexp_replace(\"manufacturer\", \"&\", \"AND\"))\n",
    "catalog_df = catalog_df.withColumn(\"manufacturer\", F.regexp_replace(\"manufacturer\", \"'\", \"\"))\n",
    "\n",
    "catalog_df.show()"
   ]
  },
  {
   "cell_type": "code",
   "execution_count": 4,
   "id": "7d1564e4-aab5-4869-a470-5f3c3633e3e7",
   "metadata": {},
   "outputs": [],
   "source": [
    "transaction_schema = StructType(\n",
    "    [\n",
    "        StructField(\"transaction_id\", LongType(), False),\n",
    "        StructField(\"customer_id\", LongType(), False),\n",
    "        StructField(\"sku\", LongType(), False),\n",
    "        StructField(\"sale_price\", DecimalType(38, 2), False),\n",
    "        StructField(\"date\", DateType(), False),\n",
    "        StructField(\"items_left\", IntegerType(), False),\n",
    "        StructField(\"total_cases_ordered\", IntegerType(), False),\n",
    "    ]\n",
    ")"
   ]
  },
  {
   "cell_type": "code",
   "execution_count": 5,
   "id": "fbb2950e-e62b-4033-8516-82317d019319",
   "metadata": {},
   "outputs": [
    {
     "name": "stdout",
     "output_type": "stream",
     "text": [
      "root\n",
      " |-- transaction_id: long (nullable = true)\n",
      " |-- customer_id: long (nullable = true)\n",
      " |-- sku: long (nullable = true)\n",
      " |-- sale_price: decimal(38,2) (nullable = true)\n",
      " |-- date: date (nullable = true)\n",
      " |-- items_left: integer (nullable = true)\n",
      " |-- total_cases_ordered: integer (nullable = true)\n",
      "\n"
     ]
    }
   ],
   "source": [
    "streaming_df = (\n",
    "    spark.readStream.format(\"kafka\")\n",
    "    .option(\"kafka.bootstrap.servers\", \"kafka:29092\")\n",
    "    .option(\"subscribe\", \"transactions\")\n",
    "    .option(\"startingOffsets\", \"earliest\")\n",
    "    .load()\n",
    ")\n",
    "streaming_df = (\n",
    "    streaming_df.selectExpr(\"CAST(value AS STRING)\")\n",
    "    .select(F.from_json(F.col(\"value\"), transaction_schema).alias(\"t\"))\n",
    "    .select(\"t.*\")\n",
    ")\n",
    "streaming_df.printSchema()"
   ]
  },
  {
   "cell_type": "code",
   "execution_count": 6,
   "id": "6b2c5268-c638-4683-b696-000c900fa2fb",
   "metadata": {},
   "outputs": [
    {
     "name": "stdout",
     "output_type": "stream",
     "text": [
      "root\n",
      " |-- topic: string (nullable = true)\n",
      " |-- key: string (nullable = true)\n",
      " |-- value: string (nullable = true)\n",
      "\n"
     ]
    }
   ],
   "source": [
    "joined_df = (\n",
    "    streaming_df.alias(\"t\")\n",
    "    .join(\n",
    "        catalog_df.alias(\"c\"),\n",
    "        streaming_df.sku == catalog_df.sku,\n",
    "    )\n",
    "    .select(\n",
    "        F.col(\"c.manufacturer\").alias(\"topic\"),\n",
    "        F.col(\"c.sku\").alias(\"key\"),\n",
    "        F.to_json(\n",
    "            F.struct(\n",
    "                F.struct(\n",
    "                    \"t.transaction_id\",\n",
    "                    \"t.customer_id\",\n",
    "                    \"t.sale_price\",\n",
    "                    \"t.date\",\n",
    "                ).alias(\"transaction\"),\n",
    "                F.struct(\n",
    "                    \"c.product_name\",\n",
    "                    \"c.size\",\n",
    "                    \"c.item_type\",\n",
    "                ).alias(\"product_information\"),\n",
    "                F.struct(\n",
    "                    \"t.items_left\",\n",
    "                    \"t.total_cases_ordered\",\n",
    "                ).alias(\"inventory_information\"),\n",
    "            )\n",
    "        ).alias(\"value\"),\n",
    "    )\n",
    ")\n",
    "joined_df.printSchema()"
   ]
  },
  {
   "cell_type": "code",
   "execution_count": null,
   "id": "8959fc0a-6cb2-491d-a3b5-c28c5ca8839b",
   "metadata": {},
   "outputs": [],
   "source": [
    "joined_df.writeStream.outputMode(\"update\").format(\n",
    "    \"kafka\"\n",
    ").option(\n",
    "    \"kafka.bootstrap.servers\",\n",
    "    \"kafka:29092\",\n",
    ").start().awaitTermination()"
   ]
  },
  {
   "cell_type": "code",
   "execution_count": 8,
   "id": "cb0ad00a-bde6-43c9-9efa-61132c7359e3",
   "metadata": {},
   "outputs": [],
   "source": [
    "spark.stop()"
   ]
  }
 ],
 "metadata": {
  "kernelspec": {
   "display_name": "Python 3 (ipykernel)",
   "language": "python",
   "name": "python3"
  },
  "language_info": {
   "codemirror_mode": {
    "name": "ipython",
    "version": 3
   },
   "file_extension": ".py",
   "mimetype": "text/x-python",
   "name": "python",
   "nbconvert_exporter": "python",
   "pygments_lexer": "ipython3",
   "version": "3.9.7"
  }
 },
 "nbformat": 4,
 "nbformat_minor": 5
}
