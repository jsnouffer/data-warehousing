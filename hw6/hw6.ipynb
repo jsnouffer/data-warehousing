{
 "cells": [
  {
   "cell_type": "code",
   "execution_count": 1,
   "id": "7953fc25-9a7f-4a3d-b7e5-c4e6821aa65e",
   "metadata": {},
   "outputs": [],
   "source": [
    "import os\n",
    "import warnings\n",
    "from datetime import date, timedelta\n",
    "from typing import Union\n",
    "\n",
    "import mariadb\n",
    "import pandas as pd\n",
    "from columnar import columnar\n",
    "from dotenv import load_dotenv\n",
    "from IPython.core.interactiveshell import InteractiveShell\n",
    "from pandas.tseries.holiday import USFederalHolidayCalendar\n",
    "\n",
    "warnings.filterwarnings(\"ignore\")\n",
    "\n",
    "_ = load_dotenv(\"config.env\")\n",
    "InteractiveShell.ast_node_interactivity = \"all\"\n",
    "DATABASE_NAME: str = \"data_mart\""
   ]
  },
  {
   "cell_type": "code",
   "execution_count": 2,
   "id": "638e6b6d-3e85-4acd-ae50-778792c237fc",
   "metadata": {},
   "outputs": [],
   "source": [
    "datamart_connection = mariadb.connect(\n",
    "    host=\"127.0.0.1\",\n",
    "    port=23306,\n",
    "    user=os.getenv(\"user\"),\n",
    "    password=os.getenv(\"password\"),\n",
    "    autocommit=False,\n",
    ")\n",
    "datamart_cursor = datamart_connection.cursor()\n",
    "\n",
    "team8_connection = mariadb.connect(\n",
    "    host=\"127.0.0.1\",\n",
    "    port=3306,\n",
    "    user=\"root\",\n",
    "    database=\"data_warehouse\",\n",
    "    autocommit=False,\n",
    ")\n",
    "team8_cursor = team8_connection.cursor()"
   ]
  },
  {
   "cell_type": "markdown",
   "id": "e30e00e6-7e2a-4556-a3d7-a3aed3cbde52",
   "metadata": {},
   "source": [
    "# Part 1a - Replace product table with the conformed product table"
   ]
  },
  {
   "cell_type": "code",
   "execution_count": 3,
   "id": "d44cbb0c-e8b3-4ccb-96d5-d9992e5d997f",
   "metadata": {},
   "outputs": [
    {
     "data": {
      "text/plain": [
       "(2075, 14)"
      ]
     },
     "execution_count": 3,
     "metadata": {},
     "output_type": "execute_result"
    },
    {
     "data": {
      "text/plain": [
       "Index(['product_key', 'sku', 'product_name', 'product_class_id',\n",
       "       'product_subcategory', 'product_category', 'product_department',\n",
       "       'product_family', 'size', 'number_per_case', 'brand_name',\n",
       "       'manufacturer', 'supplier', 'product_class_source_key'],\n",
       "      dtype='object')"
      ]
     },
     "execution_count": 3,
     "metadata": {},
     "output_type": "execute_result"
    }
   ],
   "source": [
    "# original product dimension table was copied to database \"backups\"\n",
    "datamart_cursor.execute(\"SELECT * FROM backups.product_dimension\")\n",
    "columns: list = [desc[0] for desc in datamart_cursor.description]\n",
    "original_product_dimensions: pd.DataFrame = pd.DataFrame(data=datamart_cursor.fetchall(), columns=columns)\n",
    "original_product_dimensions.shape\n",
    "original_product_dimensions.columns"
   ]
  },
  {
   "cell_type": "code",
   "execution_count": 4,
   "id": "65663ed4-2f44-40f6-b13c-c551e504a61e",
   "metadata": {},
   "outputs": [
    {
     "data": {
      "text/plain": [
       "(2075, 11)"
      ]
     },
     "execution_count": 4,
     "metadata": {},
     "output_type": "execute_result"
    },
    {
     "data": {
      "text/plain": [
       "Index(['ProductKey1', 'sku', 'product_name', 'product_class_id', 'subcategory',\n",
       "       'category', 'department', 'product_family', 'size', 'brandName',\n",
       "       'supplier'],\n",
       "      dtype='object')"
      ]
     },
     "execution_count": 4,
     "metadata": {},
     "output_type": "execute_result"
    }
   ],
   "source": [
    "new_product_dimensions: pd.DataFrame = pd.read_csv(\"ConformedProducts.txt\", sep=\"\\t\")\n",
    "new_product_dimensions.shape\n",
    "new_product_dimensions.columns"
   ]
  },
  {
   "cell_type": "markdown",
   "id": "f4d1f90d-d125-4825-b624-a656f513a3a3",
   "metadata": {},
   "source": [
    "### Add new product class source to meta table"
   ]
  },
  {
   "cell_type": "code",
   "execution_count": 5,
   "id": "3594fd0f-f5a1-4388-b4c3-2d4a0460981c",
   "metadata": {},
   "outputs": [],
   "source": [
    "datamart_cursor.execute(\n",
    "    \"\"\"\n",
    "    INSERT IGNORE INTO {db}.product_class_source (source_key, source) VALUES (?, ?)\n",
    "    \"\"\".format(\n",
    "        db=DATABASE_NAME\n",
    "    ),\n",
    "    (\n",
    "        7,\n",
    "        \"FROM CONFORMED PRODUCT TABLE\",\n",
    "    ),\n",
    ")\n",
    "datamart_connection.commit()"
   ]
  },
  {
   "cell_type": "markdown",
   "id": "b863e080-b9f6-4cc3-8343-e695fc20518a",
   "metadata": {},
   "source": [
    "### Create intermediate mapping table"
   ]
  },
  {
   "cell_type": "code",
   "execution_count": 6,
   "id": "33a6b07b-38dd-4b0d-9144-b4b6d60bfa34",
   "metadata": {},
   "outputs": [],
   "source": [
    "remap_product_categories: bool = False\n",
    "\n",
    "if remap_product_categories:\n",
    "    datamart_cursor.execute(\"DROP TABLE IF EXISTS {db}.product_dimension_change_mapping\".format(db=DATABASE_NAME))\n",
    "    datamart_cursor.execute(\n",
    "        \"\"\"\n",
    "        CREATE TABLE IF NOT EXISTS {db}.product_dimension_change_mapping (\n",
    "            sku INT UNSIGNED PRIMARY KEY NOT NULL,\n",
    "            old_product_key INT UNSIGNED NOT NULL,\n",
    "            old_product_class_id INT UNSIGNED NOT NULL,\n",
    "            old_product_class_source_key INT UNSIGNED NOT NULL,\n",
    "            new_product_key INT UNSIGNED NOT NULL,\n",
    "            new_product_class_id INT UNSIGNED NOT NULL,\n",
    "            new_product_class_source_key INT UNSIGNED NOT NULL\n",
    "        )\n",
    "        \"\"\".format(\n",
    "            db=DATABASE_NAME\n",
    "        )\n",
    "    )\n",
    "\n",
    "    for original_dimension in original_product_dimensions.itertuples():\n",
    "        new_dimension = new_product_dimensions[new_product_dimensions[\"sku\"] == original_dimension.sku].iloc[0]\n",
    "        new_product_class_id = new_dimension.product_class_id.item()\n",
    "        new_product_class_source_key = 7 if original_dimension.product_class_id != new_product_class_id else original_dimension.product_class_source_key\n",
    "        \n",
    "        datamart_cursor.execute(\n",
    "            \"\"\"\n",
    "            INSERT INTO {db}.product_dimension_change_mapping (\n",
    "                sku, old_product_key, old_product_class_id, old_product_class_source_key,\n",
    "                new_product_key, new_product_class_id, new_product_class_source_key\n",
    "            ) VALUES (?, ?, ?, ?, ?, ?, ?)\n",
    "            \"\"\".format(\n",
    "                db=DATABASE_NAME\n",
    "            ),\n",
    "            (\n",
    "                original_dimension.sku,\n",
    "                original_dimension.product_key,\n",
    "                original_dimension.product_class_id,\n",
    "                original_dimension.product_class_source_key,\n",
    "                new_dimension.ProductKey1.item(),\n",
    "                new_product_class_id,\n",
    "                new_product_class_source_key\n",
    "            ),\n",
    "        )\n",
    "    datamart_connection.commit()"
   ]
  },
  {
   "cell_type": "code",
   "execution_count": 7,
   "id": "1600dd40-3353-4819-9999-3f3e30dcce14",
   "metadata": {},
   "outputs": [
    {
     "name": "stdout",
     "output_type": "stream",
     "text": [
      "(42081001, 1, 57, 2, 1, 57, 2)\n",
      "(42082001, 2, 57, 2, 2, 57, 2)\n",
      "(42083001, 3, 83, 6, 3, 99, 7)\n",
      "(42084001, 4, 7, 4, 4, 90, 7)\n",
      "(42085001, 5, 6, 1, 5, 6, 1)\n",
      "(42086001, 6, 48, 6, 6, 260, 7)\n",
      "(42087001, 7, 65, 6, 7, 65, 6)\n",
      "(42088001, 8, 0, 0, 8, 77, 7)\n",
      "(42089001, 9, 30, 3, 9, 99, 7)\n",
      "(42090001, 10, 30, 1, 10, 30, 1)\n",
      "(42091001, 11, 35, 1, 11, 35, 1)\n",
      "(42092001, 12, 5, 2, 12, 10, 7)\n",
      "(42093001, 13, 5, 2, 13, 5, 2)\n",
      "(42094001, 14, 30, 1, 14, 30, 1)\n",
      "(42095001, 15, 30, 1, 15, 30, 1)\n",
      "(42096001, 16, 30, 1, 16, 30, 1)\n",
      "(42097001, 17, 30, 1, 17, 30, 1)\n",
      "(42098001, 18, 30, 1, 18, 30, 1)\n",
      "(42099001, 19, 35, 1, 19, 35, 1)\n",
      "(42100001, 20, 52, 6, 20, 52, 6)\n",
      "(42101001, 21, 30, 1, 21, 30, 1)\n",
      "(42102001, 22, 30, 1, 22, 30, 1)\n",
      "(42103001, 23, 1, 1, 23, 1, 1)\n",
      "(42104001, 24, 13, 1, 24, 13, 1)\n",
      "(42105001, 25, 13, 1, 25, 13, 1)\n"
     ]
    }
   ],
   "source": [
    "datamart_cursor.execute(\"SELECT * FROM {db}.product_dimension_change_mapping LIMIT 25\".format(db=DATABASE_NAME))\n",
    "for row in datamart_cursor.fetchall():\n",
    "    print(row)"
   ]
  },
  {
   "cell_type": "markdown",
   "id": "8e73924a-c5b5-4bba-944c-663dec73bbe4",
   "metadata": {},
   "source": [
    "### Create new Product Dimension table with conformed data"
   ]
  },
  {
   "cell_type": "code",
   "execution_count": 8,
   "id": "1102fc54-b528-459e-923d-79b22a5a2c14",
   "metadata": {},
   "outputs": [],
   "source": [
    "if remap_product_categories:\n",
    "    datamart_cursor.execute(\"DROP TABLE IF EXISTS {db}.product_dimension\".format(db=DATABASE_NAME))\n",
    "    datamart_cursor.execute(\n",
    "        \"\"\"\n",
    "        CREATE TABLE IF NOT EXISTS {db}.product_dimension (\n",
    "            product_key INT PRIMARY KEY AUTO_INCREMENT,\n",
    "            sku INT UNSIGNED NOT NULL,\n",
    "            product_name TEXT NOT NULL,\n",
    "            product_class_id INT UNSIGNED,\n",
    "            product_subcategory TEXT,\n",
    "            product_category TEXT,\n",
    "            product_department TEXT,\n",
    "            product_family TEXT,\n",
    "            size TEXT NOT NULL,\n",
    "            brand_name TEXT,\n",
    "            supplier TEXT NOT NULL\n",
    "        )\n",
    "        \"\"\".format(\n",
    "            db=DATABASE_NAME\n",
    "        )\n",
    "    )\n",
    "    \n",
    "    for row in new_product_dimensions.itertuples():\n",
    "        datamart_cursor.execute(\n",
    "            \"\"\"\n",
    "            INSERT INTO {db}.product_dimension (sku, product_name, product_class_id, product_subcategory, product_category, product_department,\n",
    "            product_family, size, brand_name, supplier)\n",
    "            VALUES (?, ?, ?, ?, ?, ?, ?, ?, ?, ?)\n",
    "            \"\"\".format(\n",
    "                db=DATABASE_NAME\n",
    "            ),\n",
    "            (\n",
    "                row.sku,\n",
    "                row.product_name,\n",
    "                row.product_class_id,\n",
    "                row.subcategory,\n",
    "                row.category,\n",
    "                row.department,\n",
    "                row.product_family,\n",
    "                row.size,\n",
    "                row.brandName,\n",
    "                row.supplier,\n",
    "            ),\n",
    "        )\n",
    "        datamart_connection.commit()"
   ]
  },
  {
   "cell_type": "code",
   "execution_count": 9,
   "id": "dda79ae5-0623-4d97-b67e-db28a092c0a3",
   "metadata": {},
   "outputs": [
    {
     "name": "stdout",
     "output_type": "stream",
     "text": [
      "(1, 42081001, 'Jambalaya Rice Mix', 57, 'Rice', 'Starchy Foods', 'Starchy Foods', 'Food', '12 oz', 'Zatarains', 'Rowan Warehouse')\n",
      "(2, 42082001, 'Jambalaya Rice Mix', 57, 'Rice', 'Starchy Foods', 'Starchy Foods', 'Food', '8 oz', 'Zatarains', 'Rowan Warehouse')\n",
      "(3, 42083001, 'Guacamole Regular', 99, 'Fresh Fruit', 'Fruit', 'Produce', 'Food', '8 oz', 'Yucatan', 'Rowan Warehouse')\n",
      "(4, 42084001, 'Coffee Original Blend', 90, 'Coffee', 'Hot Beverages', 'Beverages', 'Drink', '12 oz', 'Yuban', 'Rowan Warehouse')\n",
      "(5, 42085001, 'GoGurt Variety Pack', 6, 'Yogurt', 'Dairy', 'Dairy', 'Food', '8 ct', 'Yoplait', 'Rowan Warehouse')\n",
      "(6, 42086001, 'Italian Dressing', 260, 'Dressings', 'Baking Goods', 'Baking Products', 'Food', '16 oz', 'Wishbone', 'Rowan Warehouse')\n",
      "(7, 42087001, 'Cheeseburger Heat & Serve Sliders', 65, 'Hamburger', 'Meat', 'Meat', 'Food', '29.28 oz', 'White Castle', 'Rowan Warehouse')\n",
      "(8, 42088001, 'Choice Cuts Poultry', 77, 'Fresh Chicken', 'Meat', 'Deli', 'Food', '36 oz', 'Whiskas', 'Rowan Warehouse')\n",
      "(9, 42089001, 'Farmers Pick Concord Grape', 99, 'Fresh Fruit', 'Fruit', 'Produce', 'Food', '46 oz', 'Welchs', 'Rowan Warehouse')\n",
      "(10, 42090001, 'Juice Red Grape', 30, 'Juice', 'Pure Juice Beverages', 'Beverages', 'Drink', '64 oz', 'Welchs', 'Rowan Warehouse')\n",
      "(11, 42091001, 'Cereal Whole Grain Biscuit', 35, 'Cereal', 'Breakfast Foods', 'Breakfast Foods', 'Food', '15 oz', 'Weetabix', 'Rowan Warehouse')\n",
      "(12, 42092001, 'Shells & Cheese Microwave Cup', 10, 'TV Dinner', 'Frozen Entrees', 'Frozen Foods', 'Food', '2.39 oz', 'Velveeta', 'Rowan Warehouse')\n",
      "(13, 42093001, 'Shells & Cheese Original', 5, 'Pasta', 'Starchy Foods', 'Starchy Foods', 'Food', '12 oz', 'Velveeta', 'Rowan Warehouse')\n",
      "(14, 42094001, 'Splash Berry Blend', 30, 'Juice', 'Pure Juice Beverages', 'Beverages', 'Drink', '64 oz', 'V8', 'Rowan Warehouse')\n",
      "(15, 42095001, 'Splash Mango Peach', 30, 'Juice', 'Pure Juice Beverages', 'Beverages', 'Drink', '64 oz', 'V8', 'Rowan Warehouse')\n",
      "(16, 42096001, 'V-Fusion Berry', 30, 'Juice', 'Pure Juice Beverages', 'Beverages', 'Drink', '8 pkg', 'V8', 'Rowan Warehouse')\n",
      "(17, 42097001, 'V-Fusion Pomegranate Blueberry', 30, 'Juice', 'Pure Juice Beverages', 'Beverages', 'Drink', '46 oz', 'V8', 'Rowan Warehouse')\n",
      "(18, 42098001, 'V-Fusion Refreshers Peach Strawberry', 30, 'Juice', 'Pure Juice Beverages', 'Beverages', 'Drink', '46 oz', 'V8', 'Rowan Warehouse')\n",
      "(19, 42099001, 'Whole Grain Original Cereal', 35, 'Cereal', 'Breakfast Foods', 'Breakfast Foods', 'Food', '13 oz', 'Uncle Sam', 'Rowan Warehouse')\n",
      "(20, 42100001, 'Iced Tea Lemon', 52, 'Flavored Drinks', 'Drinks', 'Beverages', 'Drink', '128 oz', 'Turkey Hill', 'Rowan Warehouse')\n",
      "(21, 42101001, 'Orange Juice Some Pulp', 30, 'Juice', 'Pure Juice Beverages', 'Beverages', 'Drink', '89 oz', 'Tropicana', 'Rowan Warehouse')\n",
      "(22, 42102001, 'Trop50 Calcium', 30, 'Juice', 'Pure Juice Beverages', 'Beverages', 'Drink', '89 oz', 'Tropicana', 'Rowan Warehouse')\n",
      "(23, 42103001, 'Tri-State Almonds', 1, 'Nuts', 'Specialty', 'Produce', 'Food', '15.5', 'Tri-State', 'Rowan Warehouse')\n",
      "(24, 42104001, 'Tri-State Asparagus', 13, 'Fresh Vegetables', 'Vegetables', 'Produce', 'Food', '14.8', 'Tri-State', 'Rowan Warehouse')\n",
      "(25, 42105001, 'Tri-State Baby Onion', 13, 'Fresh Vegetables', 'Vegetables', 'Produce', 'Food', '11.8', 'Tri-State', 'Rowan Warehouse')\n"
     ]
    }
   ],
   "source": [
    "datamart_cursor.execute(\"SELECT * FROM {db}.product_dimension LIMIT 25\".format(db=DATABASE_NAME))\n",
    "for row in datamart_cursor.fetchall():\n",
    "    print(row)"
   ]
  },
  {
   "cell_type": "markdown",
   "id": "79c622a7-7db8-4ad1-a9ec-9bc90bb70d21",
   "metadata": {},
   "source": [
    "# Part 1b - Ingest transactions for Jan-June 2021 from Team 7 / Team 8 databases"
   ]
  },
  {
   "cell_type": "markdown",
   "id": "61660919-ed49-4cb5-a4e9-b540b1402b57",
   "metadata": {},
   "source": [
    "### Expand date dimension table"
   ]
  },
  {
   "cell_type": "code",
   "execution_count": 10,
   "id": "4a1b0a44-5de7-4743-84d6-b72e4f6b27b7",
   "metadata": {},
   "outputs": [],
   "source": [
    "starting_key = 366  # last date key from 2020\n",
    "year = 2021\n",
    "current_date: date = date(year, 1, 1)\n",
    "stop_date: date = date(year, 12, 31)\n",
    "fiscal_year_start = date(year, 8, 1)\n",
    "\n",
    "holidays = (\n",
    "    USFederalHolidayCalendar().holidays(start=current_date.isoformat(), end=stop_date.isoformat()).to_pydatetime()\n",
    ")\n",
    "holidays = [d.date() for d in holidays]\n",
    "\n",
    "seasons = [\n",
    "    (\"winter\", (date(year, 1, 1), date(year, 3, 20))),\n",
    "    (\"spring\", (date(year, 3, 21), date(year, 6, 20))),\n",
    "    (\"summer\", (date(year, 6, 21), date(year, 9, 22))),\n",
    "    (\"autumn\", (date(year, 9, 23), date(year, 12, 20))),\n",
    "    (\"winter\", (date(year, 12, 21), date(year, 12, 31))),\n",
    "]\n",
    "\n",
    "while current_date <= stop_date:\n",
    "    time_tuple = current_date.timetuple()\n",
    "    weekday = current_date.strftime(\"%A\")\n",
    "\n",
    "    datamart_cursor.execute(\n",
    "        \"\"\"\n",
    "        INSERT IGNORE INTO {db}.dates (\n",
    "            date_key, datetime, day_in_month, day_in_year, week_number, month_number, month_text,\n",
    "            quarter, year, fiscal_year, is_holiday, is_weekend, season\n",
    "        ) VALUES (?, ?, ?, ?, ?, ?, ?, ?, ?, ?, ?, ?, ?)\n",
    "        \"\"\".format(\n",
    "            db=DATABASE_NAME\n",
    "        ),\n",
    "        (\n",
    "            starting_key + time_tuple.tm_yday,\n",
    "            current_date.isoformat(),\n",
    "            time_tuple.tm_mday,\n",
    "            time_tuple.tm_yday,\n",
    "            current_date.isocalendar()[1],\n",
    "            time_tuple.tm_mon,\n",
    "            current_date.strftime(\"%B\"),\n",
    "            pd.Timestamp(current_date).quarter,\n",
    "            time_tuple.tm_year,\n",
    "            time_tuple.tm_year if current_date >= fiscal_year_start else time_tuple.tm_year - 1,\n",
    "            True if current_date in holidays else False,\n",
    "            True if weekday == \"Saturday\" or weekday == \"Sunday\" else False,\n",
    "            next(season for season, (start, end) in seasons if start <= current_date <= end),\n",
    "        ),\n",
    "    )\n",
    "\n",
    "    current_date = current_date + timedelta(days=1)\n",
    "datamart_connection.commit()"
   ]
  },
  {
   "cell_type": "code",
   "execution_count": 11,
   "id": "08a872e5-19b2-43f5-af43-55d91b71cd68",
   "metadata": {},
   "outputs": [
    {
     "name": "stdout",
     "output_type": "stream",
     "text": [
      "(367, datetime.date(2021, 1, 1), 1, 1, 53, 1, 'January', 1, 2021, 2020, 1, 0, 'winter')\n",
      "(368, datetime.date(2021, 1, 2), 2, 2, 53, 1, 'January', 1, 2021, 2020, 0, 1, 'winter')\n",
      "(369, datetime.date(2021, 1, 3), 3, 3, 53, 1, 'January', 1, 2021, 2020, 0, 1, 'winter')\n",
      "(370, datetime.date(2021, 1, 4), 4, 4, 1, 1, 'January', 1, 2021, 2020, 0, 0, 'winter')\n",
      "(371, datetime.date(2021, 1, 5), 5, 5, 1, 1, 'January', 1, 2021, 2020, 0, 0, 'winter')\n",
      "(372, datetime.date(2021, 1, 6), 6, 6, 1, 1, 'January', 1, 2021, 2020, 0, 0, 'winter')\n",
      "(373, datetime.date(2021, 1, 7), 7, 7, 1, 1, 'January', 1, 2021, 2020, 0, 0, 'winter')\n",
      "(374, datetime.date(2021, 1, 8), 8, 8, 1, 1, 'January', 1, 2021, 2020, 0, 0, 'winter')\n",
      "(375, datetime.date(2021, 1, 9), 9, 9, 1, 1, 'January', 1, 2021, 2020, 0, 1, 'winter')\n",
      "(376, datetime.date(2021, 1, 10), 10, 10, 1, 1, 'January', 1, 2021, 2020, 0, 1, 'winter')\n",
      "(377, datetime.date(2021, 1, 11), 11, 11, 2, 1, 'January', 1, 2021, 2020, 0, 0, 'winter')\n",
      "(378, datetime.date(2021, 1, 12), 12, 12, 2, 1, 'January', 1, 2021, 2020, 0, 0, 'winter')\n",
      "(379, datetime.date(2021, 1, 13), 13, 13, 2, 1, 'January', 1, 2021, 2020, 0, 0, 'winter')\n",
      "(380, datetime.date(2021, 1, 14), 14, 14, 2, 1, 'January', 1, 2021, 2020, 0, 0, 'winter')\n",
      "(381, datetime.date(2021, 1, 15), 15, 15, 2, 1, 'January', 1, 2021, 2020, 0, 0, 'winter')\n",
      "(382, datetime.date(2021, 1, 16), 16, 16, 2, 1, 'January', 1, 2021, 2020, 0, 1, 'winter')\n",
      "(383, datetime.date(2021, 1, 17), 17, 17, 2, 1, 'January', 1, 2021, 2020, 0, 1, 'winter')\n",
      "(384, datetime.date(2021, 1, 18), 18, 18, 3, 1, 'January', 1, 2021, 2020, 1, 0, 'winter')\n",
      "(385, datetime.date(2021, 1, 19), 19, 19, 3, 1, 'January', 1, 2021, 2020, 0, 0, 'winter')\n",
      "(386, datetime.date(2021, 1, 20), 20, 20, 3, 1, 'January', 1, 2021, 2020, 0, 0, 'winter')\n",
      "(387, datetime.date(2021, 1, 21), 21, 21, 3, 1, 'January', 1, 2021, 2020, 0, 0, 'winter')\n",
      "(388, datetime.date(2021, 1, 22), 22, 22, 3, 1, 'January', 1, 2021, 2020, 0, 0, 'winter')\n",
      "(389, datetime.date(2021, 1, 23), 23, 23, 3, 1, 'January', 1, 2021, 2020, 0, 1, 'winter')\n",
      "(390, datetime.date(2021, 1, 24), 24, 24, 3, 1, 'January', 1, 2021, 2020, 0, 1, 'winter')\n",
      "(391, datetime.date(2021, 1, 25), 25, 25, 4, 1, 'January', 1, 2021, 2020, 0, 0, 'winter')\n"
     ]
    }
   ],
   "source": [
    "datamart_cursor.execute(\n",
    "    \"SELECT * FROM {db}.dates WHERE date_key > {starting_key} LIMIT 25\".format(\n",
    "        db=DATABASE_NAME, starting_key=starting_key\n",
    "    )\n",
    ")\n",
    "for row in datamart_cursor.fetchall():\n",
    "    print(row)"
   ]
  },
  {
   "cell_type": "markdown",
   "id": "a0eb6589-093b-42f2-bf15-37f59dd5d9e0",
   "metadata": {},
   "source": [
    "### Ingest Team 8 data into staging table"
   ]
  },
  {
   "cell_type": "code",
   "execution_count": 12,
   "id": "bc339b4f-a189-480d-bbff-2b6606511c6c",
   "metadata": {},
   "outputs": [],
   "source": [
    "begin_date = \"2021-01-01\"\n",
    "end_date = \"2021-06-30\"\n",
    "team8_staging_table = \"team8.transactions_2021\"\n",
    "\n",
    "ingest_team8_data: bool = False\n",
    "\n",
    "if ingest_team8_data:\n",
    "    # create 2021 staging table in datamart database\n",
    "    datamart_cursor.execute(\"DROP TABLE IF EXISTS {table}\".format(table=team8_staging_table))\n",
    "    datamart_cursor.execute(\n",
    "        \"\"\"\n",
    "        CREATE TABLE {table}\n",
    "        (\n",
    "            id INT PRIMARY KEY NOT NULL,\n",
    "            transaction_id BIGINT UNSIGNED NOT NULL,\n",
    "            customer_id BIGINT UNSIGNED NOT NULL,\n",
    "            sku INT UNSIGNED NOT NULL,\n",
    "            sale_price DECIMAL(65,2) UNSIGNED NOT NULL,\n",
    "            transaction_date DATE NOT NULL,\n",
    "            items_left INT UNSIGNED NOT NULL,\n",
    "            total_cases_ordered INT UNSIGNED NOT NULL\n",
    "        )\n",
    "        \"\"\".format(\n",
    "            table=team8_staging_table\n",
    "        )\n",
    "    )\n",
    "\n",
    "    # query for 2021 transactions from Team 8 database\n",
    "    team8_cursor.execute(\n",
    "        \"SELECT * FROM transactions WHERE transaction_date BETWEEN '{begin_date}' AND '{end_date}'\".format(\n",
    "            begin_date=begin_date, end_date=end_date\n",
    "        )\n",
    "    )\n",
    "\n",
    "    count = 0\n",
    "    for transaction in team8_cursor:\n",
    "        count = count + 1\n",
    "        datamart_cursor.execute(\n",
    "            \"\"\"\n",
    "            INSERT INTO {table} (\n",
    "                id, transaction_id, customer_id, sku, sale_price,\n",
    "                transaction_date, items_left, total_cases_ordered\n",
    "            ) VALUES (?, ?, ?, ?, ?, ?, ?, ?)\n",
    "            \"\"\".format(\n",
    "                table=team8_staging_table\n",
    "            ),\n",
    "            (\n",
    "                transaction[0],\n",
    "                transaction[1],\n",
    "                transaction[2],\n",
    "                transaction[3],\n",
    "                transaction[4],\n",
    "                transaction[5],\n",
    "                transaction[6],\n",
    "                transaction[7],\n",
    "            ),\n",
    "        )\n",
    "        if count % 100000 == 0:\n",
    "            datamart_connection.commit()\n",
    "        if count % 1000000 == 0:\n",
    "            print(count)\n",
    "    datamart_connection.commit()"
   ]
  },
  {
   "cell_type": "code",
   "execution_count": 13,
   "id": "68f90a9e-7a90-405f-924a-b461f3b3a6c4",
   "metadata": {},
   "outputs": [
    {
     "name": "stdout",
     "output_type": "stream",
     "text": [
      "Team 8 transactions for Jan-June 2021: 9,584,035\n"
     ]
    }
   ],
   "source": [
    "datamart_cursor.execute(\"SELECT COUNT(*) FROM {table}\".format(table=team8_staging_table))\n",
    "print(\"Team 8 transactions for Jan-June 2021: {:,}\".format(datamart_cursor.fetchall()[0][0]))"
   ]
  },
  {
   "cell_type": "markdown",
   "id": "56cf481d-6e1c-4de6-993b-0dbe690661d9",
   "metadata": {},
   "source": [
    "### Add Team 8 data to daily sales fact table"
   ]
  },
  {
   "cell_type": "code",
   "execution_count": 14,
   "id": "62ac8582-e2ed-480d-9890-7ae0c5d03778",
   "metadata": {},
   "outputs": [],
   "source": [
    "regen_sales_facts_daily_level: bool = False\n",
    "\n",
    "if regen_sales_facts_daily_level:\n",
    "    datamart_cursor.execute(\n",
    "        \"\"\"\n",
    "        INSERT INTO {db}.sales_facts_daily_level (date_key, product_key, store_key, number_sold_today, cost_of_items_sold, sales_total, gross_profit)\n",
    "        SELECT date_key, product_key, store_key, number_sold_today, cost_of_items_sold, sales_total, gross_profit FROM\n",
    "        (SELECT * FROM \n",
    "        (SELECT t.*, product_dimension.product_key, number_sold_today * base_price AS cost_of_items_sold, sales_total - (number_sold_today * base_price) as gross_profit FROM\n",
    "            (SELECT transactions_2021.*, COUNT(*) AS number_sold_today, SUM(sale_price) AS sales_total, base_price\n",
    "            FROM team8.transactions_2021\n",
    "            JOIN {db}.product_catalog ON transactions_2021.sku = product_catalog.sku\n",
    "            GROUP BY sku, transaction_date) t\n",
    "            JOIN {db}.product_dimension ON t.sku = product_dimension.sku) t\n",
    "        JOIN {db}.dates ON t.transaction_date = dates.datetime) t\n",
    "        JOIN {db}.stores ON store_key = 8\n",
    "        \"\"\".format(\n",
    "            db=DATABASE_NAME\n",
    "        )\n",
    "    )\n",
    "    datamart_connection.commit()"
   ]
  },
  {
   "cell_type": "markdown",
   "id": "d34e6e99-21d8-435e-9b8f-d1f64aff5f70",
   "metadata": {},
   "source": [
    "# Part 2 - Report generator"
   ]
  },
  {
   "cell_type": "code",
   "execution_count": 17,
   "id": "30311d89-3611-49c2-8d4c-d8d28a5ba8a4",
   "metadata": {},
   "outputs": [],
   "source": [
    "def generate_sales_report(\n",
    "    begin_date: Union[date, str] = date(2000, 1, 1), end_date: Union[date, str] = date(2100, 1, 1), store: int = 0, department: str = \"%\"\n",
    ") -> str:\n",
    "    store_key: str = str(store) if store > 0 else \"%\"\n",
    "\n",
    "    if isinstance(begin_date, str):\n",
    "        begin_date = datetime.strptime(begin_date, \"%Y-%m-%d\").date()\n",
    "        \n",
    "    if isinstance(end_date, str):\n",
    "        end_date = datetime.strptime(end_date, \"%Y-%m-%d\").date()\n",
    "    \n",
    "    datamart_cursor.execute(\n",
    "        \"\"\"\n",
    "        SELECT store, department, CONVERT(CONCAT('$', FORMAT(sales_total, 2)) USING latin1) AS 'total sales',\n",
    "        CONVERT(CONCAT('$', FORMAT(gross_profit, 2)) USING latin1) AS 'total profit' FROM\n",
    "        ((SELECT IFNULL(store_key, 'ALL') AS store, IFNULL(product_department, 'TOTAL') AS department,\n",
    "            SUM(sales_total) AS sales_total,\n",
    "            SUM(gross_profit) AS gross_profit\n",
    "            FROM backups.{fact_table}\n",
    "        JOIN {db}.dates ON {fact_table}.date_key = dates.date_key\n",
    "        JOIN {db}.product_dimension ON {fact_table}.product_key = product_dimension.product_key\n",
    "        WHERE datetime BETWEEN '{begin_date}' AND '{end_date}' AND product_department LIKE \"{department}\" AND store_key LIKE \"{store_key}\"\n",
    "        GROUP BY product_department, store_key WITH ROLLUP)\n",
    "        UNION\n",
    "        (SELECT store_key, \"TOTAL\", SUM(sales_total), SUM(gross_profit) FROM backups.{fact_table}\n",
    "        JOIN {db}.dates ON {fact_table}.date_key = dates.date_key\n",
    "        WHERE datetime BETWEEN '{begin_date}' AND '{end_date}' AND store_key LIKE \"{store_key}\"\n",
    "        GROUP BY store_key)) t\n",
    "        WHERE department LIKE \"{department}\" AND store LIKE \"{store_key}\"\n",
    "        ORDER BY department, store\n",
    "        \"\"\".format(\n",
    "            db=DATABASE_NAME,\n",
    "            fact_table=\"sales_facts_daily_level_sample\",\n",
    "            begin_date=begin_date,\n",
    "            end_date=end_date,\n",
    "            department=department,\n",
    "            store_key=store_key,\n",
    "        )\n",
    "    )\n",
    "\n",
    "    colnames = [desc[0] for desc in datamart_cursor.description]\n",
    "    tuples = datamart_cursor.fetchall()\n",
    "    lists = [list(x) for x in tuples] if len(tuples) > 0 else [[\"N/A\", \"N/A\", \"N/A\", \"N/A\"]]\n",
    "    sales_table = columnar(\n",
    "        lists,\n",
    "        colnames,\n",
    "        no_borders=True,\n",
    "        terminal_width=100,\n",
    "    )\n",
    "    return sales_table\n",
    "\n",
    "\n",
    "def generate_quarterly_sales_report(quarter: int, year: int, store: int = 0, department: str = \"%\") -> str:\n",
    "    period = pd.PeriodIndex(year=[year], quarter=quarter)\n",
    "    begin_date = period.array[0].start_time.to_pydatetime().date()\n",
    "    end_date = period.array[0].end_time.to_pydatetime().date()\n",
    "    return generate_sales_report(store=store, department=department, begin_date=begin_date, end_date=end_date)\n"
   ]
  },
  {
   "cell_type": "code",
   "execution_count": 18,
   "id": "fb36f006-eefa-4b07-98cd-e6d6475d1bde",
   "metadata": {},
   "outputs": [
    {
     "name": "stdout",
     "output_type": "stream",
     "text": [
      "          \n",
      "  STORE  DEPARTMENT          TOTAL SALES  TOTAL PROFIT  \n",
      "    \n",
      "  7      Baby Food           $666.89      $43.64        \n",
      "  7      Baked Goods         $12,808.51   $837.91       \n",
      "  7      Baking Products     $14,259.66   $932.84       \n",
      "  7      Beverages           $84,951.28   $5,557.61     \n",
      "  7      Breakfast Foods     $3,418.11    $223.81       \n",
      "  7      Canned Foods        $14,734.46   $963.88       \n",
      "  7      Dairy               $14,525.92   $950.29       \n",
      "  7      Deli                $9,664.10    $632.22       \n",
      "  7      Eggs                $330.48      $21.62        \n",
      "  7      Frozen Foods        $26,836.42   $1,755.60     \n",
      "  7      Health and Hygiene  $7,393.42    $483.68       \n",
      "  7      Household           $7,811.67    $511.16       \n",
      "  7      Meat                $2,971.93    $194.42       \n",
      "  7      Pet Foods           $152.03      $9.95         \n",
      "  7      Produce             $28,034.04   $1,834.08     \n",
      "  7      Seafood             $314.69      $20.59        \n",
      "  7      Snack Foods         $83,055.63   $5,433.76     \n",
      "  7      Starchy Foods       $8,218.93    $537.76       \n",
      "  7      TOTAL               $320,148.17  $20,944.82    \n",
      "\n",
      "          \n",
      "  STORE  DEPARTMENT  TOTAL SALES  TOTAL PROFIT  \n",
      "    \n",
      "  N/A    N/A         N/A          N/A           \n",
      "\n",
      "          \n",
      "  STORE  DEPARTMENT          TOTAL SALES  TOTAL PROFIT  \n",
      "    \n",
      "  8      Baby Food           $786.50      $51.52        \n",
      "  8      Baked Goods         $12,527.56   $821.73       \n",
      "  8      Baking Products     $14,478.35   $946.31       \n",
      "  8      Beverages           $77,007.29   $5,038.56     \n",
      "  8      Breakfast Foods     $3,303.75    $217.67       \n",
      "  8      Canned Foods        $14,632.30   $957.56       \n",
      "  8      Dairy               $16,870.85   $1,107.06     \n",
      "  8      Deli                $10,888.71   $713.63       \n",
      "  8      Eggs                $158.83      $10.43        \n",
      "  8      Frozen Foods        $26,057.82   $1,706.95     \n",
      "  8      Health and Hygiene  $7,166.60    $467.63       \n",
      "  8      Household           $8,610.43    $563.42       \n",
      "  8      Meat                $4,311.48    $280.81       \n",
      "  8      Pet Foods           $100.01      $6.57         \n",
      "  8      Produce             $32,273.62   $2,111.18     \n",
      "  8      Seafood             $242.50      $16.71        \n",
      "  8      Snack Foods         $76,346.04   $5,004.58     \n",
      "  8      Starchy Foods       $8,184.22    $537.15       \n",
      "  8      TOTAL               $313,946.86  $20,559.47    \n",
      "\n",
      "          \n",
      "  STORE  DEPARTMENT          TOTAL SALES  TOTAL PROFIT  \n",
      "    \n",
      "  8      Baby Food           $725.64      $47.58        \n",
      "  8      Baked Goods         $13,923.78   $913.86       \n",
      "  8      Baking Products     $16,881.54   $1,103.81     \n",
      "  8      Beverages           $82,353.04   $5,388.50     \n",
      "  8      Breakfast Foods     $2,843.05    $187.24       \n",
      "  8      Canned Foods        $14,067.05   $919.54       \n",
      "  8      Dairy               $16,776.64   $1,102.25     \n",
      "  8      Deli                $9,727.26    $635.26       \n",
      "  8      Eggs                $189.57      $12.46        \n",
      "  8      Frozen Foods        $26,970.18   $1,764.07     \n",
      "  8      Health and Hygiene  $6,499.36    $425.01       \n",
      "  8      Household           $10,661.42   $698.01       \n",
      "  8      Meat                $2,626.99    $171.29       \n",
      "  8      Pet Foods           $344.25      $22.80        \n",
      "  8      Produce             $29,585.40   $1,938.18     \n",
      "  8      Seafood             $422.03      $28.04        \n",
      "  8      Snack Foods         $79,117.50   $5,186.81     \n",
      "  8      Starchy Foods       $8,558.94    $562.40       \n",
      "  8      TOTAL               $322,273.64  $21,107.11    \n",
      "\n"
     ]
    }
   ],
   "source": [
    "# print(generate_sales_report(begin_date=\"2020-1-1\", end_date=\"2021-12-31\"))\n",
    "\n",
    "print(generate_quarterly_sales_report(quarter=2, year=2020, store=7))\n",
    "print(generate_quarterly_sales_report(quarter=2, year=2021, store=7))\n",
    "\n",
    "print(generate_quarterly_sales_report(quarter=2, year=2020, store=8))\n",
    "print(generate_quarterly_sales_report(quarter=2, year=2021, store=8))"
   ]
  }
 ],
 "metadata": {
  "kernelspec": {
   "display_name": "Python 3 (ipykernel)",
   "language": "python",
   "name": "python3"
  },
  "language_info": {
   "codemirror_mode": {
    "name": "ipython",
    "version": 3
   },
   "file_extension": ".py",
   "mimetype": "text/x-python",
   "name": "python",
   "nbconvert_exporter": "python",
   "pygments_lexer": "ipython3",
   "version": "3.8.10"
  }
 },
 "nbformat": 4,
 "nbformat_minor": 5
}
