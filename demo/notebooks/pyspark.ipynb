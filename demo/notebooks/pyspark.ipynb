{
 "cells": [
  {
   "cell_type": "code",
   "execution_count": 1,
   "id": "2f75c247-c299-446b-849a-83df99f3772e",
   "metadata": {},
   "outputs": [],
   "source": [
    "from pyspark.sql import SparkSession\n",
    "from pyspark.sql import functions as F"
   ]
  },
  {
   "cell_type": "code",
   "execution_count": 2,
   "id": "993162d8-b22c-45f5-b47c-4ae91ac09531",
   "metadata": {},
   "outputs": [
    {
     "name": "stderr",
     "output_type": "stream",
     "text": [
      "WARNING: An illegal reflective access operation has occurred\n",
      "WARNING: Illegal reflective access by org.apache.spark.unsafe.Platform (file:/usr/local/spark-3.1.2-bin-hadoop3.2/jars/spark-unsafe_2.12-3.1.2.jar) to constructor java.nio.DirectByteBuffer(long,int)\n",
      "WARNING: Please consider reporting this to the maintainers of org.apache.spark.unsafe.Platform\n",
      "WARNING: Use --illegal-access=warn to enable warnings of further illegal reflective access operations\n",
      "WARNING: All illegal access operations will be denied in a future release\n"
     ]
    },
    {
     "name": "stdout",
     "output_type": "stream",
     "text": [
      ":: loading settings :: url = jar:file:/usr/local/spark-3.1.2-bin-hadoop3.2/jars/ivy-2.4.0.jar!/org/apache/ivy/core/settings/ivysettings.xml\n"
     ]
    },
    {
     "name": "stderr",
     "output_type": "stream",
     "text": [
      "Ivy Default Cache set to: /home/jovyan/.ivy2/cache\n",
      "The jars for the packages stored in: /home/jovyan/.ivy2/jars\n",
      "mysql#mysql-connector-java added as a dependency\n",
      "org.apache.spark#spark-sql_2.12 added as a dependency\n",
      "org.apache.spark#spark-sql-kafka-0-10_2.12 added as a dependency\n",
      ":: resolving dependencies :: org.apache.spark#spark-submit-parent-5461612f-bc56-49d0-9882-ac3766270078;1.0\n",
      "\tconfs: [default]\n",
      "\tfound mysql#mysql-connector-java;8.0.26 in central\n",
      "\tfound com.google.protobuf#protobuf-java;3.11.4 in central\n",
      "\tfound org.apache.spark#spark-sql-kafka-0-10_2.12;3.1.2 in central\n",
      "\tfound org.apache.spark#spark-token-provider-kafka-0-10_2.12;3.1.2 in central\n",
      "\tfound org.apache.kafka#kafka-clients;2.6.0 in central\n",
      "\tfound com.github.luben#zstd-jni;1.4.8-1 in central\n",
      "\tfound org.lz4#lz4-java;1.7.1 in central\n",
      "\tfound org.xerial.snappy#snappy-java;1.1.8.2 in central\n",
      "\tfound org.slf4j#slf4j-api;1.7.30 in central\n",
      "\tfound org.spark-project.spark#unused;1.0.0 in central\n",
      "\tfound org.apache.commons#commons-pool2;2.6.2 in central\n",
      ":: resolution report :: resolve 714ms :: artifacts dl 23ms\n",
      "\t:: modules in use:\n",
      "\tcom.github.luben#zstd-jni;1.4.8-1 from central in [default]\n",
      "\tcom.google.protobuf#protobuf-java;3.11.4 from central in [default]\n",
      "\tmysql#mysql-connector-java;8.0.26 from central in [default]\n",
      "\torg.apache.commons#commons-pool2;2.6.2 from central in [default]\n",
      "\torg.apache.kafka#kafka-clients;2.6.0 from central in [default]\n",
      "\torg.apache.spark#spark-sql-kafka-0-10_2.12;3.1.2 from central in [default]\n",
      "\torg.apache.spark#spark-token-provider-kafka-0-10_2.12;3.1.2 from central in [default]\n",
      "\torg.lz4#lz4-java;1.7.1 from central in [default]\n",
      "\torg.slf4j#slf4j-api;1.7.30 from central in [default]\n",
      "\torg.spark-project.spark#unused;1.0.0 from central in [default]\n",
      "\torg.xerial.snappy#snappy-java;1.1.8.2 from central in [default]\n",
      "\t---------------------------------------------------------------------\n",
      "\t|                  |            modules            ||   artifacts   |\n",
      "\t|       conf       | number| search|dwnlded|evicted|| number|dwnlded|\n",
      "\t---------------------------------------------------------------------\n",
      "\t|      default     |   11  |   0   |   0   |   0   ||   11  |   0   |\n",
      "\t---------------------------------------------------------------------\n",
      ":: retrieving :: org.apache.spark#spark-submit-parent-5461612f-bc56-49d0-9882-ac3766270078\n",
      "\tconfs: [default]\n",
      "\t0 artifacts copied, 11 already retrieved (0kB/13ms)\n",
      "21/10/10 17:25:37 WARN NativeCodeLoader: Unable to load native-hadoop library for your platform... using builtin-java classes where applicable\n",
      "Using Spark's default log4j profile: org/apache/spark/log4j-defaults.properties\n",
      "Setting default log level to \"WARN\".\n",
      "To adjust logging level use sc.setLogLevel(newLevel). For SparkR, use setLogLevel(newLevel).\n"
     ]
    }
   ],
   "source": [
    "# spark = (SparkSession.builder\n",
    "#   .appName(\"SparkSessionExample\")\n",
    "#   .config('spark.jars.packages', 'org.mariadb.jdbc:mariadb-java-client:2.7.4,org.apache.spark:spark-sql_2.12:3.1.2,org.apache.spark:spark-sql-kafka-0-10_2.12:3.1.2')\n",
    "#   .master(\"spark://spark:7077\").getOrCreate())\n",
    "\n",
    "spark = (SparkSession.builder\n",
    "  .appName(\"SparkSessionExample\")\n",
    "  .config('spark.jars.packages', 'mysql:mysql-connector-java:8.0.26,org.apache.spark:spark-sql_2.12:3.1.2,org.apache.spark:spark-sql-kafka-0-10_2.12:3.1.2')\n",
    "  .master(\"spark://spark:7077\").getOrCreate())"
   ]
  },
  {
   "cell_type": "code",
   "execution_count": 3,
   "id": "fb116292-2ae2-42ff-a734-642849f66b36",
   "metadata": {},
   "outputs": [
    {
     "name": "stderr",
     "output_type": "stream",
     "text": [
      "[Stage 0:>                                                          (0 + 1) / 1]\r"
     ]
    },
    {
     "name": "stdout",
     "output_type": "stream",
     "text": [
      "+------------+--------------------+--------+--------------+--------+----------+\n",
      "|manufacturer|        product_name|    size|     item_type|     sku|base_price|\n",
      "+------------+--------------------+--------+--------------+--------+----------+\n",
      "|   Zatarains|  Jambalaya Rice Mix|   12 oz| RICE/RICE MIX|42081001|      2.49|\n",
      "|   Zatarains|  Jambalaya Rice Mix|    8 oz| RICE/RICE MIX|42082001|      1.79|\n",
      "|     Yucatan|   Guacamole Regular|    8 oz|              |42083001|      3.99|\n",
      "|       Yuban|Coffee Original B...|   12 oz|COFFEE/CREAMER|42084001|      3.99|\n",
      "|     Yoplait| GoGurt Variety Pack|    8 ct|        YOGURT|42085001|      2.99|\n",
      "|    Wishbone|    Italian Dressing|   16 oz|SALAD DRESSING|42086001|      2.00|\n",
      "|White Castle|Cheeseburger Heat...|29.28 oz|              |42087001|     11.59|\n",
      "|     Whiskas| Choice Cuts Poultry|   36 oz|      PET FOOD|42088001|      4.99|\n",
      "|      Welchs|Farmers Pick Conc...|   46 oz|              |42089001|      3.59|\n",
      "|      Welchs|     Juice Red Grape|   64 oz|         JUICE|42090001|      4.79|\n",
      "|    Weetabix|Cereal Whole Grai...|   15 oz|        CEREAL|42091001|      6.99|\n",
      "|    Velveeta|Shells & Cheese M...| 2.39 oz|  MAC & CHEESE|42092001|      1.00|\n",
      "|    Velveeta|Shells & Cheese O...|   12 oz|  MAC & CHEESE|42093001|      2.49|\n",
      "|          V8|  Splash Berry Blend|   64 oz|         JUICE|42094001|      2.99|\n",
      "|          V8|  Splash Mango Peach|   64 oz|         JUICE|42095001|      2.99|\n",
      "|          V8|      V-Fusion Berry|   8 pkg|         JUICE|42096001|      3.49|\n",
      "|          V8|V-Fusion Pomegran...|   46 oz|         JUICE|42097001|      3.99|\n",
      "|          V8|V-Fusion Refreshe...|   46 oz|         JUICE|42098001|      3.49|\n",
      "|   Uncle Sam|Whole Grain Origi...|   13 oz|        CEREAL|42099001|      2.50|\n",
      "| Turkey Hill|      Iced Tea Lemon|  128 oz|              |42100001|      2.99|\n",
      "+------------+--------------------+--------+--------------+--------+----------+\n",
      "only showing top 20 rows\n",
      "\n"
     ]
    },
    {
     "name": "stderr",
     "output_type": "stream",
     "text": [
      "                                                                                \r"
     ]
    }
   ],
   "source": [
    "# df = sqlContext.read.format(\"jdbc\").options(\n",
    "#     url=\"jdbc:mariadb://mariadb:3306/data-warehouse\",\n",
    "#     driver=\"org.mariadb.jdbc.Driver\",\n",
    "#     dbtable=\"transactions_subset\",\n",
    "#     user=\"root\",\n",
    "#     properties={\"driver\": 'org.mariadb.jdbc.Driver'}\n",
    "# ).load()\n",
    "\n",
    "# df = spark.read\\\n",
    "#     .format(\"jdbc\")\\\n",
    "#     .option(\"url\", \"jdbc:mariadb://mariadb:3306/backup\")\\\n",
    "#     .option(\"driver\", \"org.mariadb.jdbc.Driver\")\\\n",
    "#     .option(\"query\", \"SELECT manufacturer FROM catalog LIMIT 2\")\\\n",
    "#     .option(\"user\", \"root\").load()\n",
    "\n",
    "\n",
    "df = spark.read\\\n",
    "    .format(\"jdbc\")\\\n",
    "    .option(\"url\", \"jdbc:mysql://mariadb:3306/backup\")\\\n",
    "    .option(\"driver\", \"com.mysql.cj.jdbc.Driver\")\\\n",
    "    .option(\"query\", \"SELECT * FROM catalog\")\\\n",
    "    .option(\"user\", \"root\").load()\n",
    "\n",
    "df.show()"
   ]
  },
  {
   "cell_type": "code",
   "execution_count": 4,
   "id": "41ea53a9-122f-46c6-bc98-8e1c501e583b",
   "metadata": {},
   "outputs": [
    {
     "name": "stderr",
     "output_type": "stream",
     "text": [
      "                                                                                \r"
     ]
    }
   ],
   "source": [
    "df.select(F.col('sku').cast('string').alias('key'), F.to_json(F.struct(\"*\")).alias(\"value\"))\\\n",
    "    .write \\\n",
    "    .format(\"kafka\") \\\n",
    "    .option(\"kafka.bootstrap.servers\", \"kafka:9092\") \\\n",
    "    .option(\"topic\", \"spark\") \\\n",
    "    .save()"
   ]
  }
 ],
 "metadata": {
  "kernelspec": {
   "display_name": "Python 3 (ipykernel)",
   "language": "python",
   "name": "python3"
  },
  "language_info": {
   "codemirror_mode": {
    "name": "ipython",
    "version": 3
   },
   "file_extension": ".py",
   "mimetype": "text/x-python",
   "name": "python",
   "nbconvert_exporter": "python",
   "pygments_lexer": "ipython3",
   "version": "3.9.7"
  }
 },
 "nbformat": 4,
 "nbformat_minor": 5
}
