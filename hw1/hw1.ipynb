{
 "cells": [
  {
   "cell_type": "code",
   "execution_count": 1,
   "id": "6a38db1e-c8f9-4809-b7a2-032befb2c04e",
   "metadata": {},
   "outputs": [],
   "source": [
    "import csv\n",
    "import html\n",
    "import re\n",
    "from collections import Counter\n",
    "from datetime import datetime\n",
    "\n",
    "import mariadb\n",
    "import matplotlib.pyplot as plt\n",
    "import squarify\n",
    "import unidecode"
   ]
  },
  {
   "cell_type": "code",
   "execution_count": 2,
   "id": "254bce9b-942b-4f05-9688-b8562451f104",
   "metadata": {},
   "outputs": [],
   "source": [
    "def decode2(s):\n",
    "    t = unidecode.unidecode(s)\n",
    "    if t == \"[?]\":\n",
    "        return \"_\"\n",
    "    else:\n",
    "        return t\n",
    "\n",
    "\n",
    "def decodeStr(s):\n",
    "    t = \"\"\n",
    "    for x in s:\n",
    "        t = t + decode2(x)\n",
    "    return t\n",
    "\n",
    "\n",
    "def clean_work(s):\n",
    "    s = html.unescape(s)\n",
    "    s = decodeStr(s)  # convert foreign language to bad-english\n",
    "    skips = re.compile(r\"[^\\x00-\\x7F]\")  # get rid of anything non-ascii\n",
    "    s = re.sub(skips, \" \", s)\n",
    "    s = re.sub(\"  \", \" \", s)\n",
    "    s = s.replace(\"\\t\", \" \")\n",
    "    s = s.replace(\"\\n\", \" \")\n",
    "    s = s.replace(\"'\", \" \")  # get rid of single quotes\n",
    "    s = s.replace('\"', \" \")  # get rid of double quotes\n",
    "    s = s.replace(\"  \", \" \")  # get rid of extra spaces\n",
    "    return s.strip()\n",
    "\n",
    "\n",
    "def clean17(s):\n",
    "    s = clean_work(s)\n",
    "    t = clean_work(s)\n",
    "    while s != t:\n",
    "        s = t\n",
    "        t = clean_work(s)\n",
    "    return s.lower()"
   ]
  },
  {
   "cell_type": "markdown",
   "id": "69b5c53b-0c5c-4b38-a8b7-23cefeefee6b",
   "metadata": {},
   "source": [
    "### 1. (Part A) Standardizing the date-time in YYYY-MM-DD HH:MM format. "
   ]
  },
  {
   "cell_type": "code",
   "execution_count": 3,
   "id": "39024f8e-3865-4e62-afa6-f0370144a935",
   "metadata": {},
   "outputs": [],
   "source": [
    "def convert_date(date: str) -> str:\n",
    "    return datetime.strptime(date, \"%a %b %d %H:%M:%S %z %Y\").strftime(\"%Y-%m-%d %H:%M\")"
   ]
  },
  {
   "cell_type": "code",
   "execution_count": 4,
   "id": "70553a80-1612-4870-8a5b-e7c050602571",
   "metadata": {},
   "outputs": [],
   "source": [
    "def wrangle_row(row: list) -> dict:\n",
    "    data: dict = {\n",
    "        \"tweet_date\": convert_date(row[0]),\n",
    "        \"tweet_id\": row[1],\n",
    "        \"tweet\": clean17(row[2]),\n",
    "        \"handle\": row[4],\n",
    "    }\n",
    "    data[\"retweet\"] = True if data[\"tweet\"].startswith(\"rt \") else False\n",
    "    return data"
   ]
  },
  {
   "cell_type": "code",
   "execution_count": 5,
   "id": "af232bb7-9fc3-4cd2-973c-6ed6b8b111b4",
   "metadata": {},
   "outputs": [
    {
     "name": "stdout",
     "output_type": "stream",
     "text": [
      "1: {'tweet_date': '2020-07-25 04:43', 'tweet_id': '1286884650187718656', 'tweet': 'rt @platinumjab: shiv is the seed of the seed of the seed. shiv is the first seed. shiv is the beginning of the beginning of the beginnin', 'handle': 'Vijaykant087', 'retweet': True}\n",
      "2: {'tweet_date': '2020-07-25 04:43', 'tweet_id': '1286884650175074304', 'tweet': 'rt @catvalente: every millennial i know is locked in their house doomscrolling & baking bread while their parents think masks are poisonous', 'handle': 'AndaliteBandit', 'retweet': True}\n",
      "3: {'tweet_date': '2020-07-25 05:06', 'tweet_id': '1286890539359416321', 'tweet': 'rt @ghettofabulos0: candy - partynextdoor x nipsey hussle. thats the tweet.', 'handle': 'reignofmaya', 'retweet': True}\n",
      "4: {'tweet_date': '2020-07-25 05:06', 'tweet_id': '1286890539355459586', 'tweet': 'rt @realjameswoods: #ripbernelltremmell // this hate crime isnt getting much attention from the democrat propaganda machine, but im hopin', 'handle': 'BrojackNorseman', 'retweet': True}\n",
      "5: {'tweet_date': '2020-07-25 05:06', 'tweet_id': '1286890539330211840', 'tweet': 'rt @iunarmins: do you see the problem https://t.co/8jgulntrnf', 'handle': 'Franwfilter', 'retweet': True}\n",
      "6: {'tweet_date': '2020-07-25 05:06', 'tweet_id': '1286890539326099456', 'tweet': 'rt @cloydrivers: dr. fauci, the man who insists we must wear masks and social distance.... merica. https://t.co/wgwvigxycq', 'handle': 'LiamO2132', 'retweet': True}\n",
      "7: {'tweet_date': '2020-07-25 05:06', 'tweet_id': '1286890539326070784', 'tweet': 'this week @maltapolice comm. gaf said that there is no basis for a @europol joint investigation team [jit]. re https://t.co/nmcbexecwn', 'handle': 'repubblikaMT', 'retweet': False}\n",
      "8: {'tweet_date': '2020-07-25 05:06', 'tweet_id': '1286890539288104960', 'tweet': 'rt @tedcruz: john roberts has abandoned his oath. but, on the upside, maybe nevada churches should set up craps tables? then they could', 'handle': '12BravoGran', 'retweet': True}\n",
      "9: {'tweet_date': '2020-07-25 05:06', 'tweet_id': '1286890539275767808', 'tweet': '@thejackvaughan i live in 37919 but i feel like its the suburbs fleeing the gop effect. if you look at hd-13 preci https://t.co/7w2kkxgf9a', 'handle': 'jackking517', 'retweet': False}\n",
      "10: {'tweet_date': '2020-07-25 05:06', 'tweet_id': '1286890539254599682', 'tweet': 'rt @wolardbert: pretty sure these are my fave conversation options in the game https://t.co/8cwvmucdvb', 'handle': 'WeedSenpai', 'retweet': True}\n"
     ]
    }
   ],
   "source": [
    "# print first 10 rows with standardized date-time\n",
    "with open(r\"randomTweets.txt\") as csv_file:\n",
    "    csv_reader = csv.reader(csv_file, delimiter=\"\\t\")\n",
    "    for i, row in enumerate(csv_reader):\n",
    "        data = wrangle_row(row)\n",
    "        print(\"{i}: {d}\".format(i=i + 1, d=data))\n",
    "        if i >= 9:\n",
    "            break"
   ]
  },
  {
   "cell_type": "markdown",
   "id": "3c1c41cc-7e60-46f9-b63e-2f96960f3c8f",
   "metadata": {},
   "source": [
    "### 1. (Part B) Rebuilding the table."
   ]
  },
  {
   "cell_type": "code",
   "execution_count": 6,
   "id": "af18d2c5-f550-491a-88f1-799403e31b59",
   "metadata": {},
   "outputs": [],
   "source": [
    "connection = mariadb.connect(\n",
    "    host=\"127.0.0.1\", user=\"root\", database=\"tweets\", autocommit=True\n",
    ")\n",
    "cursor = connection.cursor()"
   ]
  },
  {
   "cell_type": "code",
   "execution_count": 7,
   "id": "e49fd34e-261f-4f78-9953-ff7e4bd0226c",
   "metadata": {},
   "outputs": [
    {
     "data": {
      "text/plain": [
       "[('tweet_id', 'bigint(20)', 'NO', 'PRI', None, ''),\n",
       " ('tweet_date', 'datetime', 'YES', '', None, ''),\n",
       " ('tweet', 'text', 'YES', '', None, ''),\n",
       " ('handle', 'tinytext', 'YES', '', None, ''),\n",
       " ('retweet', 'tinyint(1)', 'YES', '', None, '')]"
      ]
     },
     "execution_count": 7,
     "metadata": {},
     "output_type": "execute_result"
    }
   ],
   "source": [
    "cursor.execute(\"DROP TABLE IF EXISTS tweets\")\n",
    "cursor.execute(\n",
    "    \"CREATE TABLE tweets(tweet_id BIGINT, tweet_date DATETIME, tweet TEXT, handle TINYTEXT, retweet BOOLEAN, CONSTRAINT tweets_pk PRIMARY KEY (tweet_id))\"\n",
    ")\n",
    "cursor.execute(\"SHOW COLUMNS FROM tweets\")\n",
    "cursor.fetchall()"
   ]
  },
  {
   "cell_type": "code",
   "execution_count": 8,
   "id": "0d78d34b-0231-4b57-81f5-15274c9b27e3",
   "metadata": {},
   "outputs": [
    {
     "name": "stdout",
     "output_type": "stream",
     "text": [
      "inserted 50026 rows\n"
     ]
    }
   ],
   "source": [
    "with open(r\"randomTweets.txt\") as csv_file:\n",
    "    csv_reader = csv.reader(csv_file, delimiter=\"\\t\")\n",
    "    for i, row in enumerate(csv_reader):\n",
    "        data = wrangle_row(row)\n",
    "        try:\n",
    "            cursor.execute(\n",
    "                \"INSERT INTO tweets VALUES (?,?,?,?,?)\",\n",
    "                (\n",
    "                    data[\"tweet_id\"],\n",
    "                    data[\"tweet_date\"],\n",
    "                    data[\"tweet\"],\n",
    "                    data[\"handle\"],\n",
    "                    data[\"retweet\"],\n",
    "                ),\n",
    "            )\n",
    "        except mariadb.IntegrityError as e:\n",
    "            print(e.msg)\n",
    "            i = i - 1\n",
    "        except mariadb.OperationalError as e:\n",
    "            print(\"error on row {i}: {e}\".format(i=i, e=e.msg))\n",
    "            i = i - 1\n",
    "            break\n",
    "\n",
    "print(\"inserted {i} rows\".format(i=i + 1))"
   ]
  },
  {
   "cell_type": "markdown",
   "id": "957cf795-ba76-40ea-bfaf-4e34bb7efba6",
   "metadata": {},
   "source": [
    "### 2. Write a function that takes the 2 time periods and returns all tweets in the table between those time periods."
   ]
  },
  {
   "cell_type": "code",
   "execution_count": 9,
   "id": "1662d5ad-89a1-467e-89dd-517b4d7c75e7",
   "metadata": {},
   "outputs": [],
   "source": [
    "def get_tweets_in_date_range(\n",
    "    cursor: mariadb.connection.cursor, date1: str, date2: str, column: str = \"*\"\n",
    ") -> list:\n",
    "    cursor.execute(\n",
    "        \"SELECT {column} FROM tweets WHERE tweet_date BETWEEN '{date1}' AND '{date2}'\".format(\n",
    "            column=column, date1=date1, date2=date2\n",
    "        )\n",
    "    )\n",
    "    return cursor.fetchall()"
   ]
  },
  {
   "cell_type": "code",
   "execution_count": 10,
   "id": "ce4d5c84-b2f6-45d8-a677-a5da467a5e56",
   "metadata": {},
   "outputs": [
    {
     "name": "stdout",
     "output_type": "stream",
     "text": [
      "found 4995 rows\n"
     ]
    },
    {
     "data": {
      "text/plain": [
       "[(1286890481209741312,\n",
       "  datetime.datetime(2020, 7, 25, 5, 6),\n",
       "  'rt @tomilahren: never kneel to the mob',\n",
       "  'JohnLin44602294',\n",
       "  1),\n",
       " (1286890481209794560,\n",
       "  datetime.datetime(2020, 7, 25, 5, 6),\n",
       "  'rt @boi1da: no matter how much good you do at the end of the day youre always going to disappoint someone, just gotta live your life',\n",
       "  'Htxsabir',\n",
       "  1),\n",
       " (1286890481213943809,\n",
       "  datetime.datetime(2020, 7, 25, 5, 6),\n",
       "  '@ky_gill28 the correct modifier must have been pestilential, other than that i dont see an issue.',\n",
       "  'JebediahDobbins',\n",
       "  0),\n",
       " (1286890481222385666,\n",
       "  datetime.datetime(2020, 7, 25, 5, 6),\n",
       "  'rt @michaelb4jordan: hollywood has a history of racism excluding black talent, silencing black voices, derailing black careers, and propp',\n",
       "  'korndawggg',\n",
       "  1),\n",
       " (1286890481230712832,\n",
       "  datetime.datetime(2020, 7, 25, 5, 6),\n",
       "  'rt @defendpdx: hello friends, @1misanthrophile coming at you from 5th and main, where i can clearly hear the crowd cheering from three bloc',\n",
       "  'MarukawaStaff',\n",
       "  1)]"
      ]
     },
     "execution_count": 10,
     "metadata": {},
     "output_type": "execute_result"
    }
   ],
   "source": [
    "date1 = \"2020-07-25 05:00\"\n",
    "date2 = \"2020-07-25 06:00\"\n",
    "\n",
    "tweets = get_tweets_in_date_range(cursor, date1, date2)\n",
    "print(\"found {length} rows\".format(length=len(tweets)))\n",
    "tweets[:5]"
   ]
  },
  {
   "cell_type": "markdown",
   "id": "18dd42e7-dba6-4f41-ad89-3c5aea88171b",
   "metadata": {},
   "source": [
    "### 3. Collect all the hashtags (e.g. #metoo) within any 1 hour period and display a frequency distribution."
   ]
  },
  {
   "cell_type": "code",
   "execution_count": 11,
   "id": "d295ce80-d3d0-41ee-b4f1-82d25db0fe7c",
   "metadata": {},
   "outputs": [
    {
     "data": {
      "text/plain": [
       "[('maheshbabubdaycdp', 608),\n",
       " ('sarkaruvaaripaata', 357),\n",
       " ('chatwithmark', 174),\n",
       " ('____', 106),\n",
       " ('maheshbabu', 106),\n",
       " ('1', 88),\n",
       " ('ufcfightisland3', 53),\n",
       " ('mtvhottest', 53),\n",
       " ('mahesh', 40),\n",
       " ('gestapotrump', 37),\n",
       " ('blacklivesmatter', 36),\n",
       " ('inthesummer', 34),\n",
       " ('x1flash_1', 32),\n",
       " ('kargilvijaydiwas', 27),\n",
       " ('mah', 27),\n",
       " ('arashi', 26),\n",
       " ('myxawards2020', 25),\n",
       " ('bts', 22),\n",
       " ('covid19', 22),\n",
       " ('100m_love_for_x1', 21)]"
      ]
     },
     "execution_count": 11,
     "metadata": {},
     "output_type": "execute_result"
    }
   ],
   "source": [
    "date1 = \"2020-07-26 03:00\"\n",
    "date2 = \"2020-07-26 04:00\"\n",
    "\n",
    "hashtag_pattern = re.compile(\"(?:^|\\s)[＃#]{1}(\\w+)\", re.UNICODE)\n",
    "\n",
    "tweets = get_tweets_in_date_range(cursor, date1, date2, \"tweet\")\n",
    "hashtags = hashtag_pattern.findall(\" \".join([x[0] for x in tweets]))\n",
    "hashtag_frequency = Counter(hashtags).most_common()\n",
    "hashtag_frequency[:20]"
   ]
  },
  {
   "cell_type": "markdown",
   "id": "e78a0309-0a27-4e8d-ad9b-71ec42bfb0f4",
   "metadata": {},
   "source": [
    "### 4. Repeat step 3. First time do it with SQL and the second time do it with a Python dictionary or a Java hashmap."
   ]
  },
  {
   "cell_type": "code",
   "execution_count": 12,
   "id": "778ece05-027e-4580-87ed-dfd7246d7a78",
   "metadata": {},
   "outputs": [
    {
     "data": {
      "text/plain": [
       "[('maheshbabubdaycdp', 608),\n",
       " ('sarkaruvaaripaata', 357),\n",
       " ('chatwithmark', 174),\n",
       " ('____', 106),\n",
       " ('maheshbabu', 106),\n",
       " ('1', 88),\n",
       " ('ufcfightisland3', 53),\n",
       " ('mtvhottest', 53),\n",
       " ('mahesh', 40),\n",
       " ('gestapotrump', 37),\n",
       " ('blacklivesmatter', 36),\n",
       " ('inthesummer', 34),\n",
       " ('x1flash_1', 32),\n",
       " ('kargilvijaydiwas', 27),\n",
       " ('mah', 27),\n",
       " ('arashi', 26),\n",
       " ('myxawards2020', 25),\n",
       " ('bts', 22),\n",
       " ('covid19', 22),\n",
       " ('100m_love_for_x1', 21)]"
      ]
     },
     "execution_count": 12,
     "metadata": {},
     "output_type": "execute_result"
    }
   ],
   "source": [
    "hashtag_counts: dict = {}\n",
    "for tweet in get_tweets_in_date_range(cursor, date1, date2, \"tweet\"):\n",
    "    for hashtag in hashtag_pattern.findall(tweet[0]):\n",
    "        if hashtag in hashtag_counts:\n",
    "            hashtag_counts[hashtag] += 1\n",
    "        else:\n",
    "            hashtag_counts[hashtag] = 1\n",
    "hashtag_frequency = Counter(hashtag_counts).most_common()\n",
    "hashtag_frequency[:20]"
   ]
  },
  {
   "cell_type": "markdown",
   "id": "3a9570b6-0f55-4018-a895-b88caa74651b",
   "metadata": {},
   "source": [
    "### 5. Create a bar chart for 4"
   ]
  },
  {
   "cell_type": "code",
   "execution_count": 13,
   "id": "fd2c5645-4c49-43a1-a4fa-473441d85edb",
   "metadata": {},
   "outputs": [
    {
     "data": {
      "image/png": "[encoded data removed]",
      "text/plain": [
       "<Figure size 1000x500 with 1 Axes>"
      ]
     },
     "metadata": {},
     "output_type": "display_data"
    }
   ],
   "source": [
    "topn = hashtag_frequency[:10]\n",
    "tags = [val[0] for val in topn]\n",
    "counts = [val[1] for val in topn]\n",
    "colors = [plt.cm.Spectral(i / float(len(tags))) for i in range(len(tags))]\n",
    "\n",
    "plt.rcdefaults()\n",
    "plt.rcParams[\"figure.figsize\"] = [10, 5]\n",
    "fig, ax = plt.subplots()\n",
    "ax.barh(range(len(topn)), counts, align=\"center\", color=colors, alpha=0.8)\n",
    "plt.yticks(range(len(topn)), tags)\n",
    "ax.set_xlabel(\"count\")\n",
    "ax.set_title(\"Top {n} most frequest hashtags\".format(n=len(topn)))\n",
    "ax.xaxis.grid(True)\n",
    "ax.spines[\"top\"].set_visible(False)\n",
    "ax.spines[\"right\"].set_visible(False)\n",
    "ax.spines[\"bottom\"].set_visible(False)\n",
    "ax.spines[\"left\"].set_visible(False)\n",
    "plt.show()"
   ]
  },
  {
   "cell_type": "code",
   "execution_count": 14,
   "id": "00b179f5-3f18-410d-a011-26b6111dc864",
   "metadata": {},
   "outputs": [
    {
     "data": {
      "image/png": "[encoded data removed]",
      "text/plain": [
       "<Figure size 960x640 with 1 Axes>"
      ]
     },
     "metadata": {},
     "output_type": "display_data"
    }
   ],
   "source": [
    "plt.figure(figsize=(12, 8), dpi=80)\n",
    "squarify.plot(sizes=counts, label=tags, color=colors, alpha=0.8)\n",
    "\n",
    "plt.title(\"Top {n} most frequest hashtags\".format(n=len(topn)))\n",
    "plt.axis(\"off\")\n",
    "plt.show()"
   ]
  },
  {
   "cell_type": "code",
   "execution_count": 15,
   "id": "00c3614e-9c8f-4dc7-8c25-df2aac114e31",
   "metadata": {},
   "outputs": [],
   "source": [
    "cursor.close()\n",
    "connection.close()"
   ]
  }
 ],
 "metadata": {
  "kernelspec": {
   "display_name": "Python 3 (ipykernel)",
   "language": "python",
   "name": "python3"
  },
  "language_info": {
   "codemirror_mode": {
    "name": "ipython",
    "version": 3
   },
   "file_extension": ".py",
   "mimetype": "text/x-python",
   "name": "python",
   "nbconvert_exporter": "python",
   "pygments_lexer": "ipython3",
   "version": "3.8.10"
  }
 },
 "nbformat": 4,
 "nbformat_minor": 5
}
