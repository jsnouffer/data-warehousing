{
 "cells": [
  {
   "cell_type": "code",
   "execution_count": 1,
   "id": "076bc375-0df6-4969-a021-3185744a002e",
   "metadata": {},
   "outputs": [],
   "source": [
    "import mariadb\n",
    "import os\n",
    "from columnar import columnar\n",
    "from dotenv import load_dotenv\n",
    "\n",
    "_ = load_dotenv(\"config.env\")"
   ]
  },
  {
   "cell_type": "code",
   "execution_count": 2,
   "id": "84345caf-6810-4e45-8c46-3f27a3956a8c",
   "metadata": {},
   "outputs": [],
   "source": [
    "connection = mariadb.connect(\n",
    "    host=\"127.0.0.1\",\n",
    "    port=23306,\n",
    "    user=os.getenv(\"user\"),\n",
    "    password=os.getenv(\"password\"),\n",
    "    autocommit=False,\n",
    ")\n",
    "cursor = connection.cursor()"
   ]
  },
  {
   "cell_type": "code",
   "execution_count": 3,
   "id": "1b1164ef-adde-486d-802b-89b59d6a85c9",
   "metadata": {},
   "outputs": [],
   "source": [
    "def total_sales_per_sku(db_name: str, table_name: str):\n",
    "    cursor.execute(\n",
    "        \"\"\"\n",
    "        CREATE TABLE IF NOT EXISTS {db_name}.total_sales_per_sku (sku INT, count INT)\n",
    "        SELECT sku, COUNT(*) AS \"count\"\n",
    "                FROM {db_name}.{table_name}\n",
    "                GROUP BY sku\n",
    "                ORDER BY COUNT(*) DESC\n",
    "        \"\"\".format(\n",
    "            db_name=db_name,\n",
    "            table_name=table_name,\n",
    "        )\n",
    "    )"
   ]
  },
  {
   "cell_type": "code",
   "execution_count": 4,
   "id": "78c446e1-0cf3-4034-9707-2db763abc426",
   "metadata": {},
   "outputs": [],
   "source": [
    "total_sales_per_sku(\"team8\", \"transactions\")\n",
    "total_sales_per_sku(\"team7\", \"purchases\")"
   ]
  },
  {
   "cell_type": "code",
   "execution_count": 16,
   "id": "4da40122-8cda-4f37-8225-987e7c5648da",
   "metadata": {},
   "outputs": [],
   "source": [
    "cursor.execute(\n",
    "    \"\"\"\n",
    "    CREATE TABLE IF NOT EXISTS data_mart.total_sales_per_sku (sku INT, count INT, rank INT, team7_count INT, team7_rank INT, team8_count INT, team8_rank INT)\n",
    "    SELECT sku, total as count, rank, team7_count, team7_rank, team8_count, team8_rank FROM\n",
    "        (SELECT * FROM\n",
    "            (SELECT sku, CAST(SUM(count) AS INTEGER) AS total, ROW_NUMBER() OVER (ORDER BY total DESC) AS rank\n",
    "                FROM (SELECT sku, count FROM team8.total_sales_per_sku\n",
    "                      UNION ALL\n",
    "                      SELECT sku, count FROM team7.total_sales_per_sku) total\n",
    "                GROUP BY total.sku) global\n",
    "            JOIN (SELECT sku as team8_sku, count AS team8_count, ROW_NUMBER() OVER (ORDER BY count DESC) AS team8_rank FROM team8.total_sales_per_sku) team8\n",
    "            ON sku = team8_sku) gl_team8\n",
    "        JOIN (SELECT sku AS team7_sku, count AS team7_count, ROW_NUMBER() OVER (ORDER BY count DESC) AS team7_rank FROM team7.total_sales_per_sku) team7\n",
    "        ON sku = team7_sku\n",
    "        ORDER BY rank\n",
    "    \"\"\"\n",
    ")"
   ]
  },
  {
   "cell_type": "code",
   "execution_count": 30,
   "id": "ea1e99a1-77e5-4d8a-acb9-f68d3fe52369",
   "metadata": {},
   "outputs": [
    {
     "name": "stdout",
     "output_type": "stream",
     "text": [
      "                  \n",
      "  SKU       PRODUCT                                               COUNT  RANK   TEAM7_COUNT  TEAM7_RANK  TEAM8_COUNT  TEAM8_RANK  \n",
      "    \n",
      "  42360001  Rowan Dairy: Whole Milk Milk (1/2 gal)                97792  1      49027        1           48765        1           \n",
      "  42357001  Rowan Dairy: 2.00% Milk (1 gal)                       97685  2      48946        2           48739        3           \n",
      "  42356001  Rowan Dairy: 1.00% Milk (1/2 gal)                     97348  3      48589        5           48759        2           \n",
      "  42355001  Rowan Dairy: 1.00% Milk (1 gal)                       97198  4      48788        3           48410        5           \n",
      "  42358001  Rowan Dairy: 2.00% Milk (1/2 gal)                     97024  5      48374        6           48650        4           \n",
      "  42359001  Rowan Dairy: Whole Milk Milk (1 gal)                  97006  6      48629        4           48377        6           \n",
      "  42313001  Smuckers: Jelly Grape (18 oz)                         28274  7      14168        7           14106        8           \n",
      "  42314001  Smuckers: Squeeze Jelly Grape (20 oz)                 28271  8      14153        8           14118        7           \n",
      "  42312001  Smuckers: Jam Strawberry (18 oz)                      28011  9      13996        10          14015        9           \n",
      "  42311001  Smuckers: Jam Grape (18 oz)                           27928  10     14013        9           13915        10          \n",
      "  42257001  Super: Super Vegetable Oil  (7.23)                    22609  11     10876        820         11733        11          \n",
      "  43109001  High Top: High Top Prepared Salad  (8.5)              22577  12     11033        79          11544        15          \n",
      "  43090001  High Top: High Top Fuji Apples  (14)                  22574  13     11108        22          11466        45          \n",
      "  42729001  Motts For Tots: Juice Boxes Apple White Grape (8 ct)  22563  14     11039        67          11524        18          \n",
      "  43927001  Blue Label: Blue Label Turkey Noodle Soup  (13.5)     22534  15     11050        54          11484        36          \n",
      "  43660001  Ebony: Ebony Lemons  (5.65)                           22528  16     11036        75          11492        32          \n",
      "  44071001  Barilla: Pasta Mostaccioli (1 lbs)                    22521  17     11066        37          11455        59          \n",
      "  42486001  PigTail: PigTail Chicken TV Dinner  (16.3)            22501  18     11048        58          11453        60          \n",
      "  43841001  Carlson: Carlson Sour Cream  (5.78)                   22498  19     11035        77          11463        49          \n",
      "  43783001  Choice: Choice Tasty Candy Bar  (15.2)                22494  20     11151        15          11343        210         \n",
      "  43843001  Carlson: Carlson String Cheese  (18.8)                22482  21     11016        107         11466        46          \n",
      "  42855001  Kraft: Cool Whip Regular (8 oz)                       22480  22     11057        46          11423        84          \n",
      "  43048001  Hostess: Cupcakes Chocolate (12.7 oz)                 22473  23     11001        149         11472        42          \n",
      "  44057001  BBB Best: BBB Best Vegetable Oil  (11.5)              22472  24     10968        259         11504        27          \n",
      "  43170001  Hermanos: Hermanos Summer Squash  (12.1)              22458  25     10937        421         11521        21          \n",
      "\n"
     ]
    }
   ],
   "source": [
    "cursor.execute(\n",
    "    \"\"\"\n",
    "    SELECT product_catalog.sku, CONCAT(manufacturer, \": \", product_name, \" (\", size, \")\") AS product, count, rank, team7_count, team7_rank, team8_count, team8_rank\n",
    "    FROM data_mart.total_sales_per_sku\n",
    "    JOIN data_mart.product_catalog ON product_catalog.sku = total_sales_per_sku.sku\n",
    "    ORDER BY rank\n",
    "    LIMIT 25\n",
    "    \"\"\"\n",
    ")\n",
    "tuples = cursor.fetchall()\n",
    "lists = [list(x) for x in tuples]\n",
    "table = columnar(lists, [\"sku\", \"product\", \"count\", \"rank\", \"team7_count\", \"team7_rank\", \"team8_count\", \"team8_rank\"], no_borders=True, terminal_width=150)\n",
    "print(table)"
   ]
  }
 ],
 "metadata": {
  "kernelspec": {
   "display_name": "Python 3 (ipykernel)",
   "language": "python",
   "name": "python3"
  },
  "language_info": {
   "codemirror_mode": {
    "name": "ipython",
    "version": 3
   },
   "file_extension": ".py",
   "mimetype": "text/x-python",
   "name": "python",
   "nbconvert_exporter": "python",
   "pygments_lexer": "ipython3",
   "version": "3.8.10"
  }
 },
 "nbformat": 4,
 "nbformat_minor": 5
}
