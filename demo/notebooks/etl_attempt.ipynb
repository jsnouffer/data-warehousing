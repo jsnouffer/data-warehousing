{
 "cells": [
  {
   "cell_type": "code",
   "execution_count": 1,
   "id": "c97bf739-0ba7-498d-aa08-787f17c7ccdc",
   "metadata": {},
   "outputs": [],
   "source": [
    "from pyspark.sql import SparkSession\n",
    "from pyspark.sql import functions as F"
   ]
  },
  {
   "cell_type": "code",
   "execution_count": 2,
   "id": "f52ca07e-3bdd-42b3-9e99-9d30004cb263",
   "metadata": {},
   "outputs": [
    {
     "name": "stderr",
     "output_type": "stream",
     "text": [
      "WARNING: An illegal reflective access operation has occurred\n",
      "WARNING: Illegal reflective access by org.apache.spark.unsafe.Platform (file:/usr/local/spark-3.1.2-bin-hadoop3.2/jars/spark-unsafe_2.12-3.1.2.jar) to constructor java.nio.DirectByteBuffer(long,int)\n",
      "WARNING: Please consider reporting this to the maintainers of org.apache.spark.unsafe.Platform\n",
      "WARNING: Use --illegal-access=warn to enable warnings of further illegal reflective access operations\n",
      "WARNING: All illegal access operations will be denied in a future release\n"
     ]
    },
    {
     "name": "stdout",
     "output_type": "stream",
     "text": [
      ":: loading settings :: url = jar:file:/usr/local/spark-3.1.2-bin-hadoop3.2/jars/ivy-2.4.0.jar!/org/apache/ivy/core/settings/ivysettings.xml\n"
     ]
    },
    {
     "name": "stderr",
     "output_type": "stream",
     "text": [
      "Ivy Default Cache set to: /home/jovyan/.ivy2/cache\n",
      "The jars for the packages stored in: /home/jovyan/.ivy2/jars\n",
      "mysql#mysql-connector-java added as a dependency\n",
      "org.apache.spark#spark-sql_2.12 added as a dependency\n",
      "org.apache.spark#spark-sql-kafka-0-10_2.12 added as a dependency\n",
      ":: resolving dependencies :: org.apache.spark#spark-submit-parent-5de5d5a9-39d2-445f-ba7b-aefd20116202;1.0\n",
      "\tconfs: [default]\n",
      "\tfound mysql#mysql-connector-java;8.0.26 in central\n",
      "\tfound com.google.protobuf#protobuf-java;3.11.4 in central\n",
      "\tfound org.apache.spark#spark-sql-kafka-0-10_2.12;3.1.2 in central\n",
      "\tfound org.apache.spark#spark-token-provider-kafka-0-10_2.12;3.1.2 in central\n",
      "\tfound org.apache.kafka#kafka-clients;2.6.0 in central\n",
      "\tfound com.github.luben#zstd-jni;1.4.8-1 in central\n",
      "\tfound org.lz4#lz4-java;1.7.1 in central\n",
      "\tfound org.xerial.snappy#snappy-java;1.1.8.2 in central\n",
      "\tfound org.slf4j#slf4j-api;1.7.30 in central\n",
      "\tfound org.spark-project.spark#unused;1.0.0 in central\n",
      "\tfound org.apache.commons#commons-pool2;2.6.2 in central\n",
      ":: resolution report :: resolve 557ms :: artifacts dl 17ms\n",
      "\t:: modules in use:\n",
      "\tcom.github.luben#zstd-jni;1.4.8-1 from central in [default]\n",
      "\tcom.google.protobuf#protobuf-java;3.11.4 from central in [default]\n",
      "\tmysql#mysql-connector-java;8.0.26 from central in [default]\n",
      "\torg.apache.commons#commons-pool2;2.6.2 from central in [default]\n",
      "\torg.apache.kafka#kafka-clients;2.6.0 from central in [default]\n",
      "\torg.apache.spark#spark-sql-kafka-0-10_2.12;3.1.2 from central in [default]\n",
      "\torg.apache.spark#spark-token-provider-kafka-0-10_2.12;3.1.2 from central in [default]\n",
      "\torg.lz4#lz4-java;1.7.1 from central in [default]\n",
      "\torg.slf4j#slf4j-api;1.7.30 from central in [default]\n",
      "\torg.spark-project.spark#unused;1.0.0 from central in [default]\n",
      "\torg.xerial.snappy#snappy-java;1.1.8.2 from central in [default]\n",
      "\t---------------------------------------------------------------------\n",
      "\t|                  |            modules            ||   artifacts   |\n",
      "\t|       conf       | number| search|dwnlded|evicted|| number|dwnlded|\n",
      "\t---------------------------------------------------------------------\n",
      "\t|      default     |   11  |   0   |   0   |   0   ||   11  |   0   |\n",
      "\t---------------------------------------------------------------------\n",
      ":: retrieving :: org.apache.spark#spark-submit-parent-5de5d5a9-39d2-445f-ba7b-aefd20116202\n",
      "\tconfs: [default]\n",
      "\t0 artifacts copied, 11 already retrieved (0kB/10ms)\n",
      "21/10/16 15:48:06 WARN NativeCodeLoader: Unable to load native-hadoop library for your platform... using builtin-java classes where applicable\n",
      "Using Spark's default log4j profile: org/apache/spark/log4j-defaults.properties\n",
      "Setting default log level to \"WARN\".\n",
      "To adjust logging level use sc.setLogLevel(newLevel). For SparkR, use setLogLevel(newLevel).\n"
     ]
    }
   ],
   "source": [
    "spark = (SparkSession.builder\n",
    "  .appName(\"SparkSessionExample\")\n",
    "  .config('spark.jars.packages', 'mysql:mysql-connector-java:8.0.26,org.apache.spark:spark-sql_2.12:3.1.2,org.apache.spark:spark-sql-kafka-0-10_2.12:3.1.2')\n",
    "  .master(\"spark://spark:7077\").getOrCreate())"
   ]
  },
  {
   "cell_type": "code",
   "execution_count": 14,
   "id": "a38b9be7-e8e7-4c19-846a-1a463a13c9cd",
   "metadata": {},
   "outputs": [
    {
     "name": "stderr",
     "output_type": "stream",
     "text": [
      "[Stage 4:>                                                          (0 + 1) / 1]\r"
     ]
    },
    {
     "name": "stdout",
     "output_type": "stream",
     "text": [
      "+-------+--------------+-----------+--------+----------+----------------+---------------+--------------------+--------+--------------------+\n",
      "|     id|transaction_id|customer_id|     sku|sale_price|transaction_date|   manufacturer|        product_name|    size|           item_type|\n",
      "+-------+--------------+-----------+--------+----------+----------------+---------------+--------------------+--------+--------------------+\n",
      "|5047396|        108471|       4631|42358001|      2.02|      2020-04-05|    Rowan Dairy|          2.00% Milk| 1/2 gal|                MILK|\n",
      "|5047397|        108471|       4631|44123001|      3.73|      2020-04-05|         Arnold|Sandwich Thins Mu...|   12 oz|               BREAD|\n",
      "|5047398|        108471|       4631|43128001|      3.73|      2020-04-05|        Hershey|     Syrup Chocolate|   48 oz|                    |\n",
      "|5047399|        108471|       4631|42235001|      3.21|      2020-04-05|      Tastykake|      Cupcakes Lemon|12.75 oz|BAKED GOODS OTHER...|\n",
      "|5047400|        108471|       4631|43577001|      3.34|      2020-04-05|    Even Better|Even Better Chees...|     6.9|              CHEESE|\n",
      "|5047401|        108471|       4631|44089001|      2.77|      2020-04-05|        Barilla|Protein Plus Mult...| 14.5 oz|       PASTA/NOODLES|\n",
      "|5047402|        108471|       4631|43496001|      4.80|      2020-04-05|      Frito Lay|Tostitos Tortilla...|   18 oz|              SNACKS|\n",
      "|5047403|        108471|       4631|43968001|      1.38|      2020-04-05|  Betty Crocker|Hamburger Helper ...|  5.2 oz|       PASTA/NOODLES|\n",
      "|5047404|        108471|       4631|43491001|      3.95|      2020-04-05|      Frito Lay|Tostitos Simply O...| 8.25 oz|              SNACKS|\n",
      "|5047405|        108471|       4631|42535001|      4.27|      2020-04-05|Pepperidge Farm|Goldfish Blasted ...|   11 oz|                    |\n",
      "|5047406|        108471|       4631|43741001|      0.66|      2020-04-05|      Cormorant|Cormorant Glass C...|    18.1|            CLEANERS|\n",
      "|5047407|        108471|       4631|43725001|      1.54|      2020-04-05|   Cutting Edge|Cutting Edge Foot...|    5.67|            HOT DOGS|\n",
      "|5047408|        108471|       4631|43627001|      6.41|      2020-04-05|     Entenmanns|Donuts Ultimate C...|   17 oz|BAKED GOODS OTHER...|\n",
      "|5047409|        108471|       4631|42633001|      8.23|      2020-04-05|    Open Nature|Meatballs Angus Beef|   14 oz|                    |\n",
      "|5047410|        108471|       4631|42705001|      2.99|      2020-04-05|        Nabisco|Chips Ahoy Cookie...|    7 oz|                    |\n",
      "|5047411|        108471|       4631|42556001|      2.34|      2020-04-05|Pepperidge Farm|Goldfish Whole Gr...|  6.6 oz|                    |\n",
      "|5047412|        108471|       4631|43868001|      1.81|      2020-04-05|          Bushs|Original Baked Beans|   16 oz|        CANNED GOODS|\n",
      "|5047413|        108471|       4631|42694001|      7.48|      2020-04-05|        Nabisco|Chips Ahoy Cookie...|   12 ct|                    |\n",
      "|5047414|        108471|       4631|43197001|      2.93|      2020-04-05|        Gorilla|Gorilla Head Cheese |    17.2|              CHEESE|\n",
      "|5047415|        108471|       4631|43188001|      3.19|      2020-04-05|     Gulf Coast|Gulf Coast White ...|    17.2|     CHOCOLATE CANDY|\n",
      "+-------+--------------+-----------+--------+----------+----------------+---------------+--------------------+--------+--------------------+\n",
      "only showing top 20 rows\n",
      "\n"
     ]
    },
    {
     "name": "stderr",
     "output_type": "stream",
     "text": [
      "                                                                                \r"
     ]
    }
   ],
   "source": [
    "df = spark.read\\\n",
    "    .format(\"jdbc\")\\\n",
    "    .option(\"url\", \"jdbc:mysql://mariadb:3306/backup\")\\\n",
    "    .option(\"driver\", \"com.mysql.cj.jdbc.Driver\")\\\n",
    "    .option(\"query\", \"SELECT t.*, manufacturer, product_name, size, item_type FROM transactions_subset t JOIN catalog ON t.sku = catalog.sku\")\\\n",
    "    .option(\"user\", \"root\").load()\n",
    "\n",
    "df.show()"
   ]
  }
 ],
 "metadata": {
  "kernelspec": {
   "display_name": "Python 3 (ipykernel)",
   "language": "python",
   "name": "python3"
  },
  "language_info": {
   "codemirror_mode": {
    "name": "ipython",
    "version": 3
   },
   "file_extension": ".py",
   "mimetype": "text/x-python",
   "name": "python",
   "nbconvert_exporter": "python",
   "pygments_lexer": "ipython3",
   "version": "3.9.7"
  }
 },
 "nbformat": 4,
 "nbformat_minor": 5
}
