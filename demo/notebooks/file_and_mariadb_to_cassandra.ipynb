{
 "cells": [
  {
   "cell_type": "code",
   "execution_count": 1,
   "id": "c97bf739-0ba7-498d-aa08-787f17c7ccdc",
   "metadata": {
    "tags": []
   },
   "outputs": [],
   "source": [
    "from caseconverter import snakecase\n",
    "from cassandra.auth import PlainTextAuthProvider\n",
    "from cassandra.cluster import Cluster\n",
    "from pyspark.sql import SparkSession\n",
    "from pyspark.sql import functions as F\n",
    "from pyspark.sql.types import ArrayType, StringType, StructField, StructType"
   ]
  },
  {
   "cell_type": "code",
   "execution_count": 2,
   "id": "f52ca07e-3bdd-42b3-9e99-9d30004cb263",
   "metadata": {},
   "outputs": [
    {
     "name": "stderr",
     "output_type": "stream",
     "text": [
      "WARNING: An illegal reflective access operation has occurred\n",
      "WARNING: Illegal reflective access by org.apache.spark.unsafe.Platform (file:/usr/local/spark-3.1.2-bin-hadoop3.2/jars/spark-unsafe_2.12-3.1.2.jar) to constructor java.nio.DirectByteBuffer(long,int)\n",
      "WARNING: Please consider reporting this to the maintainers of org.apache.spark.unsafe.Platform\n",
      "WARNING: Use --illegal-access=warn to enable warnings of further illegal reflective access operations\n",
      "WARNING: All illegal access operations will be denied in a future release\n"
     ]
    },
    {
     "name": "stdout",
     "output_type": "stream",
     "text": [
      ":: loading settings :: url = jar:file:/usr/local/spark-3.1.2-bin-hadoop3.2/jars/ivy-2.4.0.jar!/org/apache/ivy/core/settings/ivysettings.xml\n"
     ]
    },
    {
     "name": "stderr",
     "output_type": "stream",
     "text": [
      "Ivy Default Cache set to: /home/jovyan/.ivy2/cache\n",
      "The jars for the packages stored in: /home/jovyan/.ivy2/jars\n",
      "mysql#mysql-connector-java added as a dependency\n",
      "org.apache.spark#spark-sql_2.12 added as a dependency\n",
      "org.apache.spark#spark-sql-kafka-0-10_2.12 added as a dependency\n",
      "com.datastax.spark#spark-cassandra-connector_2.12 added as a dependency\n",
      ":: resolving dependencies :: org.apache.spark#spark-submit-parent-5a16b295-8702-4250-bac8-17820d011e68;1.0\n",
      "\tconfs: [default]\n",
      "\tfound mysql#mysql-connector-java;8.0.26 in central\n",
      "\tfound com.google.protobuf#protobuf-java;3.11.4 in central\n",
      "\tfound org.apache.spark#spark-sql-kafka-0-10_2.12;3.1.2 in central\n",
      "\tfound org.apache.spark#spark-token-provider-kafka-0-10_2.12;3.1.2 in central\n",
      "\tfound org.apache.kafka#kafka-clients;2.6.0 in central\n",
      "\tfound com.github.luben#zstd-jni;1.4.8-1 in central\n",
      "\tfound org.lz4#lz4-java;1.7.1 in central\n",
      "\tfound org.xerial.snappy#snappy-java;1.1.8.2 in central\n",
      "\tfound org.slf4j#slf4j-api;1.7.30 in central\n",
      "\tfound org.spark-project.spark#unused;1.0.0 in central\n",
      "\tfound org.apache.commons#commons-pool2;2.6.2 in central\n",
      "\tfound com.datastax.spark#spark-cassandra-connector_2.12;3.1.0 in central\n",
      "\tfound com.datastax.spark#spark-cassandra-connector-driver_2.12;3.1.0 in central\n",
      "\tfound com.datastax.oss#java-driver-core-shaded;4.12.0 in central\n",
      "\tfound com.datastax.oss#native-protocol;1.5.0 in central\n",
      "\tfound com.datastax.oss#java-driver-shaded-guava;25.1-jre-graal-sub-1 in central\n",
      "\tfound com.typesafe#config;1.4.1 in central\n",
      "\tfound io.dropwizard.metrics#metrics-core;4.1.18 in central\n",
      "\tfound org.hdrhistogram#HdrHistogram;2.1.12 in central\n",
      "\tfound org.reactivestreams#reactive-streams;1.0.3 in central\n",
      "\tfound com.github.stephenc.jcip#jcip-annotations;1.0-1 in central\n",
      "\tfound com.github.spotbugs#spotbugs-annotations;3.1.12 in central\n",
      "\tfound com.google.code.findbugs#jsr305;3.0.2 in central\n",
      "\tfound com.datastax.oss#java-driver-mapper-runtime;4.12.0 in central\n",
      "\tfound com.datastax.oss#java-driver-query-builder;4.12.0 in central\n",
      "\tfound org.apache.commons#commons-lang3;3.10 in central\n",
      "\tfound com.thoughtworks.paranamer#paranamer;2.8 in central\n",
      "\tfound org.scala-lang#scala-reflect;2.12.11 in central\n",
      ":: resolution report :: resolve 1002ms :: artifacts dl 21ms\n",
      "\t:: modules in use:\n",
      "\tcom.datastax.oss#java-driver-core-shaded;4.12.0 from central in [default]\n",
      "\tcom.datastax.oss#java-driver-mapper-runtime;4.12.0 from central in [default]\n",
      "\tcom.datastax.oss#java-driver-query-builder;4.12.0 from central in [default]\n",
      "\tcom.datastax.oss#java-driver-shaded-guava;25.1-jre-graal-sub-1 from central in [default]\n",
      "\tcom.datastax.oss#native-protocol;1.5.0 from central in [default]\n",
      "\tcom.datastax.spark#spark-cassandra-connector-driver_2.12;3.1.0 from central in [default]\n",
      "\tcom.datastax.spark#spark-cassandra-connector_2.12;3.1.0 from central in [default]\n",
      "\tcom.github.luben#zstd-jni;1.4.8-1 from central in [default]\n",
      "\tcom.github.spotbugs#spotbugs-annotations;3.1.12 from central in [default]\n",
      "\tcom.github.stephenc.jcip#jcip-annotations;1.0-1 from central in [default]\n",
      "\tcom.google.code.findbugs#jsr305;3.0.2 from central in [default]\n",
      "\tcom.google.protobuf#protobuf-java;3.11.4 from central in [default]\n",
      "\tcom.thoughtworks.paranamer#paranamer;2.8 from central in [default]\n",
      "\tcom.typesafe#config;1.4.1 from central in [default]\n",
      "\tio.dropwizard.metrics#metrics-core;4.1.18 from central in [default]\n",
      "\tmysql#mysql-connector-java;8.0.26 from central in [default]\n",
      "\torg.apache.commons#commons-lang3;3.10 from central in [default]\n",
      "\torg.apache.commons#commons-pool2;2.6.2 from central in [default]\n",
      "\torg.apache.kafka#kafka-clients;2.6.0 from central in [default]\n",
      "\torg.apache.spark#spark-sql-kafka-0-10_2.12;3.1.2 from central in [default]\n",
      "\torg.apache.spark#spark-token-provider-kafka-0-10_2.12;3.1.2 from central in [default]\n",
      "\torg.hdrhistogram#HdrHistogram;2.1.12 from central in [default]\n",
      "\torg.lz4#lz4-java;1.7.1 from central in [default]\n",
      "\torg.reactivestreams#reactive-streams;1.0.3 from central in [default]\n",
      "\torg.scala-lang#scala-reflect;2.12.11 from central in [default]\n",
      "\torg.slf4j#slf4j-api;1.7.30 from central in [default]\n",
      "\torg.spark-project.spark#unused;1.0.0 from central in [default]\n",
      "\torg.xerial.snappy#snappy-java;1.1.8.2 from central in [default]\n",
      "\t:: evicted modules:\n",
      "\torg.slf4j#slf4j-api;1.7.26 by [org.slf4j#slf4j-api;1.7.30] in [default]\n",
      "\t---------------------------------------------------------------------\n",
      "\t|                  |            modules            ||   artifacts   |\n",
      "\t|       conf       | number| search|dwnlded|evicted|| number|dwnlded|\n",
      "\t---------------------------------------------------------------------\n",
      "\t|      default     |   29  |   0   |   0   |   1   ||   28  |   0   |\n",
      "\t---------------------------------------------------------------------\n",
      ":: retrieving :: org.apache.spark#spark-submit-parent-5a16b295-8702-4250-bac8-17820d011e68\n",
      "\tconfs: [default]\n",
      "\t0 artifacts copied, 28 already retrieved (0kB/17ms)\n",
      "21/10/23 20:21:05 WARN NativeCodeLoader: Unable to load native-hadoop library for your platform... using builtin-java classes where applicable\n",
      "Using Spark's default log4j profile: org/apache/spark/log4j-defaults.properties\n",
      "Setting default log level to \"WARN\".\n",
      "To adjust logging level use sc.setLogLevel(newLevel). For SparkR, use setLogLevel(newLevel).\n"
     ]
    }
   ],
   "source": [
    "spark = (\n",
    "    SparkSession.builder.appName(\"SampleEtlJob1\")\n",
    "    .config(\n",
    "        \"spark.jars.packages\",\n",
    "        \"mysql:mysql-connector-java:8.0.26,org.apache.spark:spark-sql_2.12:3.1.2,org.apache.spark:spark-sql-kafka-0-10_2.12:3.1.2,com.datastax.spark:spark-cassandra-connector_2.12:3.1.0\",\n",
    "    )\n",
    "    .master(\"spark://spark:7077\")\n",
    "    .getOrCreate()\n",
    ")"
   ]
  },
  {
   "cell_type": "code",
   "execution_count": 3,
   "id": "46b41c0f-5310-4bbb-9f5b-cab2a87e7bf5",
   "metadata": {},
   "outputs": [
    {
     "name": "stderr",
     "output_type": "stream",
     "text": [
      "[Stage 1:>                                                          (0 + 1) / 1]\r"
     ]
    },
    {
     "name": "stdout",
     "output_type": "stream",
     "text": [
      "+------------+--------------------+--------+--------------+--------+---------+\n",
      "|Manufacturer|        Product Name|    Size|      itemType|     SKU|BasePrice|\n",
      "+------------+--------------------+--------+--------------+--------+---------+\n",
      "|   Zatarains|  Jambalaya Rice Mix|   12 oz| Rice/Rice Mix|42081001|    $2.49|\n",
      "|   Zatarains|  Jambalaya Rice Mix|    8 oz| Rice/Rice Mix|42082001|    $1.79|\n",
      "|     Yucatan|   Guacamole Regular|    8 oz|          null|42083001|    $3.99|\n",
      "|       Yuban|Coffee Original B...|   12 oz|Coffee/Creamer|42084001|    $3.99|\n",
      "|     Yoplait| GoGurt Variety Pack|    8 ct|        Yogurt|42085001|    $2.99|\n",
      "|    Wishbone|    Italian Dressing|   16 oz|Salad Dressing|42086001|    $2.00|\n",
      "|White Castle|Cheeseburger Heat...|29.28 oz|          null|42087001|   $11.59|\n",
      "|     Whiskas| Choice Cuts Poultry|   36 oz|      Pet Food|42088001|    $4.99|\n",
      "|      Welchs|Farmers Pick Conc...|   46 oz|          null|42089001|    $3.59|\n",
      "|      Welchs|     Juice Red Grape|   64 oz|         Juice|42090001|    $4.79|\n",
      "|    Weetabix|Cereal Whole Grai...|   15 oz|        Cereal|42091001|    $6.99|\n",
      "|    Velveeta|Shells & Cheese M...| 2.39 oz|  Mac & Cheese|42092001|    $1.00|\n",
      "|    Velveeta|Shells & Cheese O...|   12 oz|  Mac & Cheese|42093001|    $2.49|\n",
      "|          V8|  Splash Berry Blend|   64 oz|         Juice|42094001|    $2.99|\n",
      "|          V8|  Splash Mango Peach|   64 oz|         Juice|42095001|    $2.99|\n",
      "|          V8|      V-Fusion Berry|   8 pkg|         Juice|42096001|    $3.49|\n",
      "|          V8|V-Fusion Pomegran...|   46 oz|         Juice|42097001|    $3.99|\n",
      "|          V8|V-Fusion Refreshe...|   46 oz|         Juice|42098001|    $3.49|\n",
      "|   Uncle Sam|Whole Grain Origi...|   13 oz|        Cereal|42099001|    $2.50|\n",
      "| Turkey Hill|      Iced Tea Lemon|  128 oz|          null|42100001|    $2.99|\n",
      "+------------+--------------------+--------+--------------+--------+---------+\n",
      "only showing top 20 rows\n",
      "\n"
     ]
    },
    {
     "name": "stderr",
     "output_type": "stream",
     "text": [
      "                                                                                \r"
     ]
    }
   ],
   "source": [
    "catalog_path: str = \"/mounts/spark-share/Products1.txt\"\n",
    "catalog_df = spark.read.options(header=True, delimiter=\"|\").csv(catalog_path)\n",
    "catalog_df.show()"
   ]
  },
  {
   "cell_type": "code",
   "execution_count": 4,
   "id": "968372db-0358-4d41-87ca-eedfd9e6a557",
   "metadata": {},
   "outputs": [
    {
     "name": "stdout",
     "output_type": "stream",
     "text": [
      "+------------+--------------------+--------+--------------+--------+----------+\n",
      "|manufacturer|        product_name|    size|     item_type|     sku|base_price|\n",
      "+------------+--------------------+--------+--------------+--------+----------+\n",
      "|   ZATARAINS|  JAMBALAYA RICE MIX|   12 OZ| RICE/RICE MIX|42081001|     $2.49|\n",
      "|   ZATARAINS|  JAMBALAYA RICE MIX|    8 OZ| RICE/RICE MIX|42082001|     $1.79|\n",
      "|     YUCATAN|   GUACAMOLE REGULAR|    8 OZ|         OTHER|42083001|     $3.99|\n",
      "|       YUBAN|COFFEE ORIGINAL B...|   12 OZ|COFFEE/CREAMER|42084001|     $3.99|\n",
      "|     YOPLAIT| GOGURT VARIETY PACK|    8 CT|        YOGURT|42085001|     $2.99|\n",
      "|    WISHBONE|    ITALIAN DRESSING|   16 OZ|SALAD DRESSING|42086001|     $2.00|\n",
      "|WHITE CASTLE|CHEESEBURGER HEAT...|29.28 OZ|         OTHER|42087001|    $11.59|\n",
      "|     WHISKAS| CHOICE CUTS POULTRY|   36 OZ|      PET FOOD|42088001|     $4.99|\n",
      "|      WELCHS|FARMERS PICK CONC...|   46 OZ|         OTHER|42089001|     $3.59|\n",
      "|      WELCHS|     JUICE RED GRAPE|   64 OZ|         JUICE|42090001|     $4.79|\n",
      "|    WEETABIX|CEREAL WHOLE GRAI...|   15 OZ|        CEREAL|42091001|     $6.99|\n",
      "|    VELVEETA|SHELLS & CHEESE M...| 2.39 OZ|  MAC & CHEESE|42092001|     $1.00|\n",
      "|    VELVEETA|SHELLS & CHEESE O...|   12 OZ|  MAC & CHEESE|42093001|     $2.49|\n",
      "|          V8|  SPLASH BERRY BLEND|   64 OZ|         JUICE|42094001|     $2.99|\n",
      "|          V8|  SPLASH MANGO PEACH|   64 OZ|         JUICE|42095001|     $2.99|\n",
      "|          V8|      V-FUSION BERRY|   8 PKG|         JUICE|42096001|     $3.49|\n",
      "|          V8|V-FUSION POMEGRAN...|   46 OZ|         JUICE|42097001|     $3.99|\n",
      "|          V8|V-FUSION REFRESHE...|   46 OZ|         JUICE|42098001|     $3.49|\n",
      "|   UNCLE SAM|WHOLE GRAIN ORIGI...|   13 OZ|        CEREAL|42099001|     $2.50|\n",
      "| TURKEY HILL|      ICED TEA LEMON|  128 OZ|         OTHER|42100001|     $2.99|\n",
      "+------------+--------------------+--------+--------------+--------+----------+\n",
      "only showing top 20 rows\n",
      "\n"
     ]
    }
   ],
   "source": [
    "# replace missing itemType values with \"OTHER\"\n",
    "catalog_df = catalog_df.fillna(\"OTHER\", [\"itemType\"])\n",
    "\n",
    "for col in catalog_df.columns:\n",
    "    # capitalize all string fields\n",
    "    catalog_df = catalog_df.withColumn(col, F.upper(catalog_df[col]))\n",
    "    # convert column titles to snake case\n",
    "    catalog_df = catalog_df.withColumnRenamed(col, snakecase(col))\n",
    "\n",
    "catalog_df.show()"
   ]
  },
  {
   "cell_type": "code",
   "execution_count": 5,
   "id": "a38b9be7-e8e7-4c19-846a-1a463a13c9cd",
   "metadata": {},
   "outputs": [
    {
     "name": "stderr",
     "output_type": "stream",
     "text": [
      "[Stage 3:>                                                          (0 + 1) / 1]\r"
     ]
    },
    {
     "name": "stdout",
     "output_type": "stream",
     "text": [
      "+-------+--------------+-----------+--------+----------+----------------+\n",
      "|     id|transaction_id|customer_id|     sku|sale_price|transaction_date|\n",
      "+-------+--------------+-----------+--------+----------+----------------+\n",
      "|5047396|        108471|       4631|42358001|      2.02|      2020-04-05|\n",
      "|5047397|        108471|       4631|44123001|      3.73|      2020-04-05|\n",
      "|5047398|        108471|       4631|43128001|      3.73|      2020-04-05|\n",
      "|5047399|        108471|       4631|42235001|      3.21|      2020-04-05|\n",
      "|5047400|        108471|       4631|43577001|      3.34|      2020-04-05|\n",
      "|5047401|        108471|       4631|44089001|      2.77|      2020-04-05|\n",
      "|5047402|        108471|       4631|43496001|      4.80|      2020-04-05|\n",
      "|5047403|        108471|       4631|43968001|      1.38|      2020-04-05|\n",
      "|5047404|        108471|       4631|43491001|      3.95|      2020-04-05|\n",
      "|5047405|        108471|       4631|42535001|      4.27|      2020-04-05|\n",
      "|5047406|        108471|       4631|43741001|      0.66|      2020-04-05|\n",
      "|5047407|        108471|       4631|43725001|      1.54|      2020-04-05|\n",
      "|5047408|        108471|       4631|43627001|      6.41|      2020-04-05|\n",
      "|5047409|        108471|       4631|42633001|      8.23|      2020-04-05|\n",
      "|5047410|        108471|       4631|42705001|      2.99|      2020-04-05|\n",
      "|5047411|        108471|       4631|42556001|      2.34|      2020-04-05|\n",
      "|5047412|        108471|       4631|43868001|      1.81|      2020-04-05|\n",
      "|5047413|        108471|       4631|42694001|      7.48|      2020-04-05|\n",
      "|5047414|        108471|       4631|43197001|      2.93|      2020-04-05|\n",
      "|5047415|        108471|       4631|43188001|      3.19|      2020-04-05|\n",
      "+-------+--------------+-----------+--------+----------+----------------+\n",
      "only showing top 20 rows\n",
      "\n"
     ]
    },
    {
     "name": "stderr",
     "output_type": "stream",
     "text": [
      "                                                                                \r"
     ]
    }
   ],
   "source": [
    "transactions_db: str = \"backup\"\n",
    "transactions_table: str = \"transactions_subset\"\n",
    "transactions_url: str = \"jdbc:mysql://mariadb:3306/{db}\".format(db=transactions_db)\n",
    "transactions_query: str = \"SELECT * FROM {table}\".format(table=transactions_table)\n",
    "\n",
    "transactions_df = (\n",
    "    spark.read.format(\"jdbc\")\n",
    "    .option(\"url\", transactions_url)\n",
    "    .option(\"driver\", \"com.mysql.cj.jdbc.Driver\")\n",
    "    .option(\n",
    "        \"query\",\n",
    "        transactions_query,\n",
    "    )\n",
    "    .option(\"user\", \"root\")\n",
    "    .load()\n",
    ")\n",
    "\n",
    "transactions_df.show()"
   ]
  },
  {
   "cell_type": "code",
   "execution_count": 6,
   "id": "e0db7bd4-1c05-4903-9924-51d4d1695995",
   "metadata": {},
   "outputs": [
    {
     "name": "stderr",
     "output_type": "stream",
     "text": [
      "[Stage 5:>                                                          (0 + 1) / 1]\r"
     ]
    },
    {
     "name": "stdout",
     "output_type": "stream",
     "text": [
      "+-------+--------------+-----------+--------+----------+----------------+---------------+--------------------+--------+\n",
      "|     id|transaction_id|customer_id|     sku|sale_price|transaction_date|   manufacturer|        product_name|    size|\n",
      "+-------+--------------+-----------+--------+----------+----------------+---------------+--------------------+--------+\n",
      "|5047396|        108471|       4631|42358001|      2.02|      2020-04-05|    ROWAN DAIRY|          2.00% MILK| 1/2 GAL|\n",
      "|5047397|        108471|       4631|44123001|      3.73|      2020-04-05|         ARNOLD|SANDWICH THINS MU...|   12 OZ|\n",
      "|5047398|        108471|       4631|43128001|      3.73|      2020-04-05|        HERSHEY|     SYRUP CHOCOLATE|   48 OZ|\n",
      "|5047399|        108471|       4631|42235001|      3.21|      2020-04-05|      TASTYKAKE|      CUPCAKES LEMON|12.75 OZ|\n",
      "|5047400|        108471|       4631|43577001|      3.34|      2020-04-05|    EVEN BETTER|EVEN BETTER CHEES...|     6.9|\n",
      "|5047401|        108471|       4631|44089001|      2.77|      2020-04-05|        BARILLA|PROTEIN PLUS MULT...| 14.5 OZ|\n",
      "|5047402|        108471|       4631|43496001|      4.80|      2020-04-05|      FRITO LAY|TOSTITOS TORTILLA...|   18 OZ|\n",
      "|5047403|        108471|       4631|43968001|      1.38|      2020-04-05|  BETTY CROCKER|HAMBURGER HELPER ...|  5.2 OZ|\n",
      "|5047404|        108471|       4631|43491001|      3.95|      2020-04-05|      FRITO LAY|TOSTITOS SIMPLY O...| 8.25 OZ|\n",
      "|5047405|        108471|       4631|42535001|      4.27|      2020-04-05|PEPPERIDGE FARM|GOLDFISH BLASTED ...|   11 OZ|\n",
      "|5047406|        108471|       4631|43741001|      0.66|      2020-04-05|      CORMORANT|CORMORANT GLASS C...|    18.1|\n",
      "|5047407|        108471|       4631|43725001|      1.54|      2020-04-05|   CUTTING EDGE|CUTTING EDGE FOOT...|    5.67|\n",
      "|5047408|        108471|       4631|43627001|      6.41|      2020-04-05|     ENTENMANNS|DONUTS ULTIMATE C...|   17 OZ|\n",
      "|5047409|        108471|       4631|42633001|      8.23|      2020-04-05|    OPEN NATURE|MEATBALLS ANGUS BEEF|   14 OZ|\n",
      "|5047410|        108471|       4631|42705001|      2.99|      2020-04-05|        NABISCO|CHIPS AHOY COOKIE...|    7 OZ|\n",
      "|5047411|        108471|       4631|42556001|      2.34|      2020-04-05|PEPPERIDGE FARM|GOLDFISH WHOLE GR...|  6.6 OZ|\n",
      "|5047412|        108471|       4631|43868001|      1.81|      2020-04-05|          BUSHS|ORIGINAL BAKED BEANS|   16 OZ|\n",
      "|5047413|        108471|       4631|42694001|      7.48|      2020-04-05|        NABISCO|CHIPS AHOY COOKIE...|   12 CT|\n",
      "|5047414|        108471|       4631|43197001|      2.93|      2020-04-05|        GORILLA|GORILLA HEAD CHEESE |    17.2|\n",
      "|5047415|        108471|       4631|43188001|      3.19|      2020-04-05|     GULF COAST|GULF COAST WHITE ...|    17.2|\n",
      "+-------+--------------+-----------+--------+----------+----------------+---------------+--------------------+--------+\n",
      "only showing top 20 rows\n",
      "\n"
     ]
    },
    {
     "name": "stderr",
     "output_type": "stream",
     "text": [
      "                                                                                \r"
     ]
    }
   ],
   "source": [
    "joined_df = (\n",
    "    transactions_df.alias(\"t\")\n",
    "    .join(catalog_df.alias(\"c\"), transactions_df.sku == catalog_df.sku)\n",
    "    .select(\"t.*\", \"c.manufacturer\", \"c.product_name\", \"c.size\")\n",
    ")\n",
    "joined_df.show()"
   ]
  },
  {
   "cell_type": "code",
   "execution_count": 7,
   "id": "0a2df5fb-134f-4bd9-b619-3bbeff2827df",
   "metadata": {},
   "outputs": [
    {
     "name": "stdout",
     "output_type": "stream",
     "text": [
      "root\n",
      " |-- id: integer (nullable = true)\n",
      " |-- transaction_id: decimal(20,0) (nullable = true)\n",
      " |-- customer_id: decimal(20,0) (nullable = true)\n",
      " |-- sku: long (nullable = true)\n",
      " |-- sale_price: decimal(38,2) (nullable = true)\n",
      " |-- transaction_date: date (nullable = true)\n",
      " |-- manufacturer: string (nullable = true)\n",
      " |-- product_name: string (nullable = true)\n",
      " |-- size: string (nullable = true)\n",
      "\n"
     ]
    }
   ],
   "source": [
    "joined_df.printSchema()"
   ]
  },
  {
   "cell_type": "code",
   "execution_count": 8,
   "id": "865508b6-2ffa-4864-93ac-c9aa38467f0f",
   "metadata": {},
   "outputs": [],
   "source": [
    "KEYSPACE = \"demo_keyspace\"\n",
    "TABLE = \"demo_table\"\n",
    "\n",
    "auth_provider = PlainTextAuthProvider(username=\"cassandra\", password=\"cassandra\")\n",
    "cluster = Cluster([\"cassandra\"], port=9042, auth_provider=auth_provider)\n",
    "session = cluster.connect()\n",
    "\n",
    "rs = session.execute(\n",
    "    \"\"\"\n",
    "    CREATE KEYSPACE IF NOT EXISTS %s\n",
    "    WITH replication = { 'class': 'SimpleStrategy', 'replication_factor': '1' }\n",
    "    \"\"\"\n",
    "    % KEYSPACE\n",
    ")\n",
    "session.set_keyspace(KEYSPACE)"
   ]
  },
  {
   "cell_type": "code",
   "execution_count": 9,
   "id": "e9d65223-a5f7-4095-b726-d555d5396479",
   "metadata": {},
   "outputs": [],
   "source": [
    "session.execute(\"DROP TABLE IF EXISTS {table}\".format(table=TABLE))\n",
    "rs = session.execute(\n",
    "    \"\"\"\n",
    "    CREATE TABLE IF NOT EXISTS %s (\n",
    "        id int,\n",
    "        transaction_id bigint,\n",
    "        customer_id bigint,\n",
    "        sku bigint,\n",
    "        sale_price decimal,\n",
    "        transaction_date date,\n",
    "        manufacturer text,\n",
    "        product_name text,\n",
    "        size text,\n",
    "        PRIMARY KEY (id)\n",
    "    )\n",
    "    \"\"\"\n",
    "    % TABLE\n",
    ")"
   ]
  },
  {
   "cell_type": "code",
   "execution_count": 10,
   "id": "c749fc09-386b-494b-b5e3-1ad15b7908c3",
   "metadata": {},
   "outputs": [
    {
     "name": "stderr",
     "output_type": "stream",
     "text": [
      "[Stage 7:>                                                          (0 + 1) / 1]\r"
     ]
    },
    {
     "ename": "KeyboardInterrupt",
     "evalue": "",
     "output_type": "error",
     "traceback": [
      "\u001b[0;31m---------------------------------------------------------------------------\u001b[0m",
      "\u001b[0;31mKeyboardInterrupt\u001b[0m                         Traceback (most recent call last)",
      "\u001b[0;32m/tmp/ipykernel_37601/1629697680.py\u001b[0m in \u001b[0;36m<module>\u001b[0;34m\u001b[0m\n\u001b[0;32m----> 1\u001b[0;31m joined_df.write.format(\n\u001b[0m\u001b[1;32m      2\u001b[0m     \u001b[0;34m\"org.apache.spark.sql.cassandra\"\u001b[0m\u001b[0;34m\u001b[0m\u001b[0;34m\u001b[0m\u001b[0m\n\u001b[1;32m      3\u001b[0m \u001b[0;34m)\u001b[0m\u001b[0;34m.\u001b[0m\u001b[0mmode\u001b[0m\u001b[0;34m(\u001b[0m\u001b[0;34m\"overwrite\"\u001b[0m\u001b[0;34m)\u001b[0m\u001b[0;34m.\u001b[0m\u001b[0moption\u001b[0m\u001b[0;34m(\u001b[0m\u001b[0;34m\u001b[0m\u001b[0;34m\u001b[0m\u001b[0m\n\u001b[1;32m      4\u001b[0m     \u001b[0;34m\"confirm.truncate\"\u001b[0m\u001b[0;34m,\u001b[0m \u001b[0;34m\"true\"\u001b[0m\u001b[0;34m\u001b[0m\u001b[0;34m\u001b[0m\u001b[0m\n\u001b[1;32m      5\u001b[0m \u001b[0;34m)\u001b[0m\u001b[0;34m.\u001b[0m\u001b[0moption\u001b[0m\u001b[0;34m(\u001b[0m\u001b[0;34m\u001b[0m\u001b[0;34m\u001b[0m\u001b[0m\n",
      "\u001b[0;32m/usr/local/spark/python/pyspark/sql/readwriter.py\u001b[0m in \u001b[0;36msave\u001b[0;34m(self, path, format, mode, partitionBy, **options)\u001b[0m\n\u001b[1;32m   1105\u001b[0m             \u001b[0mself\u001b[0m\u001b[0;34m.\u001b[0m\u001b[0mformat\u001b[0m\u001b[0;34m(\u001b[0m\u001b[0mformat\u001b[0m\u001b[0;34m)\u001b[0m\u001b[0;34m\u001b[0m\u001b[0;34m\u001b[0m\u001b[0m\n\u001b[1;32m   1106\u001b[0m         \u001b[0;32mif\u001b[0m \u001b[0mpath\u001b[0m \u001b[0;32mis\u001b[0m \u001b[0;32mNone\u001b[0m\u001b[0;34m:\u001b[0m\u001b[0;34m\u001b[0m\u001b[0;34m\u001b[0m\u001b[0m\n\u001b[0;32m-> 1107\u001b[0;31m             \u001b[0mself\u001b[0m\u001b[0;34m.\u001b[0m\u001b[0m_jwrite\u001b[0m\u001b[0;34m.\u001b[0m\u001b[0msave\u001b[0m\u001b[0;34m(\u001b[0m\u001b[0;34m)\u001b[0m\u001b[0;34m\u001b[0m\u001b[0;34m\u001b[0m\u001b[0m\n\u001b[0m\u001b[1;32m   1108\u001b[0m         \u001b[0;32melse\u001b[0m\u001b[0;34m:\u001b[0m\u001b[0;34m\u001b[0m\u001b[0;34m\u001b[0m\u001b[0m\n\u001b[1;32m   1109\u001b[0m             \u001b[0mself\u001b[0m\u001b[0;34m.\u001b[0m\u001b[0m_jwrite\u001b[0m\u001b[0;34m.\u001b[0m\u001b[0msave\u001b[0m\u001b[0;34m(\u001b[0m\u001b[0mpath\u001b[0m\u001b[0;34m)\u001b[0m\u001b[0;34m\u001b[0m\u001b[0;34m\u001b[0m\u001b[0m\n",
      "\u001b[0;32m/usr/local/spark/python/lib/py4j-0.10.9-src.zip/py4j/java_gateway.py\u001b[0m in \u001b[0;36m__call__\u001b[0;34m(self, *args)\u001b[0m\n\u001b[1;32m   1301\u001b[0m             \u001b[0mproto\u001b[0m\u001b[0;34m.\u001b[0m\u001b[0mEND_COMMAND_PART\u001b[0m\u001b[0;34m\u001b[0m\u001b[0;34m\u001b[0m\u001b[0m\n\u001b[1;32m   1302\u001b[0m \u001b[0;34m\u001b[0m\u001b[0m\n\u001b[0;32m-> 1303\u001b[0;31m         \u001b[0manswer\u001b[0m \u001b[0;34m=\u001b[0m \u001b[0mself\u001b[0m\u001b[0;34m.\u001b[0m\u001b[0mgateway_client\u001b[0m\u001b[0;34m.\u001b[0m\u001b[0msend_command\u001b[0m\u001b[0;34m(\u001b[0m\u001b[0mcommand\u001b[0m\u001b[0;34m)\u001b[0m\u001b[0;34m\u001b[0m\u001b[0;34m\u001b[0m\u001b[0m\n\u001b[0m\u001b[1;32m   1304\u001b[0m         return_value = get_return_value(\n\u001b[1;32m   1305\u001b[0m             answer, self.gateway_client, self.target_id, self.name)\n",
      "\u001b[0;32m/usr/local/spark/python/lib/py4j-0.10.9-src.zip/py4j/java_gateway.py\u001b[0m in \u001b[0;36msend_command\u001b[0;34m(self, command, retry, binary)\u001b[0m\n\u001b[1;32m   1031\u001b[0m         \u001b[0mconnection\u001b[0m \u001b[0;34m=\u001b[0m \u001b[0mself\u001b[0m\u001b[0;34m.\u001b[0m\u001b[0m_get_connection\u001b[0m\u001b[0;34m(\u001b[0m\u001b[0;34m)\u001b[0m\u001b[0;34m\u001b[0m\u001b[0;34m\u001b[0m\u001b[0m\n\u001b[1;32m   1032\u001b[0m         \u001b[0;32mtry\u001b[0m\u001b[0;34m:\u001b[0m\u001b[0;34m\u001b[0m\u001b[0;34m\u001b[0m\u001b[0m\n\u001b[0;32m-> 1033\u001b[0;31m             \u001b[0mresponse\u001b[0m \u001b[0;34m=\u001b[0m \u001b[0mconnection\u001b[0m\u001b[0;34m.\u001b[0m\u001b[0msend_command\u001b[0m\u001b[0;34m(\u001b[0m\u001b[0mcommand\u001b[0m\u001b[0;34m)\u001b[0m\u001b[0;34m\u001b[0m\u001b[0;34m\u001b[0m\u001b[0m\n\u001b[0m\u001b[1;32m   1034\u001b[0m             \u001b[0;32mif\u001b[0m \u001b[0mbinary\u001b[0m\u001b[0;34m:\u001b[0m\u001b[0;34m\u001b[0m\u001b[0;34m\u001b[0m\u001b[0m\n\u001b[1;32m   1035\u001b[0m                 \u001b[0;32mreturn\u001b[0m \u001b[0mresponse\u001b[0m\u001b[0;34m,\u001b[0m \u001b[0mself\u001b[0m\u001b[0;34m.\u001b[0m\u001b[0m_create_connection_guard\u001b[0m\u001b[0;34m(\u001b[0m\u001b[0mconnection\u001b[0m\u001b[0;34m)\u001b[0m\u001b[0;34m\u001b[0m\u001b[0;34m\u001b[0m\u001b[0m\n",
      "\u001b[0;32m/usr/local/spark/python/lib/py4j-0.10.9-src.zip/py4j/java_gateway.py\u001b[0m in \u001b[0;36msend_command\u001b[0;34m(self, command)\u001b[0m\n\u001b[1;32m   1198\u001b[0m \u001b[0;34m\u001b[0m\u001b[0m\n\u001b[1;32m   1199\u001b[0m         \u001b[0;32mtry\u001b[0m\u001b[0;34m:\u001b[0m\u001b[0;34m\u001b[0m\u001b[0;34m\u001b[0m\u001b[0m\n\u001b[0;32m-> 1200\u001b[0;31m             \u001b[0manswer\u001b[0m \u001b[0;34m=\u001b[0m \u001b[0msmart_decode\u001b[0m\u001b[0;34m(\u001b[0m\u001b[0mself\u001b[0m\u001b[0;34m.\u001b[0m\u001b[0mstream\u001b[0m\u001b[0;34m.\u001b[0m\u001b[0mreadline\u001b[0m\u001b[0;34m(\u001b[0m\u001b[0;34m)\u001b[0m\u001b[0;34m[\u001b[0m\u001b[0;34m:\u001b[0m\u001b[0;34m-\u001b[0m\u001b[0;36m1\u001b[0m\u001b[0;34m]\u001b[0m\u001b[0;34m)\u001b[0m\u001b[0;34m\u001b[0m\u001b[0;34m\u001b[0m\u001b[0m\n\u001b[0m\u001b[1;32m   1201\u001b[0m             \u001b[0mlogger\u001b[0m\u001b[0;34m.\u001b[0m\u001b[0mdebug\u001b[0m\u001b[0;34m(\u001b[0m\u001b[0;34m\"Answer received: {0}\"\u001b[0m\u001b[0;34m.\u001b[0m\u001b[0mformat\u001b[0m\u001b[0;34m(\u001b[0m\u001b[0manswer\u001b[0m\u001b[0;34m)\u001b[0m\u001b[0;34m)\u001b[0m\u001b[0;34m\u001b[0m\u001b[0;34m\u001b[0m\u001b[0m\n\u001b[1;32m   1202\u001b[0m             \u001b[0;32mif\u001b[0m \u001b[0manswer\u001b[0m\u001b[0;34m.\u001b[0m\u001b[0mstartswith\u001b[0m\u001b[0;34m(\u001b[0m\u001b[0mproto\u001b[0m\u001b[0;34m.\u001b[0m\u001b[0mRETURN_MESSAGE\u001b[0m\u001b[0;34m)\u001b[0m\u001b[0;34m:\u001b[0m\u001b[0;34m\u001b[0m\u001b[0;34m\u001b[0m\u001b[0m\n",
      "\u001b[0;32m/opt/conda/lib/python3.9/socket.py\u001b[0m in \u001b[0;36mreadinto\u001b[0;34m(self, b)\u001b[0m\n\u001b[1;32m    702\u001b[0m         \u001b[0;32mwhile\u001b[0m \u001b[0;32mTrue\u001b[0m\u001b[0;34m:\u001b[0m\u001b[0;34m\u001b[0m\u001b[0;34m\u001b[0m\u001b[0m\n\u001b[1;32m    703\u001b[0m             \u001b[0;32mtry\u001b[0m\u001b[0;34m:\u001b[0m\u001b[0;34m\u001b[0m\u001b[0;34m\u001b[0m\u001b[0m\n\u001b[0;32m--> 704\u001b[0;31m                 \u001b[0;32mreturn\u001b[0m \u001b[0mself\u001b[0m\u001b[0;34m.\u001b[0m\u001b[0m_sock\u001b[0m\u001b[0;34m.\u001b[0m\u001b[0mrecv_into\u001b[0m\u001b[0;34m(\u001b[0m\u001b[0mb\u001b[0m\u001b[0;34m)\u001b[0m\u001b[0;34m\u001b[0m\u001b[0;34m\u001b[0m\u001b[0m\n\u001b[0m\u001b[1;32m    705\u001b[0m             \u001b[0;32mexcept\u001b[0m \u001b[0mtimeout\u001b[0m\u001b[0;34m:\u001b[0m\u001b[0;34m\u001b[0m\u001b[0;34m\u001b[0m\u001b[0m\n\u001b[1;32m    706\u001b[0m                 \u001b[0mself\u001b[0m\u001b[0;34m.\u001b[0m\u001b[0m_timeout_occurred\u001b[0m \u001b[0;34m=\u001b[0m \u001b[0;32mTrue\u001b[0m\u001b[0;34m\u001b[0m\u001b[0;34m\u001b[0m\u001b[0m\n",
      "\u001b[0;31mKeyboardInterrupt\u001b[0m: "
     ]
    }
   ],
   "source": [
    "joined_df.write.format(\n",
    "    \"org.apache.spark.sql.cassandra\"\n",
    ").mode(\"overwrite\").option(\n",
    "    \"confirm.truncate\", \"true\"\n",
    ").option(\n",
    "    \"spark.cassandra.connection.host\", \"cassandra\"\n",
    ").option(\n",
    "    \"spark.cassandra.connection.port\", \"9042\"\n",
    ").option(\n",
    "    \"spark.cassandra.auth.username\", \"cassandra\"\n",
    ").option(\n",
    "    \"spark.cassandra.auth.password\", \"cassandra\"\n",
    ").option(\n",
    "    \"keyspace\", KEYSPACE\n",
    ").option(\n",
    "    \"table\", TABLE\n",
    ").save()"
   ]
  },
  {
   "cell_type": "code",
   "execution_count": null,
   "id": "fa25b8c5-254f-4dbf-aebd-13a6150ba4ee",
   "metadata": {},
   "outputs": [],
   "source": [
    "data_store_struct = StructType(\n",
    "    [\n",
    "        StructField(\"data_store_type\", StringType(), False),\n",
    "        StructField(\"url\", StringType(), False),\n",
    "        StructField(\"database\", StringType(), True),\n",
    "        StructField(\"table\", StringType(), True),\n",
    "        StructField(\"query\", StringType(), True),\n",
    "    ]\n",
    ")\n",
    "\n",
    "meta_data_schema = StructType(\n",
    "    [\n",
    "        StructField(\"sources\", ArrayType(data_store_struct), True),\n",
    "        StructField(\"destination\", data_store_struct, True),\n",
    "    ]\n",
    ")\n",
    "\n",
    "\n",
    "meta_data = [{\n",
    "    \"sources\": [\n",
    "        {\n",
    "            \"data_store_type\": \"disk\",\n",
    "            \"url\": catalog_path,\n",
    "        },\n",
    "        {\n",
    "            \"data_store_type\": \"mariadb\",\n",
    "            \"url\": transactions_url,\n",
    "            \"database\": transactions_db,\n",
    "            \"table\": transactions_table,\n",
    "            \"query\": transactions_query,\n",
    "        }\n",
    "    ],\n",
    "    \"destination\": {\n",
    "        \"data_store_type\": \"cassandra\",\n",
    "        \"url\": \"cassandra:9042\",\n",
    "        \"database\": KEYSPACE,\n",
    "        \"table\": TABLE\n",
    "    }\n",
    "}]\n",
    "\n",
    "meta_data_df = spark.createDataFrame(data=meta_data, schema=meta_data_schema)\n",
    "meta_data_df.printSchema()"
   ]
  },
  {
   "cell_type": "code",
   "execution_count": null,
   "id": "0afda750-1119-459e-b0ac-bb7a3b44e6f4",
   "metadata": {},
   "outputs": [],
   "source": [
    "joined_df.alias(\"joined\").join(\n",
    "    meta_data_df.alias(\"meta\")\n",
    ").select(\n",
    "    F.col(\"id\").cast(\"string\").alias(\"key\"),\n",
    "    F.to_json(\n",
    "        F.struct(\n",
    "            F.struct(\"joined.*\").alias(\"record\"),\n",
    "            F.struct(\"meta.*\").alias(\"meta_data\"),\n",
    "        )\n",
    "    ).alias(\"value\"),\n",
    ").write.format(\n",
    "    \"kafka\"\n",
    ").option(\n",
    "    \"kafka.bootstrap.servers\", \"kafka:29092\"\n",
    ").option(\n",
    "    \"topic\", \"persisted\"\n",
    ").save()"
   ]
  },
  {
   "cell_type": "code",
   "execution_count": null,
   "id": "47bea58f-cc71-4852-89ad-8ea4069d2fcc",
   "metadata": {},
   "outputs": [],
   "source": [
    "spark.stop()"
   ]
  }
 ],
 "metadata": {
  "kernelspec": {
   "display_name": "Python 3 (ipykernel)",
   "language": "python",
   "name": "python3"
  },
  "language_info": {
   "codemirror_mode": {
    "name": "ipython",
    "version": 3
   },
   "file_extension": ".py",
   "mimetype": "text/x-python",
   "name": "python",
   "nbconvert_exporter": "python",
   "pygments_lexer": "ipython3",
   "version": "3.9.7"
  }
 },
 "nbformat": 4,
 "nbformat_minor": 5
}
