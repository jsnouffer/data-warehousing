{
 "cells": [
  {
   "cell_type": "code",
   "execution_count": 1,
   "id": "7953fc25-9a7f-4a3d-b7e5-c4e6821aa65e",
   "metadata": {},
   "outputs": [],
   "source": [
    "import os\n",
    "from csv import DictReader\n",
    "\n",
    "import mariadb\n",
    "import pandas as pd\n",
    "from dotenv import load_dotenv\n",
    "from IPython.core.interactiveshell import InteractiveShell\n",
    "\n",
    "_ = load_dotenv(\"config.env\")\n",
    "InteractiveShell.ast_node_interactivity = \"all\"\n",
    "DATABASE_NAME: str = \"data_mart\""
   ]
  },
  {
   "cell_type": "code",
   "execution_count": 2,
   "id": "638e6b6d-3e85-4acd-ae50-778792c237fc",
   "metadata": {},
   "outputs": [],
   "source": [
    "connection = mariadb.connect(\n",
    "    host=\"127.0.0.1\",\n",
    "    port=23306,\n",
    "    user=os.getenv(\"user\"),\n",
    "    password=os.getenv(\"password\"),\n",
    "    autocommit=False,\n",
    ")\n",
    "cursor = connection.cursor()"
   ]
  },
  {
   "cell_type": "markdown",
   "id": "79c622a7-7db8-4ad1-a9ec-9bc90bb70d21",
   "metadata": {},
   "source": [
    "## Part 1 - Replace product table with the conformed product table"
   ]
  },
  {
   "cell_type": "code",
   "execution_count": 3,
   "id": "183ab32e-c631-4169-93bc-e7b3c33e97a1",
   "metadata": {},
   "outputs": [
    {
     "data": {
      "text/plain": [
       "(2075, 14)"
      ]
     },
     "execution_count": 3,
     "metadata": {},
     "output_type": "execute_result"
    },
    {
     "data": {
      "text/plain": [
       "Index(['product_key', 'sku', 'product_name', 'product_class_id',\n",
       "       'product_subcategory', 'product_category', 'product_department',\n",
       "       'product_family', 'size', 'number_per_case', 'brand_name',\n",
       "       'manufacturer', 'supplier', 'product_class_source_key'],\n",
       "      dtype='object')"
      ]
     },
     "execution_count": 3,
     "metadata": {},
     "output_type": "execute_result"
    }
   ],
   "source": [
    "# original product dimension table was copied to database \"backups\"\n",
    "cursor.execute(\"SELECT * FROM backups.product_dimension\")\n",
    "columns: list = [desc[0] for desc in cursor.description]\n",
    "original_product_dimensions: pd.DataFrame = pd.DataFrame(data=cursor.fetchall(), columns=columns)\n",
    "original_product_dimensions.shape\n",
    "original_product_dimensions.columns"
   ]
  },
  {
   "cell_type": "code",
   "execution_count": 4,
   "id": "45505d2f-d430-427a-896c-c55ed166f614",
   "metadata": {},
   "outputs": [
    {
     "data": {
      "text/plain": [
       "(2075, 11)"
      ]
     },
     "execution_count": 4,
     "metadata": {},
     "output_type": "execute_result"
    },
    {
     "data": {
      "text/plain": [
       "Index(['ProductKey1', 'sku', 'product_name', 'product_class_id', 'subcategory',\n",
       "       'category', 'department', 'product_family', 'size', 'brandName',\n",
       "       'supplier'],\n",
       "      dtype='object')"
      ]
     },
     "execution_count": 4,
     "metadata": {},
     "output_type": "execute_result"
    }
   ],
   "source": [
    "new_product_dimensions: pd.DataFrame = pd.read_csv(\"ConformedProducts.txt\", sep=\"\\t\")\n",
    "new_product_dimensions.shape\n",
    "new_product_dimensions.columns"
   ]
  },
  {
   "cell_type": "markdown",
   "id": "7924246c-2efa-4f74-99ae-a32078bacb24",
   "metadata": {},
   "source": [
    "### Add new product class source to meta table"
   ]
  },
  {
   "cell_type": "code",
   "execution_count": 5,
   "id": "8ca2f412-5309-4fa8-84c4-c9ec120d0c38",
   "metadata": {},
   "outputs": [],
   "source": [
    "cursor.execute(\n",
    "    \"\"\"\n",
    "    INSERT IGNORE INTO {db}.product_class_source (source_key, source) VALUES (?, ?)\n",
    "    \"\"\".format(\n",
    "        db=DATABASE_NAME\n",
    "    ),\n",
    "    (\n",
    "        7,\n",
    "        \"FROM CONFORMED PRODUCT TABLE\",\n",
    "    ),\n",
    ")\n",
    "connection.commit()"
   ]
  },
  {
   "cell_type": "markdown",
   "id": "d63a212c-f3f2-404e-a4ee-83f7ffe36a82",
   "metadata": {},
   "source": [
    "### Create intermediate mapping table"
   ]
  },
  {
   "cell_type": "code",
   "execution_count": 6,
   "id": "fa158cf1-e840-46f7-a922-494b0d5a0dc6",
   "metadata": {},
   "outputs": [],
   "source": [
    "remap_product_categories: bool = False\n",
    "\n",
    "if remap_product_categories:\n",
    "    cursor.execute(\"DROP TABLE IF EXISTS {db}.product_dimension_change_mapping\".format(db=DATABASE_NAME))\n",
    "    cursor.execute(\n",
    "        \"\"\"\n",
    "        CREATE TABLE IF NOT EXISTS {db}.product_dimension_change_mapping (\n",
    "            sku INT UNSIGNED PRIMARY KEY NOT NULL,\n",
    "            old_product_key INT UNSIGNED NOT NULL,\n",
    "            old_product_class_id INT UNSIGNED NOT NULL,\n",
    "            old_product_class_source_key INT UNSIGNED NOT NULL,\n",
    "            new_product_key INT UNSIGNED NOT NULL,\n",
    "            new_product_class_id INT UNSIGNED NOT NULL,\n",
    "            new_product_class_source_key INT UNSIGNED NOT NULL\n",
    "        )\n",
    "        \"\"\".format(\n",
    "            db=DATABASE_NAME\n",
    "        )\n",
    "    )\n",
    "\n",
    "    for original_dimension in original_product_dimensions.itertuples():\n",
    "        new_dimension = new_product_dimensions[new_product_dimensions[\"sku\"] == original_dimension.sku].iloc[0]\n",
    "        new_product_class_id = new_dimension.product_class_id.item()\n",
    "        new_product_class_source_key = 7 if original_dimension.product_class_id != new_product_class_id else original_dimension.product_class_source_key\n",
    "        \n",
    "        cursor.execute(\n",
    "            \"\"\"\n",
    "            INSERT INTO {db}.product_dimension_change_mapping (\n",
    "                sku, old_product_key, old_product_class_id, old_product_class_source_key,\n",
    "                new_product_key, new_product_class_id, new_product_class_source_key\n",
    "            ) VALUES (?, ?, ?, ?, ?, ?, ?)\n",
    "            \"\"\".format(\n",
    "                db=DATABASE_NAME\n",
    "            ),\n",
    "            (\n",
    "                original_dimension.sku,\n",
    "                original_dimension.product_key,\n",
    "                original_dimension.product_class_id,\n",
    "                original_dimension.product_class_source_key,\n",
    "                new_dimension.ProductKey1.item(),\n",
    "                new_product_class_id,\n",
    "                new_product_class_source_key\n",
    "            ),\n",
    "        )\n",
    "    connection.commit()"
   ]
  },
  {
   "cell_type": "code",
   "execution_count": 7,
   "id": "49687586-1022-45d9-ae3c-e55be3e9abdf",
   "metadata": {},
   "outputs": [
    {
     "name": "stdout",
     "output_type": "stream",
     "text": [
      "(42081001, 1, 57, 2, 1, 57, 2)\n",
      "(42082001, 2, 57, 2, 2, 57, 2)\n",
      "(42083001, 3, 83, 6, 3, 99, 7)\n",
      "(42084001, 4, 7, 4, 4, 90, 7)\n",
      "(42085001, 5, 6, 1, 5, 6, 1)\n",
      "(42086001, 6, 48, 6, 6, 260, 7)\n",
      "(42087001, 7, 65, 6, 7, 65, 6)\n",
      "(42088001, 8, 0, 0, 8, 77, 7)\n",
      "(42089001, 9, 30, 3, 9, 99, 7)\n",
      "(42090001, 10, 30, 1, 10, 30, 1)\n",
      "(42091001, 11, 35, 1, 11, 35, 1)\n",
      "(42092001, 12, 5, 2, 12, 10, 7)\n",
      "(42093001, 13, 5, 2, 13, 5, 2)\n",
      "(42094001, 14, 30, 1, 14, 30, 1)\n",
      "(42095001, 15, 30, 1, 15, 30, 1)\n",
      "(42096001, 16, 30, 1, 16, 30, 1)\n",
      "(42097001, 17, 30, 1, 17, 30, 1)\n",
      "(42098001, 18, 30, 1, 18, 30, 1)\n",
      "(42099001, 19, 35, 1, 19, 35, 1)\n",
      "(42100001, 20, 52, 6, 20, 52, 6)\n",
      "(42101001, 21, 30, 1, 21, 30, 1)\n",
      "(42102001, 22, 30, 1, 22, 30, 1)\n",
      "(42103001, 23, 1, 1, 23, 1, 1)\n",
      "(42104001, 24, 13, 1, 24, 13, 1)\n",
      "(42105001, 25, 13, 1, 25, 13, 1)\n"
     ]
    }
   ],
   "source": [
    "cursor.execute(\"SELECT * FROM {db}.product_dimension_change_mapping LIMIT 25\".format(db=DATABASE_NAME))\n",
    "for row in cursor.fetchall():\n",
    "    print(row)"
   ]
  },
  {
   "cell_type": "markdown",
   "id": "e563542e-8978-4587-8f47-838be7974adf",
   "metadata": {},
   "source": [
    "### Create new Product Dimension table with conformed data"
   ]
  },
  {
   "cell_type": "code",
   "execution_count": 8,
   "id": "7addc89a-0b6b-4bd0-97d0-8d045469a713",
   "metadata": {},
   "outputs": [],
   "source": [
    "if remap_product_categories:\n",
    "    cursor.execute(\"DROP TABLE IF EXISTS {db}.product_dimension\".format(db=DATABASE_NAME))\n",
    "    cursor.execute(\n",
    "        \"\"\"\n",
    "        CREATE TABLE IF NOT EXISTS {db}.product_dimension (\n",
    "            product_key INT PRIMARY KEY AUTO_INCREMENT,\n",
    "            sku INT UNSIGNED NOT NULL,\n",
    "            product_name TEXT NOT NULL,\n",
    "            product_class_id INT UNSIGNED,\n",
    "            product_subcategory TEXT,\n",
    "            product_category TEXT,\n",
    "            product_department TEXT,\n",
    "            product_family TEXT,\n",
    "            size TEXT NOT NULL,\n",
    "            brand_name TEXT,\n",
    "            supplier TEXT NOT NULL\n",
    "        )\n",
    "        \"\"\".format(\n",
    "            db=DATABASE_NAME\n",
    "        )\n",
    "    )\n",
    "    \n",
    "    for row in new_product_dimensions.itertuples():\n",
    "        cursor.execute(\n",
    "            \"\"\"\n",
    "            INSERT INTO {db}.product_dimension (sku, product_name, product_class_id, product_subcategory, product_category, product_department,\n",
    "            product_family, size, brand_name, supplier)\n",
    "            VALUES (?, ?, ?, ?, ?, ?, ?, ?, ?, ?)\n",
    "            \"\"\".format(\n",
    "                db=DATABASE_NAME\n",
    "            ),\n",
    "            (\n",
    "                row.sku,\n",
    "                row.product_name,\n",
    "                row.product_class_id,\n",
    "                row.subcategory,\n",
    "                row.category,\n",
    "                row.department,\n",
    "                row.product_family,\n",
    "                row.size,\n",
    "                row.brandName,\n",
    "                row.supplier,\n",
    "            ),\n",
    "        )\n",
    "        connection.commit()"
   ]
  },
  {
   "cell_type": "code",
   "execution_count": 9,
   "id": "5ad529d0-5f77-4452-852e-ef381de7f5fe",
   "metadata": {},
   "outputs": [
    {
     "name": "stdout",
     "output_type": "stream",
     "text": [
      "(1, 42081001, 'Jambalaya Rice Mix', 57, 'Rice', 'Starchy Foods', 'Starchy Foods', 'Food', '12 oz', 'Zatarains', 'Rowan Warehouse')\n",
      "(2, 42082001, 'Jambalaya Rice Mix', 57, 'Rice', 'Starchy Foods', 'Starchy Foods', 'Food', '8 oz', 'Zatarains', 'Rowan Warehouse')\n",
      "(3, 42083001, 'Guacamole Regular', 99, 'Fresh Fruit', 'Fruit', 'Produce', 'Food', '8 oz', 'Yucatan', 'Rowan Warehouse')\n",
      "(4, 42084001, 'Coffee Original Blend', 90, 'Coffee', 'Hot Beverages', 'Beverages', 'Drink', '12 oz', 'Yuban', 'Rowan Warehouse')\n",
      "(5, 42085001, 'GoGurt Variety Pack', 6, 'Yogurt', 'Dairy', 'Dairy', 'Food', '8 ct', 'Yoplait', 'Rowan Warehouse')\n",
      "(6, 42086001, 'Italian Dressing', 260, 'Dressings', 'Baking Goods', 'Baking Products', 'Food', '16 oz', 'Wishbone', 'Rowan Warehouse')\n",
      "(7, 42087001, 'Cheeseburger Heat & Serve Sliders', 65, 'Hamburger', 'Meat', 'Meat', 'Food', '29.28 oz', 'White Castle', 'Rowan Warehouse')\n",
      "(8, 42088001, 'Choice Cuts Poultry', 77, 'Fresh Chicken', 'Meat', 'Deli', 'Food', '36 oz', 'Whiskas', 'Rowan Warehouse')\n",
      "(9, 42089001, 'Farmers Pick Concord Grape', 99, 'Fresh Fruit', 'Fruit', 'Produce', 'Food', '46 oz', 'Welchs', 'Rowan Warehouse')\n",
      "(10, 42090001, 'Juice Red Grape', 30, 'Juice', 'Pure Juice Beverages', 'Beverages', 'Drink', '64 oz', 'Welchs', 'Rowan Warehouse')\n",
      "(11, 42091001, 'Cereal Whole Grain Biscuit', 35, 'Cereal', 'Breakfast Foods', 'Breakfast Foods', 'Food', '15 oz', 'Weetabix', 'Rowan Warehouse')\n",
      "(12, 42092001, 'Shells & Cheese Microwave Cup', 10, 'TV Dinner', 'Frozen Entrees', 'Frozen Foods', 'Food', '2.39 oz', 'Velveeta', 'Rowan Warehouse')\n",
      "(13, 42093001, 'Shells & Cheese Original', 5, 'Pasta', 'Starchy Foods', 'Starchy Foods', 'Food', '12 oz', 'Velveeta', 'Rowan Warehouse')\n",
      "(14, 42094001, 'Splash Berry Blend', 30, 'Juice', 'Pure Juice Beverages', 'Beverages', 'Drink', '64 oz', 'V8', 'Rowan Warehouse')\n",
      "(15, 42095001, 'Splash Mango Peach', 30, 'Juice', 'Pure Juice Beverages', 'Beverages', 'Drink', '64 oz', 'V8', 'Rowan Warehouse')\n",
      "(16, 42096001, 'V-Fusion Berry', 30, 'Juice', 'Pure Juice Beverages', 'Beverages', 'Drink', '8 pkg', 'V8', 'Rowan Warehouse')\n",
      "(17, 42097001, 'V-Fusion Pomegranate Blueberry', 30, 'Juice', 'Pure Juice Beverages', 'Beverages', 'Drink', '46 oz', 'V8', 'Rowan Warehouse')\n",
      "(18, 42098001, 'V-Fusion Refreshers Peach Strawberry', 30, 'Juice', 'Pure Juice Beverages', 'Beverages', 'Drink', '46 oz', 'V8', 'Rowan Warehouse')\n",
      "(19, 42099001, 'Whole Grain Original Cereal', 35, 'Cereal', 'Breakfast Foods', 'Breakfast Foods', 'Food', '13 oz', 'Uncle Sam', 'Rowan Warehouse')\n",
      "(20, 42100001, 'Iced Tea Lemon', 52, 'Flavored Drinks', 'Drinks', 'Beverages', 'Drink', '128 oz', 'Turkey Hill', 'Rowan Warehouse')\n",
      "(21, 42101001, 'Orange Juice Some Pulp', 30, 'Juice', 'Pure Juice Beverages', 'Beverages', 'Drink', '89 oz', 'Tropicana', 'Rowan Warehouse')\n",
      "(22, 42102001, 'Trop50 Calcium', 30, 'Juice', 'Pure Juice Beverages', 'Beverages', 'Drink', '89 oz', 'Tropicana', 'Rowan Warehouse')\n",
      "(23, 42103001, 'Tri-State Almonds', 1, 'Nuts', 'Specialty', 'Produce', 'Food', '15.5', 'Tri-State', 'Rowan Warehouse')\n",
      "(24, 42104001, 'Tri-State Asparagus', 13, 'Fresh Vegetables', 'Vegetables', 'Produce', 'Food', '14.8', 'Tri-State', 'Rowan Warehouse')\n",
      "(25, 42105001, 'Tri-State Baby Onion', 13, 'Fresh Vegetables', 'Vegetables', 'Produce', 'Food', '11.8', 'Tri-State', 'Rowan Warehouse')\n"
     ]
    }
   ],
   "source": [
    "cursor.execute(\"SELECT * FROM {db}.product_dimension LIMIT 25\".format(db=DATABASE_NAME))\n",
    "for row in cursor.fetchall():\n",
    "    print(row)"
   ]
  }
 ],
 "metadata": {
  "kernelspec": {
   "display_name": "Python 3 (ipykernel)",
   "language": "python",
   "name": "python3"
  },
  "language_info": {
   "codemirror_mode": {
    "name": "ipython",
    "version": 3
   },
   "file_extension": ".py",
   "mimetype": "text/x-python",
   "name": "python",
   "nbconvert_exporter": "python",
   "pygments_lexer": "ipython3",
   "version": "3.8.10"
  }
 },
 "nbformat": 4,
 "nbformat_minor": 5
}
