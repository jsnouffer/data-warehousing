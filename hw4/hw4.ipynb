{
 "cells": [
  {
   "cell_type": "code",
   "execution_count": 1,
   "id": "c09ed827-622a-41b9-a24e-86b766b5032c",
   "metadata": {},
   "outputs": [],
   "source": [
    "import mariadb\n",
    "import pandas as pd\n",
    "from columnar import columnar"
   ]
  },
  {
   "cell_type": "code",
   "execution_count": 2,
   "id": "ccd4ab24-f7ef-463d-bbb7-219115e4a47f",
   "metadata": {},
   "outputs": [],
   "source": [
    "connection = mariadb.connect(\n",
    "    host=\"127.0.0.1\",\n",
    "    user=\"root\",\n",
    "    database=\"data-warehouse\",\n",
    "    autocommit=True,\n",
    ")\n",
    "cursor = connection.cursor()"
   ]
  },
  {
   "cell_type": "code",
   "execution_count": 3,
   "id": "68903096-1f92-4890-b914-6784d02dc9b6",
   "metadata": {},
   "outputs": [],
   "source": [
    "begin_date = \"2020-12-17\"\n",
    "end_date = \"2021-01-01\"\n",
    "\n",
    "subquery = \"SELECT * FROM transactions WHERE transaction_date BETWEEN '{begin_date}' AND '{end_date}'\".format(\n",
    "    begin_date=begin_date, end_date=end_date\n",
    ")\n",
    "\n",
    "cursor.execute(\"DROP TABLE IF EXISTS transactions_subset\")\n",
    "cursor.execute(\"CREATE TABLE transactions_subset {q}\".format(q=subquery))"
   ]
  },
  {
   "cell_type": "markdown",
   "id": "76083f70-9da8-4a32-9db7-53b99fb43e03",
   "metadata": {
    "tags": []
   },
   "source": [
    "## Number of rows within date range"
   ]
  },
  {
   "cell_type": "code",
   "execution_count": 4,
   "id": "5e3e4d8b-7919-4b52-9383-8befd6021cff",
   "metadata": {},
   "outputs": [
    {
     "data": {
      "text/plain": [
       "794242"
      ]
     },
     "execution_count": 4,
     "metadata": {},
     "output_type": "execute_result"
    }
   ],
   "source": [
    "cursor.execute(\"SELECT COUNT(*) FROM transactions_subset\")\n",
    "cursor.fetchall()[0][0]"
   ]
  },
  {
   "cell_type": "markdown",
   "id": "255b0d30-32ca-4276-a011-a93b1deba79b",
   "metadata": {},
   "source": [
    "## Average per day statistics"
   ]
  },
  {
   "cell_type": "code",
   "execution_count": 5,
   "id": "a5eb7757-f7f7-4b6b-9582-1e43eafb737a",
   "metadata": {},
   "outputs": [
    {
     "name": "stdout",
     "output_type": "stream",
     "text": [
      "Average total items sold per day: 52949 (expected: 52407)\n",
      "Average total customers per day: 1138 (expected: 1139)\n",
      "Average items per customer: 47 (expected: 46)\n",
      "Percentage of unweighted items: 0.8\n",
      "Expected sales per day of each unweighted item: 31.90\n"
     ]
    }
   ],
   "source": [
    "cursor.execute(\n",
    "    \"SELECT COUNT(*) / COUNT(DISTINCT DATE(transaction_date)) FROM transactions_subset\"\n",
    ")\n",
    "items_per_day = float(cursor.fetchall()[0][0])\n",
    "\n",
    "cursor.execute(\n",
    "    \"SELECT (SELECT COUNT(DISTINCT transaction_id) FROM transactions_subset) / (SELECT COUNT(DISTINCT transaction_date) from transactions_subset)\"\n",
    ")\n",
    "customers_per_day = float(cursor.fetchall()[0][0])\n",
    "\n",
    "cursor.execute(\"SELECT COUNT(*) FROM catalog\")\n",
    "num_catalog_items = cursor.fetchall()[0][0]\n",
    "\n",
    "cursor.execute(\n",
    "    \"SELECT COUNT(*) FROM catalog WHERE item_type NOT IN ('MILK', 'BABY FOOD', 'CEREAL', 'DIAPERS', 'BREAD', 'PEANUT BUTTER', 'JELLY/JAM')\"\n",
    ")\n",
    "num_unweighted_items = cursor.fetchall()[0][0]\n",
    "percent_unweighted_items = num_unweighted_items / num_catalog_items\n",
    "\n",
    "expected_customers_per_day = ((1100 + 1150) / 2) + (50 * (2.0 / 7.0))\n",
    "expected_items_per_customer = ((90 - 1) / 2) + 1\n",
    "expected_items_per_day = expected_customers_per_day * int(\n",
    "    round(expected_items_per_customer)\n",
    ")\n",
    "\n",
    "print(\n",
    "    \"Average total items sold per day: {actual} (expected: {expected})\".format(\n",
    "        actual=int(round(items_per_day)), expected=int(round(expected_items_per_day))\n",
    "    )\n",
    ")\n",
    "print(\n",
    "    \"Average total customers per day: {actual} (expected: {expected})\".format(\n",
    "        actual=int(round(customers_per_day)),\n",
    "        expected=int(round(expected_customers_per_day)),\n",
    "    )\n",
    ")\n",
    "print(\n",
    "    \"Average items per customer: {actual} (expected: {expected})\".format(\n",
    "        actual=int(round(items_per_day / customers_per_day)),\n",
    "        expected=int(round(expected_items_per_customer)),\n",
    "    )\n",
    ")\n",
    "print(\n",
    "    \"Percentage of unweighted items: {x}\".format(\n",
    "        x=num_unweighted_items / num_catalog_items\n",
    "    )\n",
    ")\n",
    "print(\n",
    "    \"Expected sales per day of each unweighted item: {x:0.2f}\".format(\n",
    "        x=(items_per_day / num_catalog_items) / percent_unweighted_items\n",
    "    )\n",
    ")"
   ]
  },
  {
   "cell_type": "markdown",
   "id": "726c4b78-dcf6-475a-a59b-f66477d49db0",
   "metadata": {},
   "source": [
    "## Build tables containing daily averages"
   ]
  },
  {
   "cell_type": "code",
   "execution_count": 6,
   "id": "de56fc16-8a36-48f8-bfea-e3fbb11048a6",
   "metadata": {},
   "outputs": [],
   "source": [
    "def build_avg_per_day_table(table_name: str, target_column: str):\n",
    "    cursor.execute(\"DROP TABLE IF EXISTS {table_name}\".format(table_name=table_name))\n",
    "    cursor.execute(\n",
    "        \"\"\"\n",
    "        CREATE TABLE {table_name} ({target_column} TEXT, count INT, percent_of_customers FLOAT)\n",
    "            SELECT\n",
    "                catalog.{target_column},\n",
    "                ROUND({count}) as count,\n",
    "                ({count}) / (SELECT ({num_transactions}) / ({num_days})) as percent_of_customers\n",
    "            FROM transactions_subset\n",
    "            JOIN catalog ON transactions_subset.sku = catalog.sku\n",
    "            GROUP BY {target_column}\n",
    "        \"\"\".format(\n",
    "            table_name=table_name,\n",
    "            target_column=target_column,\n",
    "            count=\"COUNT(*) / COUNT(DISTINCT DATE(transaction_date))\",\n",
    "            num_transactions=\"SELECT COUNT(DISTINCT transaction_id) FROM transactions_subset\",\n",
    "            num_days=\"SELECT COUNT(DISTINCT transaction_date) from transactions_subset\",\n",
    "        )\n",
    "    )"
   ]
  },
  {
   "cell_type": "markdown",
   "id": "ca8bf690-a4e5-4602-9fbe-f7fd480c6da7",
   "metadata": {},
   "source": [
    "### Average sales per day of each category"
   ]
  },
  {
   "cell_type": "code",
   "execution_count": 7,
   "id": "d0b3b7de-8b66-4cac-bd7e-fc46a8a9b0ea",
   "metadata": {},
   "outputs": [
    {
     "data": {
      "text/plain": [
       "[('', 8943, 7.85703),\n",
       " ('ACETOMINIFEN', 149, 0.130959),\n",
       " ('ASPIRIN', 301, 0.264789),\n",
       " ('BABY FOOD', 227, 0.199309),\n",
       " ('BAKED GOODS OTHER THAN BREAD', 2329, 2.04586)]"
      ]
     },
     "execution_count": 7,
     "metadata": {},
     "output_type": "execute_result"
    }
   ],
   "source": [
    "build_avg_per_day_table(\"avg_item_categories_sold_per_day\", \"item_type\")\n",
    "cursor.execute(\"SELECT * FROM avg_item_categories_sold_per_day LIMIT 5\")\n",
    "cursor.fetchall()"
   ]
  },
  {
   "cell_type": "markdown",
   "id": "12782f92-689a-4dda-b892-4285d073d585",
   "metadata": {},
   "source": [
    "#### Verify distrubution of weighted categories"
   ]
  },
  {
   "cell_type": "code",
   "execution_count": 8,
   "id": "a89ba9fa-f147-4795-958c-3cbdcf6292ea",
   "metadata": {},
   "outputs": [
    {
     "name": "stdout",
     "output_type": "stream",
     "text": [
      "          \n",
      "  CATGEORY       EXPECTED  ACTUAL  DIFFERENCE  \n",
      "    \n",
      "  MILK           0.7       0.699   0.001       \n",
      "  BABY FOOD      0.2       0.199   0.001       \n",
      "  CEREAL         0.365     0.364   0.001       \n",
      "  DIAPERS        0.168     0.168   0.0         \n",
      "  BREAD          0.5       0.499   0.001       \n",
      "  PEANUT BUTTER  0.1       0.097   0.003       \n",
      "  JELLY/JAM      0.135     0.132   0.003       \n",
      "\n"
     ]
    }
   ],
   "source": [
    "weighted_categories = [\n",
    "    (\"MILK\", 0.7),\n",
    "    (\"BABY FOOD\", 0.2),\n",
    "    (\"CEREAL\", (0.7 * 0.5) + (0.3 * 0.05)),\n",
    "    (\"DIAPERS\", (0.2 * 0.8) + (0.8 * 0.01)),\n",
    "    (\"BREAD\", 0.5),\n",
    "    (\"PEANUT BUTTER\", 0.1),\n",
    "    (\"JELLY/JAM\", (0.1 * 0.9) + (0.9 * 0.05)),\n",
    "]\n",
    "\n",
    "\n",
    "data = []\n",
    "for category in weighted_categories:\n",
    "    cursor.execute(\n",
    "        \"SELECT percent_of_customers FROM avg_item_categories_sold_per_day WHERE item_type = '{category}'\".format(\n",
    "            category=category[0]\n",
    "        )\n",
    "    )\n",
    "    actual = cursor.fetchall()[0][0]\n",
    "    data.append(\n",
    "        [\n",
    "            category[0],\n",
    "            round(category[1], 3),\n",
    "            round(actual, 3),\n",
    "            round(abs(actual - category[1]), 3),\n",
    "        ]\n",
    "    )\n",
    "\n",
    "\n",
    "table = columnar(\n",
    "    data, [\"catgeory\", \"expected\", \"actual\", \"difference\"], no_borders=True\n",
    ")\n",
    "print(table)"
   ]
  },
  {
   "cell_type": "markdown",
   "id": "0a08a8c6-59a0-41c8-b5d8-9be3993f2216",
   "metadata": {},
   "source": [
    "#### Verify number of cases ordered for weighted categories"
   ]
  },
  {
   "cell_type": "code",
   "execution_count": 9,
   "id": "0aa46571-8bd4-42ab-8002-42aedfaad9c7",
   "metadata": {},
   "outputs": [
    {
     "name": "stdout",
     "output_type": "stream",
     "text": [
      "          \n",
      "  CATGEORY       EXPECTED  ACTUAL  ERROR  \n",
      "    \n",
      "  MILK           4035      4053    0.44   \n",
      "  BABY FOOD      60        48      25.56  \n",
      "  CEREAL         140       146     4.12   \n",
      "  DIAPERS        78        77      1.17   \n",
      "  BREAD          357       375     4.69   \n",
      "  PEANUT BUTTER  170       179     4.84   \n",
      "  JELLY/JAM      1141      1174    2.84   \n",
      "\n"
     ]
    }
   ],
   "source": [
    "data = []\n",
    "for category in weighted_categories:\n",
    "    cursor.execute(\n",
    "        \"\"\"\n",
    "        SELECT AVG(count)\n",
    "            FROM avg_items_sold_per_day\n",
    "            JOIN catalog ON avg_items_sold_per_day.sku = catalog.sku\n",
    "            WHERE item_type = '{category}'\n",
    "        \"\"\".format(\n",
    "            category=category[0]\n",
    "        )\n",
    "    )\n",
    "\n",
    "    sales_per_item = float(cursor.fetchall()[0][0])    \n",
    "    expected_cases_ordered = (sales_per_item / 12) * 365\n",
    "\n",
    "    cursor.execute(\n",
    "        \"\"\"\n",
    "        SELECT MAX(total_cases_ordered)\n",
    "            FROM transactions_subset\n",
    "            JOIN catalog ON transactions_subset.sku = catalog.sku\n",
    "            WHERE item_type = '{category}'\n",
    "        \"\"\".format(\n",
    "            category=category[0]\n",
    "        )\n",
    "    )\n",
    "\n",
    "    actual_cases_ordered = float(cursor.fetchall()[0][0])\n",
    "    \n",
    "    error = (\n",
    "        (expected_cases_ordered - actual_cases_ordered) / actual_cases_ordered\n",
    "    ) * 100.0\n",
    "\n",
    "    data.append(\n",
    "        [\n",
    "            category[0],\n",
    "            int(round(expected_cases_ordered)),\n",
    "            int(round(actual_cases_ordered)),\n",
    "            abs(round(error, 2)),\n",
    "        ]\n",
    "    )\n",
    "\n",
    "table = columnar(data, [\"catgeory\", \"expected\", \"actual\", \"error\"], no_borders=True)\n",
    "print(table)"
   ]
  },
  {
   "cell_type": "markdown",
   "id": "2e7bdb76-238c-4d0e-b333-23c5c504e1e7",
   "metadata": {},
   "source": [
    "### Average sales per day of each item"
   ]
  },
  {
   "cell_type": "code",
   "execution_count": 10,
   "id": "5f73e501-fa05-4716-86c1-cdd1bdfe46bd",
   "metadata": {},
   "outputs": [
    {
     "data": {
      "text/plain": [
       "[('RICE/RICE MIX', 'Zatarains Jambalaya Rice Mix 12\\xa0oz', 31, 0.0269415),\n",
       " ('RICE/RICE MIX', 'Zatarains Jambalaya Rice Mix 8\\xa0oz', 29, 0.0251259),\n",
       " ('', 'Yucatan Guacamole Regular 8\\xa0oz', 31, 0.0271758),\n",
       " ('COFFEE/CREAMER', 'Yuban Coffee Original Blend 12\\xa0oz', 31, 0.0273515),\n",
       " ('YOGURT', 'Yoplait GoGurt Variety Pack 8\\xa0ct', 30, 0.0262387)]"
      ]
     },
     "execution_count": 10,
     "metadata": {},
     "output_type": "execute_result"
    }
   ],
   "source": [
    "build_avg_per_day_table(\"avg_items_sold_per_day\", \"sku\")\n",
    "cursor.execute(\n",
    "    \"\"\"\n",
    "    SELECT item_type, CONCAT_WS(' ', manufacturer, product_name, size), count, percent_of_customers \n",
    "        FROM avg_items_sold_per_day\n",
    "        JOIN catalog ON avg_items_sold_per_day.sku = catalog.sku LIMIT 5\n",
    "    \"\"\"\n",
    ")\n",
    "cursor.fetchall()"
   ]
  },
  {
   "cell_type": "markdown",
   "id": "19fe1361-1ed4-45d5-b09d-db943408489d",
   "metadata": {},
   "source": [
    "#### Verify distrubution of unweighted categories"
   ]
  },
  {
   "cell_type": "code",
   "execution_count": 11,
   "id": "051ed2a8-798d-49e6-b4ea-b8206f53b392",
   "metadata": {},
   "outputs": [
    {
     "name": "stdout",
     "output_type": "stream",
     "text": [
      "Expected sales per day of each unweighted item: 31.90\n",
      "Actual sales per day of each unweighted item: 30.40\n"
     ]
    }
   ],
   "source": [
    "cursor.execute(\n",
    "    \"\"\"\n",
    "    SELECT AVG(count)\n",
    "        FROM avg_items_sold_per_day\n",
    "        JOIN catalog ON avg_items_sold_per_day.sku = catalog.sku\n",
    "        WHERE item_type NOT IN ('MILK', 'BABY FOOD', 'CEREAL', 'DIAPERS', 'BREAD', 'PEANUT BUTTER', 'JELLY/JAM')\n",
    "    \"\"\"\n",
    ")\n",
    "\n",
    "print(\n",
    "    \"Expected sales per day of each unweighted item: {x:0.2f}\".format(\n",
    "        x=(items_per_day / num_catalog_items) / percent_unweighted_items\n",
    "    )\n",
    ")\n",
    "\n",
    "print(\n",
    "    \"Actual sales per day of each unweighted item: {x:0.2f}\".format(\n",
    "        x=float(cursor.fetchall()[0][0])\n",
    "    )\n",
    ")"
   ]
  },
  {
   "cell_type": "markdown",
   "id": "f8dffe73-b995-4bc0-bbfb-e76933037d41",
   "metadata": {},
   "source": [
    "#### Verify number of cases ordered for unweighted categories"
   ]
  },
  {
   "cell_type": "code",
   "execution_count": 12,
   "id": "bd207735-d7bf-4817-9435-1445f442ea1e",
   "metadata": {},
   "outputs": [
    {
     "name": "stdout",
     "output_type": "stream",
     "text": [
      "Expected cases ordered per year of each unweighted item: 970.21\n",
      "Actual cases ordered per year of each unweighted item: 975.00\n"
     ]
    }
   ],
   "source": [
    "sales_per_item = (items_per_day / num_catalog_items) / percent_unweighted_items\n",
    "expected_cases_ordered = (sales_per_item / 12) * 365\n",
    "\n",
    "cursor.execute(\n",
    "    \"\"\"\n",
    "    SELECT MAX(total_cases_ordered)\n",
    "        FROM transactions_subset\n",
    "        JOIN catalog ON transactions_subset.sku = catalog.sku\n",
    "        WHERE item_type NOT IN ('MILK', 'BABY FOOD', 'CEREAL', 'DIAPERS', 'BREAD', 'PEANUT BUTTER', 'JELLY/JAM')\n",
    "    \"\"\"\n",
    ")\n",
    "\n",
    "print(\n",
    "    \"Expected cases ordered per year of each unweighted item: {x:0.2f}\".format(\n",
    "        x=expected_cases_ordered\n",
    "    )\n",
    ")\n",
    "\n",
    "print(\n",
    "    \"Actual cases ordered per year of each unweighted item: {x:0.2f}\".format(\n",
    "        x=float(cursor.fetchall()[0][0])\n",
    "    )\n",
    ")"
   ]
  }
 ],
 "metadata": {
  "kernelspec": {
   "display_name": "Python 3 (ipykernel)",
   "language": "python",
   "name": "python3"
  },
  "language_info": {
   "codemirror_mode": {
    "name": "ipython",
    "version": 3
   },
   "file_extension": ".py",
   "mimetype": "text/x-python",
   "name": "python",
   "nbconvert_exporter": "python",
   "pygments_lexer": "ipython3",
   "version": "3.8.10"
  }
 },
 "nbformat": 4,
 "nbformat_minor": 5
}
