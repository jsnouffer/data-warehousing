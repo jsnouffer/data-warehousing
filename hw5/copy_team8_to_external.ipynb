{
 "cells": [
  {
   "cell_type": "code",
   "execution_count": 1,
   "id": "306f1c84-102f-4517-a396-efe41da90046",
   "metadata": {},
   "outputs": [],
   "source": [
    "import mariadb\n",
    "import os\n",
    "from dotenv import load_dotenv\n",
    "\n",
    "_ = load_dotenv(\"config.env\")"
   ]
  },
  {
   "cell_type": "code",
   "execution_count": 2,
   "id": "64f95373-5398-463f-91df-3859a05d869b",
   "metadata": {},
   "outputs": [],
   "source": [
    "source_connection = mariadb.connect(\n",
    "    host=\"127.0.0.1\",\n",
    "    port=3306,\n",
    "    user=\"root\",\n",
    "    database=\"data_warehouse\",\n",
    "    autocommit=False,\n",
    ")\n",
    "source_cursor = source_connection.cursor()"
   ]
  },
  {
   "cell_type": "code",
   "execution_count": 3,
   "id": "a06a8ac5-778f-4045-8274-4e746f9d7261",
   "metadata": {},
   "outputs": [],
   "source": [
    "dest_connection = mariadb.connect(\n",
    "    host=\"127.0.0.1\",\n",
    "    port=23306,\n",
    "    user=os.getenv(\"user\"),\n",
    "    password=os.getenv(\"password\"),\n",
    "    database=\"data_warehouse\",\n",
    "    autocommit=False,\n",
    ")\n",
    "dest_cursor = dest_connection.cursor()"
   ]
  },
  {
   "cell_type": "code",
   "execution_count": 4,
   "id": "0951d262-8558-4cbd-991e-46f05d22ec79",
   "metadata": {},
   "outputs": [
    {
     "name": "stdout",
     "output_type": "stream",
     "text": [
      "100000\n",
      "200000\n",
      "300000\n",
      "400000\n",
      "500000\n",
      "600000\n",
      "700000\n"
     ]
    },
    {
     "ename": "KeyboardInterrupt",
     "evalue": "",
     "output_type": "error",
     "traceback": [
      "\u001b[0;31m---------------------------------------------------------------------------\u001b[0m",
      "\u001b[0;31mKeyboardInterrupt\u001b[0m                         Traceback (most recent call last)",
      "\u001b[0;32m/tmp/ipykernel_75475/1766522791.py\u001b[0m in \u001b[0;36m<module>\u001b[0;34m\u001b[0m\n\u001b[1;32m      3\u001b[0m \u001b[0;32mfor\u001b[0m \u001b[0mrow\u001b[0m \u001b[0;32min\u001b[0m \u001b[0msource_cursor\u001b[0m\u001b[0;34m:\u001b[0m\u001b[0;34m\u001b[0m\u001b[0;34m\u001b[0m\u001b[0m\n\u001b[1;32m      4\u001b[0m     \u001b[0mcount\u001b[0m \u001b[0;34m=\u001b[0m \u001b[0mcount\u001b[0m \u001b[0;34m+\u001b[0m \u001b[0;36m1\u001b[0m\u001b[0;34m\u001b[0m\u001b[0;34m\u001b[0m\u001b[0m\n\u001b[0;32m----> 5\u001b[0;31m     result = dest_cursor.execute(\n\u001b[0m\u001b[1;32m      6\u001b[0m         \u001b[0;34m\"INSERT IGNORE INTO transactions (id, transaction_id, customer_id, sku, sale_price, transaction_date, items_left, total_cases_ordered) VALUES (?, ?, ?, ?, ?, ?, ?, ?)\"\u001b[0m\u001b[0;34m,\u001b[0m\u001b[0;34m\u001b[0m\u001b[0;34m\u001b[0m\u001b[0m\n\u001b[1;32m      7\u001b[0m         (\n",
      "\u001b[0;31mKeyboardInterrupt\u001b[0m: "
     ]
    }
   ],
   "source": [
    "source_cursor.execute(\"SELECT * FROM transactions\")\n",
    "count = 0\n",
    "for row in source_cursor:\n",
    "    count = count + 1\n",
    "    result = dest_cursor.execute(\n",
    "        \"INSERT IGNORE INTO transactions (id, transaction_id, customer_id, sku, sale_price, transaction_date, items_left, total_cases_ordered) VALUES (?, ?, ?, ?, ?, ?, ?, ?)\",\n",
    "        (\n",
    "            row[0],\n",
    "            row[1],\n",
    "            row[2],\n",
    "            row[3],\n",
    "            row[4],\n",
    "            row[5],\n",
    "            row[6],\n",
    "            row[7],\n",
    "        ),\n",
    "    )\n",
    "    if count % 100000 == 0:\n",
    "        dest_connection.commit()\n",
    "dest_connection.commit()"
   ]
  }
 ],
 "metadata": {
  "kernelspec": {
   "display_name": "Python 3 (ipykernel)",
   "language": "python",
   "name": "python3"
  },
  "language_info": {
   "codemirror_mode": {
    "name": "ipython",
    "version": 3
   },
   "file_extension": ".py",
   "mimetype": "text/x-python",
   "name": "python",
   "nbconvert_exporter": "python",
   "pygments_lexer": "ipython3",
   "version": "3.8.10"
  }
 },
 "nbformat": 4,
 "nbformat_minor": 5
}
