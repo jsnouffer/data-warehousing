{
 "cells": [
  {
   "cell_type": "code",
   "execution_count": 2,
   "id": "85f5554b-c2ca-477f-a13e-37d0e50729d7",
   "metadata": {},
   "outputs": [],
   "source": [
    "import mariadb\n",
    "import os\n",
    "from csv import DictReader\n",
    "from dotenv import load_dotenv\n",
    "\n",
    "_ = load_dotenv(\"./hw5/config.env\")"
   ]
  },
  {
   "cell_type": "code",
   "execution_count": 3,
   "id": "77089cc1-cbf8-470d-bb71-57744d483015",
   "metadata": {},
   "outputs": [],
   "source": [
    "connection = mariadb.connect(\n",
    "    host=\"127.0.0.1\",\n",
    "    port=23306,\n",
    "    user=os.getenv(\"user\"),\n",
    "    password=os.getenv(\"password\"),\n",
    "    database=\"team7\",\n",
    "    autocommit=True,\n",
    ")\n",
    "cursor = connection.cursor()"
   ]
  },
  {
   "cell_type": "code",
   "execution_count": 4,
   "id": "b2a1497b-d3e4-4b75-adac-4d2a97265f58",
   "metadata": {},
   "outputs": [],
   "source": [
    "cursor.execute(\"DROP TABLE IF EXISTS purchases\")\n",
    "cursor.execute(\n",
    "    \"\"\"\n",
    "    CREATE TABLE purchases (\n",
    "        id INT PRIMARY KEY NOT NULL,\n",
    "        Date DATE NOT NULL,\n",
    "        `Customer Number` BIGINT UNSIGNED NOT NULL,\n",
    "        SKU INT UNSIGNED NOT NULL,\n",
    "        `Sale Price` DOUBLE UNSIGNED NOT NULL,\n",
    "        `Items Left` INT UNSIGNED NOT NULL,\n",
    "        `Cases Purchased` INT UNSIGNED NOT NULL\n",
    "    )\n",
    "    \"\"\"\n",
    ")"
   ]
  },
  {
   "cell_type": "code",
   "execution_count": 7,
   "id": "f0913da4-7050-4436-be83-adc2307c497a",
   "metadata": {},
   "outputs": [],
   "source": [
    "with open(\"/home/jason/finalPurchaseList.csv\") as csv_file:\n",
    "    csv_reader = DictReader(csv_file)\n",
    "    for row in csv_reader:\n",
    "        cursor.execute(\n",
    "            \"INSERT INTO purchases (id, Date, `Customer Number`, SKU, `Sale Price`, `Items Left`, `Cases Purchased`) VALUES (?, ?, ?, ?, ?, ?, ?)\",\n",
    "            (\n",
    "                row[''],\n",
    "                row['Date'],\n",
    "                row['Customer Number'],\n",
    "                row['SKU'],\n",
    "                row['Sale Price'],\n",
    "                row['Items Left'],\n",
    "                row['Cases Purchased'],\n",
    "            ),\n",
    "        )"
   ]
  },
  {
   "cell_type": "code",
   "execution_count": 14,
   "id": "ecbc7079-c528-41aa-9df8-65c2a0e28115",
   "metadata": {},
   "outputs": [],
   "source": [
    "cursor.close()\n",
    "connection.commit()\n",
    "connection.close()"
   ]
  }
 ],
 "metadata": {
  "kernelspec": {
   "display_name": "Python 3 (ipykernel)",
   "language": "python",
   "name": "python3"
  },
  "language_info": {
   "codemirror_mode": {
    "name": "ipython",
    "version": 3
   },
   "file_extension": ".py",
   "mimetype": "text/x-python",
   "name": "python",
   "nbconvert_exporter": "python",
   "pygments_lexer": "ipython3",
   "version": "3.8.10"
  }
 },
 "nbformat": 4,
 "nbformat_minor": 5
}
