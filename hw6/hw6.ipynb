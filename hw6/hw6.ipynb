{
 "cells": [
  {
   "cell_type": "code",
   "execution_count": 1,
   "id": "7953fc25-9a7f-4a3d-b7e5-c4e6821aa65e",
   "metadata": {},
   "outputs": [],
   "source": [
    "import os\n",
    "import warnings\n",
    "from csv import DictReader\n",
    "from datetime import date, timedelta\n",
    "from typing import Union\n",
    "\n",
    "import mariadb\n",
    "import pandas as pd\n",
    "from columnar import columnar\n",
    "from dotenv import load_dotenv\n",
    "from IPython.core.interactiveshell import InteractiveShell\n",
    "from pandas.tseries.holiday import USFederalHolidayCalendar\n",
    "\n",
    "warnings.filterwarnings(\"ignore\")\n",
    "\n",
    "_ = load_dotenv(\"config.env\")\n",
    "InteractiveShell.ast_node_interactivity = \"all\"\n",
    "DATABASE_NAME: str = \"data_mart\""
   ]
  },
  {
   "cell_type": "code",
   "execution_count": 2,
   "id": "638e6b6d-3e85-4acd-ae50-778792c237fc",
   "metadata": {},
   "outputs": [],
   "source": [
    "datamart_connection = mariadb.connect(\n",
    "    host=\"127.0.0.1\",\n",
    "    port=23306,\n",
    "    user=os.getenv(\"user\"),\n",
    "    password=os.getenv(\"password\"),\n",
    "    autocommit=False,\n",
    ")\n",
    "datamart_cursor = datamart_connection.cursor()\n",
    "\n",
    "team8_connection = mariadb.connect(\n",
    "    host=\"127.0.0.1\",\n",
    "    port=3306,\n",
    "    user=\"root\",\n",
    "    database=\"data_warehouse\",\n",
    "    autocommit=False,\n",
    ")\n",
    "team8_cursor = team8_connection.cursor()"
   ]
  },
  {
   "cell_type": "markdown",
   "id": "e30e00e6-7e2a-4556-a3d7-a3aed3cbde52",
   "metadata": {},
   "source": [
    "# Part 1a - Replace product table with the conformed product table"
   ]
  },
  {
   "cell_type": "code",
   "execution_count": 3,
   "id": "d44cbb0c-e8b3-4ccb-96d5-d9992e5d997f",
   "metadata": {},
   "outputs": [
    {
     "data": {
      "text/plain": [
       "(2075, 14)"
      ]
     },
     "execution_count": 3,
     "metadata": {},
     "output_type": "execute_result"
    },
    {
     "data": {
      "text/plain": [
       "Index(['product_key', 'sku', 'product_name', 'product_class_id',\n",
       "       'product_subcategory', 'product_category', 'product_department',\n",
       "       'product_family', 'size', 'number_per_case', 'brand_name',\n",
       "       'manufacturer', 'supplier', 'product_class_source_key'],\n",
       "      dtype='object')"
      ]
     },
     "execution_count": 3,
     "metadata": {},
     "output_type": "execute_result"
    }
   ],
   "source": [
    "# original product dimension table was copied to database \"backups\"\n",
    "datamart_cursor.execute(\"SELECT * FROM backups.product_dimension\")\n",
    "columns: list = [desc[0] for desc in datamart_cursor.description]\n",
    "original_product_dimensions: pd.DataFrame = pd.DataFrame(data=datamart_cursor.fetchall(), columns=columns)\n",
    "original_product_dimensions.shape\n",
    "original_product_dimensions.columns"
   ]
  },
  {
   "cell_type": "code",
   "execution_count": 4,
   "id": "65663ed4-2f44-40f6-b13c-c551e504a61e",
   "metadata": {},
   "outputs": [
    {
     "data": {
      "text/plain": [
       "(2075, 11)"
      ]
     },
     "execution_count": 4,
     "metadata": {},
     "output_type": "execute_result"
    },
    {
     "data": {
      "text/plain": [
       "Index(['ProductKey1', 'sku', 'product_name', 'product_class_id', 'subcategory',\n",
       "       'category', 'department', 'product_family', 'size', 'brandName',\n",
       "       'supplier'],\n",
       "      dtype='object')"
      ]
     },
     "execution_count": 4,
     "metadata": {},
     "output_type": "execute_result"
    }
   ],
   "source": [
    "new_product_dimensions: pd.DataFrame = pd.read_csv(\"ConformedProducts.txt\", sep=\"\\t\")\n",
    "new_product_dimensions.shape\n",
    "new_product_dimensions.columns"
   ]
  },
  {
   "cell_type": "markdown",
   "id": "f4d1f90d-d125-4825-b624-a656f513a3a3",
   "metadata": {},
   "source": [
    "### Add new product class source to meta table"
   ]
  },
  {
   "cell_type": "code",
   "execution_count": 5,
   "id": "3594fd0f-f5a1-4388-b4c3-2d4a0460981c",
   "metadata": {},
   "outputs": [],
   "source": [
    "datamart_cursor.execute(\n",
    "    \"\"\"\n",
    "    INSERT IGNORE INTO {db}.product_class_source (source_key, source) VALUES (?, ?)\n",
    "    \"\"\".format(\n",
    "        db=DATABASE_NAME\n",
    "    ),\n",
    "    (\n",
    "        7,\n",
    "        \"FROM CONFORMED PRODUCT TABLE\",\n",
    "    ),\n",
    ")\n",
    "datamart_connection.commit()"
   ]
  },
  {
   "cell_type": "markdown",
   "id": "b863e080-b9f6-4cc3-8343-e695fc20518a",
   "metadata": {},
   "source": [
    "### Create intermediate mapping table"
   ]
  },
  {
   "cell_type": "code",
   "execution_count": 6,
   "id": "33a6b07b-38dd-4b0d-9144-b4b6d60bfa34",
   "metadata": {},
   "outputs": [],
   "source": [
    "remap_product_categories: bool = False\n",
    "\n",
    "if remap_product_categories:\n",
    "    datamart_cursor.execute(\"DROP TABLE IF EXISTS {db}.product_dimension_change_mapping\".format(db=DATABASE_NAME))\n",
    "    datamart_cursor.execute(\n",
    "        \"\"\"\n",
    "        CREATE TABLE IF NOT EXISTS {db}.product_dimension_change_mapping (\n",
    "            sku INT UNSIGNED PRIMARY KEY NOT NULL,\n",
    "            old_product_key INT UNSIGNED NOT NULL,\n",
    "            old_product_class_id INT UNSIGNED NOT NULL,\n",
    "            old_product_class_source_key INT UNSIGNED NOT NULL,\n",
    "            new_product_key INT UNSIGNED NOT NULL,\n",
    "            new_product_class_id INT UNSIGNED NOT NULL,\n",
    "            new_product_class_source_key INT UNSIGNED NOT NULL\n",
    "        )\n",
    "        \"\"\".format(\n",
    "            db=DATABASE_NAME\n",
    "        )\n",
    "    )\n",
    "\n",
    "    for original_dimension in original_product_dimensions.itertuples():\n",
    "        new_dimension = new_product_dimensions[new_product_dimensions[\"sku\"] == original_dimension.sku].iloc[0]\n",
    "        new_product_class_id = new_dimension.product_class_id.item()\n",
    "        new_product_class_source_key = 7 if original_dimension.product_class_id != new_product_class_id else original_dimension.product_class_source_key\n",
    "        \n",
    "        datamart_cursor.execute(\n",
    "            \"\"\"\n",
    "            INSERT INTO {db}.product_dimension_change_mapping (\n",
    "                sku, old_product_key, old_product_class_id, old_product_class_source_key,\n",
    "                new_product_key, new_product_class_id, new_product_class_source_key\n",
    "            ) VALUES (?, ?, ?, ?, ?, ?, ?)\n",
    "            \"\"\".format(\n",
    "                db=DATABASE_NAME\n",
    "            ),\n",
    "            (\n",
    "                original_dimension.sku,\n",
    "                original_dimension.product_key,\n",
    "                original_dimension.product_class_id,\n",
    "                original_dimension.product_class_source_key,\n",
    "                new_dimension.ProductKey1.item(),\n",
    "                new_product_class_id,\n",
    "                new_product_class_source_key\n",
    "            ),\n",
    "        )\n",
    "    datamart_connection.commit()"
   ]
  },
  {
   "cell_type": "code",
   "execution_count": 7,
   "id": "1600dd40-3353-4819-9999-3f3e30dcce14",
   "metadata": {},
   "outputs": [
    {
     "name": "stdout",
     "output_type": "stream",
     "text": [
      "(42081001, 1, 57, 2, 1, 57, 2)\n",
      "(42082001, 2, 57, 2, 2, 57, 2)\n",
      "(42083001, 3, 83, 6, 3, 99, 7)\n",
      "(42084001, 4, 7, 4, 4, 90, 7)\n",
      "(42085001, 5, 6, 1, 5, 6, 1)\n",
      "(42086001, 6, 48, 6, 6, 260, 7)\n",
      "(42087001, 7, 65, 6, 7, 65, 6)\n",
      "(42088001, 8, 0, 0, 8, 77, 7)\n",
      "(42089001, 9, 30, 3, 9, 99, 7)\n",
      "(42090001, 10, 30, 1, 10, 30, 1)\n",
      "(42091001, 11, 35, 1, 11, 35, 1)\n",
      "(42092001, 12, 5, 2, 12, 10, 7)\n",
      "(42093001, 13, 5, 2, 13, 5, 2)\n",
      "(42094001, 14, 30, 1, 14, 30, 1)\n",
      "(42095001, 15, 30, 1, 15, 30, 1)\n",
      "(42096001, 16, 30, 1, 16, 30, 1)\n",
      "(42097001, 17, 30, 1, 17, 30, 1)\n",
      "(42098001, 18, 30, 1, 18, 30, 1)\n",
      "(42099001, 19, 35, 1, 19, 35, 1)\n",
      "(42100001, 20, 52, 6, 20, 52, 6)\n",
      "(42101001, 21, 30, 1, 21, 30, 1)\n",
      "(42102001, 22, 30, 1, 22, 30, 1)\n",
      "(42103001, 23, 1, 1, 23, 1, 1)\n",
      "(42104001, 24, 13, 1, 24, 13, 1)\n",
      "(42105001, 25, 13, 1, 25, 13, 1)\n"
     ]
    }
   ],
   "source": [
    "datamart_cursor.execute(\"SELECT * FROM {db}.product_dimension_change_mapping LIMIT 25\".format(db=DATABASE_NAME))\n",
    "for row in datamart_cursor.fetchall():\n",
    "    print(row)"
   ]
  },
  {
   "cell_type": "markdown",
   "id": "8e73924a-c5b5-4bba-944c-663dec73bbe4",
   "metadata": {},
   "source": [
    "### Create new Product Dimension table with conformed data"
   ]
  },
  {
   "cell_type": "code",
   "execution_count": 8,
   "id": "1102fc54-b528-459e-923d-79b22a5a2c14",
   "metadata": {},
   "outputs": [],
   "source": [
    "if remap_product_categories:\n",
    "    datamart_cursor.execute(\"DROP TABLE IF EXISTS {db}.product_dimension\".format(db=DATABASE_NAME))\n",
    "    datamart_cursor.execute(\n",
    "        \"\"\"\n",
    "        CREATE TABLE IF NOT EXISTS {db}.product_dimension (\n",
    "            product_key INT PRIMARY KEY AUTO_INCREMENT,\n",
    "            sku INT UNSIGNED NOT NULL,\n",
    "            product_name TEXT NOT NULL,\n",
    "            product_class_id INT UNSIGNED,\n",
    "            product_subcategory TEXT,\n",
    "            product_category TEXT,\n",
    "            product_department TEXT,\n",
    "            product_family TEXT,\n",
    "            size TEXT NOT NULL,\n",
    "            brand_name TEXT,\n",
    "            supplier TEXT NOT NULL\n",
    "        )\n",
    "        \"\"\".format(\n",
    "            db=DATABASE_NAME\n",
    "        )\n",
    "    )\n",
    "    \n",
    "    for row in new_product_dimensions.itertuples():\n",
    "        datamart_cursor.execute(\n",
    "            \"\"\"\n",
    "            INSERT INTO {db}.product_dimension (sku, product_name, product_class_id, product_subcategory, product_category, product_department,\n",
    "            product_family, size, brand_name, supplier)\n",
    "            VALUES (?, ?, ?, ?, ?, ?, ?, ?, ?, ?)\n",
    "            \"\"\".format(\n",
    "                db=DATABASE_NAME\n",
    "            ),\n",
    "            (\n",
    "                row.sku,\n",
    "                row.product_name,\n",
    "                row.product_class_id,\n",
    "                row.subcategory,\n",
    "                row.category,\n",
    "                row.department,\n",
    "                row.product_family,\n",
    "                row.size,\n",
    "                row.brandName,\n",
    "                row.supplier,\n",
    "            ),\n",
    "        )\n",
    "        datamart_connection.commit()"
   ]
  },
  {
   "cell_type": "code",
   "execution_count": 9,
   "id": "dda79ae5-0623-4d97-b67e-db28a092c0a3",
   "metadata": {},
   "outputs": [
    {
     "name": "stdout",
     "output_type": "stream",
     "text": [
      "(1, 42081001, 'Jambalaya Rice Mix', 57, 'Rice', 'Starchy Foods', 'Starchy Foods', 'Food', '12 oz', 'Zatarains', 'Rowan Warehouse')\n",
      "(2, 42082001, 'Jambalaya Rice Mix', 57, 'Rice', 'Starchy Foods', 'Starchy Foods', 'Food', '8 oz', 'Zatarains', 'Rowan Warehouse')\n",
      "(3, 42083001, 'Guacamole Regular', 99, 'Fresh Fruit', 'Fruit', 'Produce', 'Food', '8 oz', 'Yucatan', 'Rowan Warehouse')\n",
      "(4, 42084001, 'Coffee Original Blend', 90, 'Coffee', 'Hot Beverages', 'Beverages', 'Drink', '12 oz', 'Yuban', 'Rowan Warehouse')\n",
      "(5, 42085001, 'GoGurt Variety Pack', 6, 'Yogurt', 'Dairy', 'Dairy', 'Food', '8 ct', 'Yoplait', 'Rowan Warehouse')\n",
      "(6, 42086001, 'Italian Dressing', 260, 'Dressings', 'Baking Goods', 'Baking Products', 'Food', '16 oz', 'Wishbone', 'Rowan Warehouse')\n",
      "(7, 42087001, 'Cheeseburger Heat & Serve Sliders', 65, 'Hamburger', 'Meat', 'Meat', 'Food', '29.28 oz', 'White Castle', 'Rowan Warehouse')\n",
      "(8, 42088001, 'Choice Cuts Poultry', 77, 'Fresh Chicken', 'Meat', 'Deli', 'Food', '36 oz', 'Whiskas', 'Rowan Warehouse')\n",
      "(9, 42089001, 'Farmers Pick Concord Grape', 99, 'Fresh Fruit', 'Fruit', 'Produce', 'Food', '46 oz', 'Welchs', 'Rowan Warehouse')\n",
      "(10, 42090001, 'Juice Red Grape', 30, 'Juice', 'Pure Juice Beverages', 'Beverages', 'Drink', '64 oz', 'Welchs', 'Rowan Warehouse')\n",
      "(11, 42091001, 'Cereal Whole Grain Biscuit', 35, 'Cereal', 'Breakfast Foods', 'Breakfast Foods', 'Food', '15 oz', 'Weetabix', 'Rowan Warehouse')\n",
      "(12, 42092001, 'Shells & Cheese Microwave Cup', 10, 'TV Dinner', 'Frozen Entrees', 'Frozen Foods', 'Food', '2.39 oz', 'Velveeta', 'Rowan Warehouse')\n",
      "(13, 42093001, 'Shells & Cheese Original', 5, 'Pasta', 'Starchy Foods', 'Starchy Foods', 'Food', '12 oz', 'Velveeta', 'Rowan Warehouse')\n",
      "(14, 42094001, 'Splash Berry Blend', 30, 'Juice', 'Pure Juice Beverages', 'Beverages', 'Drink', '64 oz', 'V8', 'Rowan Warehouse')\n",
      "(15, 42095001, 'Splash Mango Peach', 30, 'Juice', 'Pure Juice Beverages', 'Beverages', 'Drink', '64 oz', 'V8', 'Rowan Warehouse')\n",
      "(16, 42096001, 'V-Fusion Berry', 30, 'Juice', 'Pure Juice Beverages', 'Beverages', 'Drink', '8 pkg', 'V8', 'Rowan Warehouse')\n",
      "(17, 42097001, 'V-Fusion Pomegranate Blueberry', 30, 'Juice', 'Pure Juice Beverages', 'Beverages', 'Drink', '46 oz', 'V8', 'Rowan Warehouse')\n",
      "(18, 42098001, 'V-Fusion Refreshers Peach Strawberry', 30, 'Juice', 'Pure Juice Beverages', 'Beverages', 'Drink', '46 oz', 'V8', 'Rowan Warehouse')\n",
      "(19, 42099001, 'Whole Grain Original Cereal', 35, 'Cereal', 'Breakfast Foods', 'Breakfast Foods', 'Food', '13 oz', 'Uncle Sam', 'Rowan Warehouse')\n",
      "(20, 42100001, 'Iced Tea Lemon', 52, 'Flavored Drinks', 'Drinks', 'Beverages', 'Drink', '128 oz', 'Turkey Hill', 'Rowan Warehouse')\n",
      "(21, 42101001, 'Orange Juice Some Pulp', 30, 'Juice', 'Pure Juice Beverages', 'Beverages', 'Drink', '89 oz', 'Tropicana', 'Rowan Warehouse')\n",
      "(22, 42102001, 'Trop50 Calcium', 30, 'Juice', 'Pure Juice Beverages', 'Beverages', 'Drink', '89 oz', 'Tropicana', 'Rowan Warehouse')\n",
      "(23, 42103001, 'Tri-State Almonds', 1, 'Nuts', 'Specialty', 'Produce', 'Food', '15.5', 'Tri-State', 'Rowan Warehouse')\n",
      "(24, 42104001, 'Tri-State Asparagus', 13, 'Fresh Vegetables', 'Vegetables', 'Produce', 'Food', '14.8', 'Tri-State', 'Rowan Warehouse')\n",
      "(25, 42105001, 'Tri-State Baby Onion', 13, 'Fresh Vegetables', 'Vegetables', 'Produce', 'Food', '11.8', 'Tri-State', 'Rowan Warehouse')\n"
     ]
    }
   ],
   "source": [
    "datamart_cursor.execute(\"SELECT * FROM {db}.product_dimension LIMIT 25\".format(db=DATABASE_NAME))\n",
    "for row in datamart_cursor.fetchall():\n",
    "    print(row)"
   ]
  },
  {
   "cell_type": "markdown",
   "id": "79c622a7-7db8-4ad1-a9ec-9bc90bb70d21",
   "metadata": {},
   "source": [
    "# Part 1b - Ingest transactions for Jan-June 2021 from Team 7 / Team 8 databases"
   ]
  },
  {
   "cell_type": "markdown",
   "id": "61660919-ed49-4cb5-a4e9-b540b1402b57",
   "metadata": {},
   "source": [
    "### Expand date dimension table"
   ]
  },
  {
   "cell_type": "code",
   "execution_count": 10,
   "id": "4a1b0a44-5de7-4743-84d6-b72e4f6b27b7",
   "metadata": {},
   "outputs": [],
   "source": [
    "starting_key = 366  # last date key from 2020\n",
    "year = 2021\n",
    "current_date: date = date(year, 1, 1)\n",
    "stop_date: date = date(year, 12, 31)\n",
    "fiscal_year_start = date(year, 8, 1)\n",
    "\n",
    "holidays = (\n",
    "    USFederalHolidayCalendar().holidays(start=current_date.isoformat(), end=stop_date.isoformat()).to_pydatetime()\n",
    ")\n",
    "holidays = [d.date() for d in holidays]\n",
    "\n",
    "seasons = [\n",
    "    (\"winter\", (date(year, 1, 1), date(year, 3, 20))),\n",
    "    (\"spring\", (date(year, 3, 21), date(year, 6, 20))),\n",
    "    (\"summer\", (date(year, 6, 21), date(year, 9, 22))),\n",
    "    (\"autumn\", (date(year, 9, 23), date(year, 12, 20))),\n",
    "    (\"winter\", (date(year, 12, 21), date(year, 12, 31))),\n",
    "]\n",
    "\n",
    "while current_date <= stop_date:\n",
    "    time_tuple = current_date.timetuple()\n",
    "    weekday = current_date.strftime(\"%A\")\n",
    "\n",
    "    datamart_cursor.execute(\n",
    "        \"\"\"\n",
    "        INSERT IGNORE INTO {db}.dates (\n",
    "            date_key, datetime, day_in_month, day_in_year, week_number, month_number, month_text,\n",
    "            quarter, year, fiscal_year, is_holiday, is_weekend, season\n",
    "        ) VALUES (?, ?, ?, ?, ?, ?, ?, ?, ?, ?, ?, ?, ?)\n",
    "        \"\"\".format(\n",
    "            db=DATABASE_NAME\n",
    "        ),\n",
    "        (\n",
    "            starting_key + time_tuple.tm_yday,\n",
    "            current_date.isoformat(),\n",
    "            time_tuple.tm_mday,\n",
    "            time_tuple.tm_yday,\n",
    "            current_date.isocalendar()[1],\n",
    "            time_tuple.tm_mon,\n",
    "            current_date.strftime(\"%B\"),\n",
    "            pd.Timestamp(current_date).quarter,\n",
    "            time_tuple.tm_year,\n",
    "            time_tuple.tm_year if current_date >= fiscal_year_start else time_tuple.tm_year - 1,\n",
    "            True if current_date in holidays else False,\n",
    "            True if weekday == \"Saturday\" or weekday == \"Sunday\" else False,\n",
    "            next(season for season, (start, end) in seasons if start <= current_date <= end),\n",
    "        ),\n",
    "    )\n",
    "\n",
    "    current_date = current_date + timedelta(days=1)\n",
    "datamart_connection.commit()"
   ]
  },
  {
   "cell_type": "code",
   "execution_count": 11,
   "id": "08a872e5-19b2-43f5-af43-55d91b71cd68",
   "metadata": {},
   "outputs": [
    {
     "name": "stdout",
     "output_type": "stream",
     "text": [
      "(367, datetime.date(2021, 1, 1), 1, 1, 53, 1, 'January', 1, 2021, 2020, 1, 0, 'winter')\n",
      "(368, datetime.date(2021, 1, 2), 2, 2, 53, 1, 'January', 1, 2021, 2020, 0, 1, 'winter')\n",
      "(369, datetime.date(2021, 1, 3), 3, 3, 53, 1, 'January', 1, 2021, 2020, 0, 1, 'winter')\n",
      "(370, datetime.date(2021, 1, 4), 4, 4, 1, 1, 'January', 1, 2021, 2020, 0, 0, 'winter')\n",
      "(371, datetime.date(2021, 1, 5), 5, 5, 1, 1, 'January', 1, 2021, 2020, 0, 0, 'winter')\n",
      "(372, datetime.date(2021, 1, 6), 6, 6, 1, 1, 'January', 1, 2021, 2020, 0, 0, 'winter')\n",
      "(373, datetime.date(2021, 1, 7), 7, 7, 1, 1, 'January', 1, 2021, 2020, 0, 0, 'winter')\n",
      "(374, datetime.date(2021, 1, 8), 8, 8, 1, 1, 'January', 1, 2021, 2020, 0, 0, 'winter')\n",
      "(375, datetime.date(2021, 1, 9), 9, 9, 1, 1, 'January', 1, 2021, 2020, 0, 1, 'winter')\n",
      "(376, datetime.date(2021, 1, 10), 10, 10, 1, 1, 'January', 1, 2021, 2020, 0, 1, 'winter')\n",
      "(377, datetime.date(2021, 1, 11), 11, 11, 2, 1, 'January', 1, 2021, 2020, 0, 0, 'winter')\n",
      "(378, datetime.date(2021, 1, 12), 12, 12, 2, 1, 'January', 1, 2021, 2020, 0, 0, 'winter')\n",
      "(379, datetime.date(2021, 1, 13), 13, 13, 2, 1, 'January', 1, 2021, 2020, 0, 0, 'winter')\n",
      "(380, datetime.date(2021, 1, 14), 14, 14, 2, 1, 'January', 1, 2021, 2020, 0, 0, 'winter')\n",
      "(381, datetime.date(2021, 1, 15), 15, 15, 2, 1, 'January', 1, 2021, 2020, 0, 0, 'winter')\n",
      "(382, datetime.date(2021, 1, 16), 16, 16, 2, 1, 'January', 1, 2021, 2020, 0, 1, 'winter')\n",
      "(383, datetime.date(2021, 1, 17), 17, 17, 2, 1, 'January', 1, 2021, 2020, 0, 1, 'winter')\n",
      "(384, datetime.date(2021, 1, 18), 18, 18, 3, 1, 'January', 1, 2021, 2020, 1, 0, 'winter')\n",
      "(385, datetime.date(2021, 1, 19), 19, 19, 3, 1, 'January', 1, 2021, 2020, 0, 0, 'winter')\n",
      "(386, datetime.date(2021, 1, 20), 20, 20, 3, 1, 'January', 1, 2021, 2020, 0, 0, 'winter')\n",
      "(387, datetime.date(2021, 1, 21), 21, 21, 3, 1, 'January', 1, 2021, 2020, 0, 0, 'winter')\n",
      "(388, datetime.date(2021, 1, 22), 22, 22, 3, 1, 'January', 1, 2021, 2020, 0, 0, 'winter')\n",
      "(389, datetime.date(2021, 1, 23), 23, 23, 3, 1, 'January', 1, 2021, 2020, 0, 1, 'winter')\n",
      "(390, datetime.date(2021, 1, 24), 24, 24, 3, 1, 'January', 1, 2021, 2020, 0, 1, 'winter')\n",
      "(391, datetime.date(2021, 1, 25), 25, 25, 4, 1, 'January', 1, 2021, 2020, 0, 0, 'winter')\n"
     ]
    }
   ],
   "source": [
    "datamart_cursor.execute(\n",
    "    \"SELECT * FROM {db}.dates WHERE date_key > {starting_key} LIMIT 25\".format(\n",
    "        db=DATABASE_NAME, starting_key=starting_key\n",
    "    )\n",
    ")\n",
    "for row in datamart_cursor.fetchall():\n",
    "    print(row)"
   ]
  },
  {
   "cell_type": "markdown",
   "id": "a0eb6589-093b-42f2-bf15-37f59dd5d9e0",
   "metadata": {},
   "source": [
    "### Ingest Team 7 data into staging table"
   ]
  },
  {
   "cell_type": "code",
   "execution_count": 12,
   "id": "003cc565-74e2-4b7b-84d2-8b91d975543d",
   "metadata": {},
   "outputs": [],
   "source": [
    "begin_date = \"2021-01-01\"\n",
    "end_date = \"2021-06-30\"\n",
    "team7_staging_table = \"team7.purchases_2021\"\n",
    "\n",
    "ingest_team7_data: bool = False\n",
    "\n",
    "if ingest_team7_data:\n",
    "    # create 2021 staging table in datamart database\n",
    "    datamart_cursor.execute(\"DROP TABLE IF EXISTS {table}\".format(table=team7_staging_table))\n",
    "    datamart_cursor.execute(\n",
    "        \"\"\"\n",
    "        CREATE TABLE {table}\n",
    "        (\n",
    "            id INT PRIMARY KEY NOT NULL,\n",
    "            Date DATE NOT NULL,\n",
    "            `Customer Number` BIGINT UNSIGNED NOT NULL,\n",
    "            SKU INT UNSIGNED NOT NULL,\n",
    "            `Sale Price` DOUBLE UNSIGNED NOT NULL,\n",
    "            `Items Left` INT UNSIGNED NOT NULL,\n",
    "            `Cases Purchased` INT UNSIGNED NOT NULL\n",
    "        )\n",
    "        \"\"\".format(\n",
    "            table=team7_staging_table\n",
    "        )\n",
    "    )\n",
    "    \n",
    "    with open(\"/home/jason/finalPurchaseList2021.csv\") as csv_file:\n",
    "        csv_reader = DictReader(csv_file)\n",
    "        count = 0\n",
    "        for row in csv_reader:\n",
    "            count = count + 1\n",
    "            result = datamart_cursor.execute(\n",
    "                \"\"\"\n",
    "                INSERT INTO {table} (\n",
    "                    id, Date, `Customer Number`, SKU, `Sale Price`, `Items Left`, `Cases Purchased`\n",
    "                ) VALUES (?, ?, ?, ?, ?, ?, ?)\n",
    "                \"\"\".format(\n",
    "                    table=team7_staging_table\n",
    "                ),\n",
    "                (\n",
    "                    row[''],\n",
    "                    row['Date'],\n",
    "                    row['Customer Number'],\n",
    "                    row['SKU'],\n",
    "                    row['Sale Price'],\n",
    "                    row['Items Left'],\n",
    "                    row['Cases Purchased'],\n",
    "                ),\n",
    "            )\n",
    "            if count % 100000 == 0:\n",
    "                datamart_connection.commit()\n",
    "            if count % 1000000 == 0:\n",
    "                print(count)\n",
    "    datamart_connection.commit()"
   ]
  },
  {
   "cell_type": "code",
   "execution_count": 13,
   "id": "3823b037-e8d0-4112-9811-3dfe559aaec3",
   "metadata": {},
   "outputs": [
    {
     "name": "stdout",
     "output_type": "stream",
     "text": [
      "Team 7 transaction count for 2020: 18,956,930\n",
      "Team 7 transaction count for 2021: 9,384,853\n"
     ]
    }
   ],
   "source": [
    "datamart_cursor.execute(\"SELECT COUNT(*) FROM team7.purchases\")\n",
    "print(\"Team 7 transaction count for 2020: {:,}\".format(datamart_cursor.fetchall()[0][0]))\n",
    "datamart_cursor.execute(\"SELECT COUNT(*) FROM team7.purchases_2021\")\n",
    "print(\"Team 7 transaction count for 2021: {:,}\".format(datamart_cursor.fetchall()[0][0]))"
   ]
  },
  {
   "cell_type": "markdown",
   "id": "d2cb5e51-c59c-4c77-980d-0cb8d357c5f6",
   "metadata": {},
   "source": [
    "### Add Team 7 data to daily sales fact table"
   ]
  },
  {
   "cell_type": "code",
   "execution_count": 14,
   "id": "aed1ba18-a02b-4c99-9ee2-00d5a71ea80c",
   "metadata": {},
   "outputs": [],
   "source": [
    "regen_sales_facts_daily_level: bool = False\n",
    "\n",
    "if regen_sales_facts_daily_level:\n",
    "    datamart_cursor.execute(\n",
    "        \"\"\"\n",
    "        INSERT INTO {db}.sales_facts_daily_level (date_key, product_key, store_key, number_sold_today, cost_of_items_sold, sales_total, gross_profit)\n",
    "        SELECT date_key, product_key, store_key, number_sold_today, cost_of_items_sold, sales_total, gross_profit FROM\n",
    "        (SELECT * FROM \n",
    "        (SELECT t.*, product_dimension.product_key, number_sold_today * base_price AS cost_of_items_sold, sales_total - (number_sold_today * base_price) as gross_profit FROM\n",
    "            (SELECT purchases_2021.*, COUNT(*) AS number_sold_today, SUM(`Sale Price`) AS sales_total, base_price\n",
    "            FROM team7.purchases_2021\n",
    "            JOIN {db}.product_catalog ON purchases_2021.sku = product_catalog.sku\n",
    "            GROUP BY sku, Date) t\n",
    "            JOIN {db}.product_dimension ON t.sku = product_dimension.sku) t\n",
    "        JOIN {db}.dates ON t.Date = dates.datetime) t\n",
    "        JOIN {db}.stores ON store_key = 7\n",
    "        \"\"\".format(\n",
    "            db=DATABASE_NAME\n",
    "        )\n",
    "    )\n",
    "    datamart_connection.commit()"
   ]
  },
  {
   "cell_type": "code",
   "execution_count": 15,
   "id": "4349f3e0-7e58-4f59-bb03-64e603da2986",
   "metadata": {},
   "outputs": [
    {
     "name": "stdout",
     "output_type": "stream",
     "text": [
      "Team 7 daily facts count for 2020: 741,675\n",
      "Team 7 daily facts count for 2021: 366,783\n"
     ]
    }
   ],
   "source": [
    "datamart_cursor.execute(\n",
    "    \"\"\"\n",
    "    SELECT COUNT(*) FROM {db}.sales_facts_daily_level\n",
    "    JOIN {db}.dates ON sales_facts_daily_level.date_key = dates.date_key\n",
    "    WHERE year = 2020 AND store_key = 7\n",
    "    \"\"\".format(\n",
    "        db=DATABASE_NAME\n",
    "    )\n",
    ")\n",
    "print(\"Team 7 daily facts count for 2020: {:,}\".format(datamart_cursor.fetchall()[0][0]))\n",
    "\n",
    "datamart_cursor.execute(\n",
    "    \"\"\"\n",
    "    SELECT COUNT(*) FROM {db}.sales_facts_daily_level\n",
    "    JOIN {db}.dates ON sales_facts_daily_level.date_key = dates.date_key\n",
    "    WHERE year = 2021 AND store_key = 7\n",
    "    \"\"\".format(\n",
    "        db=DATABASE_NAME\n",
    "    )\n",
    ")\n",
    "print(\"Team 7 daily facts count for 2021: {:,}\".format(datamart_cursor.fetchall()[0][0]))"
   ]
  },
  {
   "cell_type": "markdown",
   "id": "dbb5eaaa-eb22-44d2-b789-9a7d7e90291e",
   "metadata": {},
   "source": [
    "### Ingest Team 8 data into staging table"
   ]
  },
  {
   "cell_type": "code",
   "execution_count": 16,
   "id": "bc339b4f-a189-480d-bbff-2b6606511c6c",
   "metadata": {},
   "outputs": [],
   "source": [
    "team8_staging_table = \"team8.transactions_2021\"\n",
    "\n",
    "ingest_team8_data: bool = False\n",
    "\n",
    "if ingest_team8_data:\n",
    "    # create 2021 staging table in datamart database\n",
    "    datamart_cursor.execute(\"DROP TABLE IF EXISTS {table}\".format(table=team8_staging_table))\n",
    "    datamart_cursor.execute(\n",
    "        \"\"\"\n",
    "        CREATE TABLE {table}\n",
    "        (\n",
    "            id INT PRIMARY KEY NOT NULL,\n",
    "            transaction_id BIGINT UNSIGNED NOT NULL,\n",
    "            customer_id BIGINT UNSIGNED NOT NULL,\n",
    "            sku INT UNSIGNED NOT NULL,\n",
    "            sale_price DECIMAL(65,2) UNSIGNED NOT NULL,\n",
    "            transaction_date DATE NOT NULL,\n",
    "            items_left INT UNSIGNED NOT NULL,\n",
    "            total_cases_ordered INT UNSIGNED NOT NULL\n",
    "        )\n",
    "        \"\"\".format(\n",
    "            table=team8_staging_table\n",
    "        )\n",
    "    )\n",
    "\n",
    "    # query for 2021 transactions from Team 8 database\n",
    "    team8_cursor.execute(\n",
    "        \"SELECT * FROM transactions WHERE transaction_date BETWEEN '{begin_date}' AND '{end_date}'\".format(\n",
    "            begin_date=begin_date, end_date=end_date\n",
    "        )\n",
    "    )\n",
    "\n",
    "    count = 0\n",
    "    for transaction in team8_cursor:\n",
    "        count = count + 1\n",
    "        datamart_cursor.execute(\n",
    "            \"\"\"\n",
    "            INSERT INTO {table} (\n",
    "                id, transaction_id, customer_id, sku, sale_price,\n",
    "                transaction_date, items_left, total_cases_ordered\n",
    "            ) VALUES (?, ?, ?, ?, ?, ?, ?, ?)\n",
    "            \"\"\".format(\n",
    "                table=team8_staging_table\n",
    "            ),\n",
    "            (\n",
    "                transaction[0],\n",
    "                transaction[1],\n",
    "                transaction[2],\n",
    "                transaction[3],\n",
    "                transaction[4],\n",
    "                transaction[5],\n",
    "                transaction[6],\n",
    "                transaction[7],\n",
    "            ),\n",
    "        )\n",
    "        if count % 100000 == 0:\n",
    "            datamart_connection.commit()\n",
    "        if count % 1000000 == 0:\n",
    "            print(count)\n",
    "    datamart_connection.commit()"
   ]
  },
  {
   "cell_type": "code",
   "execution_count": 17,
   "id": "26720139-58cf-4912-9541-0a370b9251ca",
   "metadata": {},
   "outputs": [
    {
     "name": "stdout",
     "output_type": "stream",
     "text": [
      "Team 8 transaction count for 2020: 19,403,124\n",
      "Team 8 transaction count for 2021: 9,584,035\n"
     ]
    }
   ],
   "source": [
    "datamart_cursor.execute(\"SELECT COUNT(*) FROM team8.transactions\")\n",
    "print(\"Team 8 transaction count for 2020: {:,}\".format(datamart_cursor.fetchall()[0][0]))\n",
    "datamart_cursor.execute(\"SELECT COUNT(*) FROM team8.transactions_2021\")\n",
    "print(\"Team 8 transaction count for 2021: {:,}\".format(datamart_cursor.fetchall()[0][0]))"
   ]
  },
  {
   "cell_type": "markdown",
   "id": "56cf481d-6e1c-4de6-993b-0dbe690661d9",
   "metadata": {},
   "source": [
    "### Add Team 8 data to daily sales fact table"
   ]
  },
  {
   "cell_type": "code",
   "execution_count": 18,
   "id": "62ac8582-e2ed-480d-9890-7ae0c5d03778",
   "metadata": {},
   "outputs": [],
   "source": [
    "regen_sales_facts_daily_level: bool = False\n",
    "\n",
    "if regen_sales_facts_daily_level:\n",
    "    datamart_cursor.execute(\n",
    "        \"\"\"\n",
    "        INSERT INTO {db}.sales_facts_daily_level (date_key, product_key, store_key, number_sold_today, cost_of_items_sold, sales_total, gross_profit)\n",
    "        SELECT date_key, product_key, store_key, number_sold_today, cost_of_items_sold, sales_total, gross_profit FROM\n",
    "        (SELECT * FROM \n",
    "        (SELECT t.*, product_dimension.product_key, number_sold_today * base_price AS cost_of_items_sold, sales_total - (number_sold_today * base_price) as gross_profit FROM\n",
    "            (SELECT transactions_2021.*, COUNT(*) AS number_sold_today, SUM(sale_price) AS sales_total, base_price\n",
    "            FROM team8.transactions_2021\n",
    "            JOIN {db}.product_catalog ON transactions_2021.sku = product_catalog.sku\n",
    "            GROUP BY sku, transaction_date) t\n",
    "            JOIN {db}.product_dimension ON t.sku = product_dimension.sku) t\n",
    "        JOIN {db}.dates ON t.transaction_date = dates.datetime) t\n",
    "        JOIN {db}.stores ON store_key = 8\n",
    "        \"\"\".format(\n",
    "            db=DATABASE_NAME\n",
    "        )\n",
    "    )\n",
    "    datamart_connection.commit()"
   ]
  },
  {
   "cell_type": "code",
   "execution_count": 19,
   "id": "88d1f88e-2bbc-475a-a9f4-5fe61e6a50c1",
   "metadata": {},
   "outputs": [
    {
     "name": "stdout",
     "output_type": "stream",
     "text": [
      "Team 8 daily facts count for 2020: 741,412\n",
      "Team 8 daily facts count for 2021: 366,690\n"
     ]
    }
   ],
   "source": [
    "datamart_cursor.execute(\n",
    "    \"\"\"\n",
    "    SELECT COUNT(*) FROM {db}.sales_facts_daily_level\n",
    "    JOIN {db}.dates ON sales_facts_daily_level.date_key = dates.date_key\n",
    "    WHERE year = 2020 AND store_key = 8\n",
    "    \"\"\".format(\n",
    "        db=DATABASE_NAME\n",
    "    )\n",
    ")\n",
    "print(\"Team 8 daily facts count for 2020: {:,}\".format(datamart_cursor.fetchall()[0][0]))\n",
    "\n",
    "datamart_cursor.execute(\n",
    "    \"\"\"\n",
    "    SELECT COUNT(*) FROM {db}.sales_facts_daily_level\n",
    "    JOIN {db}.dates ON sales_facts_daily_level.date_key = dates.date_key\n",
    "    WHERE year = 2021 AND store_key = 8\n",
    "    \"\"\".format(\n",
    "        db=DATABASE_NAME\n",
    "    )\n",
    ")\n",
    "print(\"Team 8 daily facts count for 2021: {:,}\".format(datamart_cursor.fetchall()[0][0]))"
   ]
  },
  {
   "cell_type": "markdown",
   "id": "d34e6e99-21d8-435e-9b8f-d1f64aff5f70",
   "metadata": {},
   "source": [
    "# Part 2 - Report generator"
   ]
  },
  {
   "cell_type": "code",
   "execution_count": 22,
   "id": "30311d89-3611-49c2-8d4c-d8d28a5ba8a4",
   "metadata": {},
   "outputs": [],
   "source": [
    "def generate_sales_report(\n",
    "    begin_date: Union[date, str] = date(2000, 1, 1), end_date: Union[date, str] = date(2100, 1, 1), store: int = 0, department: str = \"%\"\n",
    ") -> str:\n",
    "    store_key: str = str(store) if store > 0 else \"%\"\n",
    "\n",
    "    if isinstance(begin_date, str):\n",
    "        begin_date = datetime.strptime(begin_date, \"%Y-%m-%d\").date()\n",
    "        \n",
    "    if isinstance(end_date, str):\n",
    "        end_date = datetime.strptime(end_date, \"%Y-%m-%d\").date()\n",
    "    \n",
    "    datamart_cursor.execute(\n",
    "        \"\"\"\n",
    "        SELECT store, department, CONVERT(CONCAT('$', FORMAT(sales_total, 2)) USING latin1) AS 'total sales',\n",
    "        CONVERT(CONCAT('$', FORMAT(gross_profit, 2)) USING latin1) AS 'total profit' FROM\n",
    "        ((SELECT IFNULL(store_key, 'ALL') AS store, IFNULL(product_department, 'TOTAL') AS department,\n",
    "            SUM(sales_total) AS sales_total,\n",
    "            SUM(gross_profit) AS gross_profit\n",
    "            FROM {db}.{fact_table}\n",
    "        JOIN {db}.dates ON {fact_table}.date_key = dates.date_key\n",
    "        JOIN {db}.product_dimension ON {fact_table}.product_key = product_dimension.product_key\n",
    "        WHERE datetime BETWEEN '{begin_date}' AND '{end_date}' AND product_department LIKE \"{department}\" AND store_key LIKE \"{store_key}\"\n",
    "        GROUP BY product_department, store_key WITH ROLLUP)\n",
    "        UNION\n",
    "        (SELECT store_key, \"TOTAL\", SUM(sales_total), SUM(gross_profit) FROM {db}.{fact_table}\n",
    "        JOIN {db}.dates ON {fact_table}.date_key = dates.date_key\n",
    "        WHERE datetime BETWEEN '{begin_date}' AND '{end_date}' AND store_key LIKE \"{store_key}\"\n",
    "        GROUP BY store_key)) t\n",
    "        WHERE department LIKE \"{department}\" AND store LIKE \"{store_key}\"\n",
    "        ORDER BY department, store\n",
    "        \"\"\".format(\n",
    "            db=DATABASE_NAME,\n",
    "            fact_table=\"sales_facts_daily_level\",\n",
    "            begin_date=begin_date,\n",
    "            end_date=end_date,\n",
    "            department=department,\n",
    "            store_key=store_key,\n",
    "        )\n",
    "    )\n",
    "\n",
    "    colnames = [desc[0] for desc in datamart_cursor.description]\n",
    "    tuples = datamart_cursor.fetchall()\n",
    "    lists = [list(x) for x in tuples] if len(tuples) > 0 else [[\"N/A\", \"N/A\", \"N/A\", \"N/A\"]]\n",
    "    sales_table = columnar(\n",
    "        lists,\n",
    "        colnames,\n",
    "        no_borders=True,\n",
    "        terminal_width=100,\n",
    "    )\n",
    "    return sales_table\n",
    "\n",
    "\n",
    "def generate_quarterly_sales_report(quarter: int, year: int, store: int = 0, department: str = \"%\") -> str:\n",
    "    period = pd.PeriodIndex(year=[year], quarter=quarter)\n",
    "    begin_date = period.array[0].start_time.to_pydatetime().date()\n",
    "    end_date = period.array[0].end_time.to_pydatetime().date()\n",
    "    return generate_sales_report(store=store, department=department, begin_date=begin_date, end_date=end_date)\n"
   ]
  },
  {
   "cell_type": "code",
   "execution_count": 23,
   "id": "fb36f006-eefa-4b07-98cd-e6d6475d1bde",
   "metadata": {},
   "outputs": [
    {
     "name": "stdout",
     "output_type": "stream",
     "text": [
      "          \n",
      "  STORE  DEPARTMENT          TOTAL SALES     TOTAL PROFIT   \n",
      "    \n",
      "  7      Baby Food           $34,864.58      $2,281.03      \n",
      "  7      Baked Goods         $676,111.69     $44,228.31     \n",
      "  7      Baking Products     $747,637.34     $48,910.85     \n",
      "  7      Beverages           $3,877,280.38   $253,654.27    \n",
      "  7      Breakfast Foods     $154,488.91     $10,112.49     \n",
      "  7      Canned Foods        $737,098.37     $48,221.20     \n",
      "  7      Dairy               $780,730.85     $51,076.88     \n",
      "  7      Deli                $495,180.49     $32,395.24     \n",
      "  7      Eggs                $14,467.24      $946.48        \n",
      "  7      Frozen Foods        $1,237,839.39   $80,977.08     \n",
      "  7      Health and Hygiene  $338,107.59     $22,119.39     \n",
      "  7      Household           $505,838.34     $33,098.76     \n",
      "  7      Meat                $183,594.72     $12,010.78     \n",
      "  7      Pet Foods           $8,644.92       $565.64        \n",
      "  7      Produce             $1,410,345.05   $92,265.66     \n",
      "  7      Seafood             $23,781.61      $1,555.67      \n",
      "  7      Snack Foods         $3,927,435.30   $256,937.85    \n",
      "  7      Starchy Foods       $402,141.88     $26,310.59     \n",
      "  7      TOTAL               $15,555,588.65  $1,017,668.17  \n",
      "\n",
      "          \n",
      "  STORE  DEPARTMENT          TOTAL SALES     TOTAL PROFIT   \n",
      "    \n",
      "  7      Baby Food           $34,892.24      $2,282.79      \n",
      "  7      Baked Goods         $679,250.33     $44,433.85     \n",
      "  7      Baking Products     $753,391.39     $49,287.07     \n",
      "  7      Beverages           $3,888,466.60   $254,386.21    \n",
      "  7      Breakfast Foods     $154,249.88     $10,096.54     \n",
      "  7      Canned Foods        $740,051.39     $48,414.48     \n",
      "  7      Dairy               $785,336.72     $51,378.34     \n",
      "  7      Deli                $496,485.26     $32,480.78     \n",
      "  7      Eggs                $14,512.81      $949.43        \n",
      "  7      Frozen Foods        $1,246,239.94   $81,527.31     \n",
      "  7      Health and Hygiene  $338,989.75     $22,177.15     \n",
      "  7      Household           $511,006.14     $33,436.65     \n",
      "  7      Meat                $188,264.25     $12,316.17     \n",
      "  7      Pet Foods           $8,492.49       $555.67        \n",
      "  7      Produce             $1,418,411.42   $92,793.43     \n",
      "  7      Seafood             $23,703.01      $1,550.60      \n",
      "  7      Snack Foods         $3,948,111.35   $258,289.76    \n",
      "  7      Starchy Foods       $402,307.05     $26,321.92     \n",
      "  7      TOTAL               $15,632,162.02  $1,022,678.15  \n",
      "\n",
      "          \n",
      "  STORE  DEPARTMENT          TOTAL SALES     TOTAL PROFIT   \n",
      "    \n",
      "  8      Baby Food           $35,003.27      $2,295.24      \n",
      "  8      Baked Goods         $690,226.05     $45,299.59     \n",
      "  8      Baking Products     $768,222.92     $50,231.67     \n",
      "  8      Beverages           $3,974,548.31   $260,066.94    \n",
      "  8      Breakfast Foods     $154,288.68     $10,158.51     \n",
      "  8      Canned Foods        $759,305.77     $49,727.55     \n",
      "  8      Dairy               $798,812.53     $52,470.56     \n",
      "  8      Deli                $508,115.93     $33,238.34     \n",
      "  8      Eggs                $15,012.28      $985.81        \n",
      "  8      Frozen Foods        $1,274,055.75   $83,401.14     \n",
      "  8      Health and Hygiene  $346,525.56     $22,632.58     \n",
      "  8      Household           $515,114.43     $33,690.64     \n",
      "  8      Meat                $188,416.81     $12,290.64     \n",
      "  8      Pet Foods           $8,821.95       $582.60        \n",
      "  8      Produce             $1,455,470.89   $95,289.79     \n",
      "  8      Seafood             $24,295.02      $1,616.15      \n",
      "  8      Snack Foods         $4,045,809.35   $265,027.94    \n",
      "  8      Starchy Foods       $410,637.81     $26,988.95     \n",
      "  8      TOTAL               $15,972,683.31  $1,045,994.64  \n",
      "\n",
      "          \n",
      "  STORE  DEPARTMENT          TOTAL SALES     TOTAL PROFIT   \n",
      "    \n",
      "  8      Baby Food           $34,577.22      $2,268.41      \n",
      "  8      Baked Goods         $688,759.29     $45,203.79     \n",
      "  8      Baking Products     $766,863.36     $50,143.33     \n",
      "  8      Beverages           $3,970,075.86   $259,775.52    \n",
      "  8      Breakfast Foods     $154,728.66     $10,187.24     \n",
      "  8      Canned Foods        $757,110.83     $49,580.65     \n",
      "  8      Dairy               $795,949.16     $52,283.09     \n",
      "  8      Deli                $507,379.59     $33,191.46     \n",
      "  8      Eggs                $14,587.98      $957.95        \n",
      "  8      Frozen Foods        $1,267,476.18   $82,969.52     \n",
      "  8      Health and Hygiene  $347,524.04     $22,698.59     \n",
      "  8      Household           $512,190.16     $33,499.23     \n",
      "  8      Meat                $188,383.56     $12,288.69     \n",
      "  8      Pet Foods           $8,775.63       $579.51        \n",
      "  8      Produce             $1,449,634.60   $94,906.03     \n",
      "  8      Seafood             $23,987.69      $1,595.95      \n",
      "  8      Snack Foods         $4,035,800.42   $264,373.07    \n",
      "  8      Starchy Foods       $410,651.40     $26,988.67     \n",
      "  8      TOTAL               $15,934,455.63  $1,043,490.70  \n",
      "\n"
     ]
    }
   ],
   "source": [
    "# print(generate_sales_report(begin_date=\"2020-1-1\", end_date=\"2021-12-31\"))\n",
    "\n",
    "print(generate_quarterly_sales_report(quarter=2, year=2020, store=7))\n",
    "print(generate_quarterly_sales_report(quarter=2, year=2021, store=7))\n",
    "\n",
    "print(generate_quarterly_sales_report(quarter=2, year=2020, store=8))\n",
    "print(generate_quarterly_sales_report(quarter=2, year=2021, store=8))"
   ]
  }
 ],
 "metadata": {
  "kernelspec": {
   "display_name": "Python 3 (ipykernel)",
   "language": "python",
   "name": "python3"
  },
  "language_info": {
   "codemirror_mode": {
    "name": "ipython",
    "version": 3
   },
   "file_extension": ".py",
   "mimetype": "text/x-python",
   "name": "python",
   "nbconvert_exporter": "python",
   "pygments_lexer": "ipython3",
   "version": "3.8.10"
  }
 },
 "nbformat": 4,
 "nbformat_minor": 5
}
